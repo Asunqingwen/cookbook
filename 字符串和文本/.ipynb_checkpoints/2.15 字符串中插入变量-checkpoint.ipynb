{
 "cells": [
  {
   "cell_type": "markdown",
   "metadata": {},
   "source": [
    "## 问题\n",
    "你想创建一个内嵌变量的字符串，变量被它的值所表示的字符串替换掉。\n",
    "## 解决方案\n",
    "Python并没有对在字符串中简单替换变量值提供直接的支持。 但是通过使用字符串的 **format() 方法**来解决这个问题。比如："
   ]
  },
  {
   "cell_type": "code",
   "execution_count": 1,
   "metadata": {},
   "outputs": [
    {
     "data": {
      "text/plain": [
       "'Guido has 37 messages'"
      ]
     },
     "execution_count": 1,
     "metadata": {},
     "output_type": "execute_result"
    }
   ],
   "source": [
    "s = '{name} has {n} messages'\n",
    "s.format(name='Guido',n=37)"
   ]
  },
  {
   "cell_type": "markdown",
   "metadata": {},
   "source": [
    "或者，如果要被替换的变量能在**变量域**中找到， 那么你可以结合使用 **format_map() 和 vars()** 。就像下面这样："
   ]
  },
  {
   "cell_type": "code",
   "execution_count": 2,
   "metadata": {},
   "outputs": [
    {
     "data": {
      "text/plain": [
       "'Guido has 37 messages'"
      ]
     },
     "execution_count": 2,
     "metadata": {},
     "output_type": "execute_result"
    }
   ],
   "source": [
    "name = 'Guido'\n",
    "n = 37\n",
    "s.format_map(vars())"
   ]
  },
  {
   "cell_type": "code",
   "execution_count": 3,
   "metadata": {},
   "outputs": [
    {
     "name": "stdout",
     "output_type": "stream",
     "text": [
      "{'__name__': '__main__', '__doc__': 'Automatically created module for IPython interactive environment', '__package__': None, '__loader__': None, '__spec__': None, '__builtin__': <module 'builtins' (built-in)>, '__builtins__': <module 'builtins' (built-in)>, '_ih': ['', \"s = '{name} has {n} messages'\\ns.format(name='Guido',n=37)\", \"name = 'Guido'\\nn = 37\\ns.format_map(vars())\", 'print(vars())'], '_oh': {1: 'Guido has 37 messages', 2: 'Guido has 37 messages'}, '_dh': ['D:\\\\PythonProject\\\\cookbook\\\\字符串和文本'], 'In': ['', \"s = '{name} has {n} messages'\\ns.format(name='Guido',n=37)\", \"name = 'Guido'\\nn = 37\\ns.format_map(vars())\", 'print(vars())'], 'Out': {1: 'Guido has 37 messages', 2: 'Guido has 37 messages'}, 'get_ipython': <bound method InteractiveShell.get_ipython of <ipykernel.zmqshell.ZMQInteractiveShell object at 0x000002CE9E99AB08>>, 'exit': <IPython.core.autocall.ZMQExitAutocall object at 0x000002CE9EA82048>, 'quit': <IPython.core.autocall.ZMQExitAutocall object at 0x000002CE9EA82048>, '_': 'Guido has 37 messages', '__': 'Guido has 37 messages', '___': '', '_i': \"name = 'Guido'\\nn = 37\\ns.format_map(vars())\", '_ii': \"s = '{name} has {n} messages'\\ns.format(name='Guido',n=37)\", '_iii': '', '_i1': \"s = '{name} has {n} messages'\\ns.format(name='Guido',n=37)\", 's': '{name} has {n} messages', '_1': 'Guido has 37 messages', '_i2': \"name = 'Guido'\\nn = 37\\ns.format_map(vars())\", 'name': 'Guido', 'n': 37, '_2': 'Guido has 37 messages', '_i3': 'print(vars())'}\n"
     ]
    }
   ],
   "source": [
    "print(vars())"
   ]
  },
  {
   "cell_type": "markdown",
   "metadata": {},
   "source": [
    "vars() 还有一个有意思的特性就是它也**适用于对象实例**。比如："
   ]
  },
  {
   "cell_type": "code",
   "execution_count": 4,
   "metadata": {},
   "outputs": [],
   "source": [
    "class Info:\n",
    "    def __init__(self,name,n):\n",
    "        self.name = name\n",
    "        self.n = n"
   ]
  },
  {
   "cell_type": "code",
   "execution_count": 5,
   "metadata": {},
   "outputs": [
    {
     "data": {
      "text/plain": [
       "'Guido has 37 messages'"
      ]
     },
     "execution_count": 5,
     "metadata": {},
     "output_type": "execute_result"
    }
   ],
   "source": [
    "a = Info('Guido',37)\n",
    "s.format_map(vars(a))"
   ]
  },
  {
   "cell_type": "markdown",
   "metadata": {},
   "source": [
    "format 和 format_map() 的一个缺陷就是它们并不能很好的**处理变量缺失的情况**，比如："
   ]
  },
  {
   "cell_type": "code",
   "execution_count": 6,
   "metadata": {},
   "outputs": [
    {
     "ename": "KeyError",
     "evalue": "'n'",
     "output_type": "error",
     "traceback": [
      "\u001b[1;31m---------------------------------------------------------------------------\u001b[0m",
      "\u001b[1;31mKeyError\u001b[0m                                  Traceback (most recent call last)",
      "\u001b[1;32m<ipython-input-6-78f2bd676fa0>\u001b[0m in \u001b[0;36m<module>\u001b[1;34m\u001b[0m\n\u001b[1;32m----> 1\u001b[1;33m \u001b[0ms\u001b[0m\u001b[1;33m.\u001b[0m\u001b[0mformat\u001b[0m\u001b[1;33m(\u001b[0m\u001b[0mname\u001b[0m\u001b[1;33m=\u001b[0m\u001b[1;34m'Guido'\u001b[0m\u001b[1;33m)\u001b[0m\u001b[1;33m\u001b[0m\u001b[1;33m\u001b[0m\u001b[0m\n\u001b[0m",
      "\u001b[1;31mKeyError\u001b[0m: 'n'"
     ]
    }
   ],
   "source": [
    "s.format(name='Guido')"
   ]
  },
  {
   "cell_type": "markdown",
   "metadata": {},
   "source": [
    "一种避免这种错误的方法是另外**定义一个含有 __missing__() 方法的字典对象**，就像下面这样："
   ]
  },
  {
   "cell_type": "code",
   "execution_count": 7,
   "metadata": {},
   "outputs": [],
   "source": [
    "class safesub(dict):\n",
    "    #防止key找不到\n",
    "    def __missing__(self,key):\n",
    "        return '{' + key + '}'"
   ]
  },
  {
   "cell_type": "markdown",
   "metadata": {},
   "source": [
    "现在你可以利用这个类包装输入后传递给 format_map() ："
   ]
  },
  {
   "cell_type": "code",
   "execution_count": 9,
   "metadata": {},
   "outputs": [],
   "source": [
    "del n"
   ]
  },
  {
   "cell_type": "code",
   "execution_count": 10,
   "metadata": {},
   "outputs": [
    {
     "data": {
      "text/plain": [
       "'Guido has {n} messages'"
      ]
     },
     "execution_count": 10,
     "metadata": {},
     "output_type": "execute_result"
    }
   ],
   "source": [
    "s.format_map(safesub(vars()))"
   ]
  },
  {
   "cell_type": "markdown",
   "metadata": {},
   "source": [
    "如果你发现自己在代码中频繁的执行这些步骤，你可以将变量替换步骤用一个工具函数封装起来。就像下面这样："
   ]
  },
  {
   "cell_type": "code",
   "execution_count": 11,
   "metadata": {},
   "outputs": [],
   "source": [
    "import sys"
   ]
  },
  {
   "cell_type": "code",
   "execution_count": 12,
   "metadata": {},
   "outputs": [],
   "source": [
    "def sub(text):\n",
    "    return text.format_map(safesub(sys._getframe(1).f_locals))"
   ]
  },
  {
   "cell_type": "markdown",
   "metadata": {},
   "source": [
    "现在你可以像下面这样写了："
   ]
  },
  {
   "cell_type": "code",
   "execution_count": 13,
   "metadata": {},
   "outputs": [],
   "source": [
    "name = 'Guido'"
   ]
  },
  {
   "cell_type": "code",
   "execution_count": 14,
   "metadata": {},
   "outputs": [],
   "source": [
    "n = 37"
   ]
  },
  {
   "cell_type": "code",
   "execution_count": 15,
   "metadata": {},
   "outputs": [
    {
     "name": "stdout",
     "output_type": "stream",
     "text": [
      "Hello Guido\n"
     ]
    }
   ],
   "source": [
    "print(sub('Hello {name}'))"
   ]
  },
  {
   "cell_type": "code",
   "execution_count": 16,
   "metadata": {},
   "outputs": [
    {
     "name": "stdout",
     "output_type": "stream",
     "text": [
      "You have 37 messages.\n"
     ]
    }
   ],
   "source": [
    "print(sub('You have {n} messages.'))"
   ]
  },
  {
   "cell_type": "code",
   "execution_count": 17,
   "metadata": {},
   "outputs": [
    {
     "name": "stdout",
     "output_type": "stream",
     "text": [
      "Your favorite color is {color}\n"
     ]
    }
   ],
   "source": [
    "print(sub('Your favorite color is {color}'))"
   ]
  },
  {
   "cell_type": "code",
   "execution_count": 18,
   "metadata": {},
   "outputs": [
    {
     "data": {
      "text/plain": [
       "<frame at 0x000002CE9E4B8C48, file 'c:\\\\users\\\\sqw12\\\\.virtualenvs\\\\cookbook-wjz76qry\\\\lib\\\\site-packages\\\\IPython\\\\core\\\\interactiveshell.py', line 3417, code run_code>"
      ]
     },
     "execution_count": 18,
     "metadata": {},
     "output_type": "execute_result"
    }
   ],
   "source": [
    "sys._getframe(1)"
   ]
  },
  {
   "cell_type": "code",
   "execution_count": 19,
   "metadata": {},
   "outputs": [
    {
     "data": {
      "text/plain": [
       "{'self': <ipykernel.zmqshell.ZMQInteractiveShell at 0x2ce9e99ab08>,\n",
       " 'code_obj': <code object <module> at 0x000002CE9FCFD930, file \"<ipython-input-19-7552f423cd10>\", line 1>,\n",
       " 'result': <ExecutionResult object at 2ce9fcb4788, execution_count=19 error_before_exec=None error_in_exec=None info=<ExecutionInfo object at 2cea006b988, raw_cell=\"sys._getframe(1).f_locals\" store_history=True silent=False shell_futures=True> result=None>,\n",
       " 'async_': False,\n",
       " '__tracebackhide__': '__ipython_bottom__',\n",
       " 'old_excepthook': <bound method IPKernelApp.excepthook of <ipykernel.kernelapp.IPKernelApp object at 0x000002CE9C0A5408>>,\n",
       " 'outflag': True}"
      ]
     },
     "execution_count": 19,
     "metadata": {},
     "output_type": "execute_result"
    }
   ],
   "source": [
    "sys._getframe(1).f_locals"
   ]
  },
  {
   "cell_type": "code",
   "execution_count": 20,
   "metadata": {},
   "outputs": [
    {
     "data": {
      "text/plain": [
       "{'__name__': '__main__',\n",
       " '__doc__': 'Automatically created module for IPython interactive environment',\n",
       " '__package__': None,\n",
       " '__loader__': None,\n",
       " '__spec__': None,\n",
       " '__builtin__': <module 'builtins' (built-in)>,\n",
       " '__builtins__': <module 'builtins' (built-in)>,\n",
       " '_ih': ['',\n",
       "  \"s = '{name} has {n} messages'\\ns.format(name='Guido',n=37)\",\n",
       "  \"name = 'Guido'\\nn = 37\\ns.format_map(vars())\",\n",
       "  'print(vars())',\n",
       "  'class Info:\\n    def __init__(self,name,n):\\n        self.name = name\\n        self.n = n',\n",
       "  \"a = Info('Guido',37)\\ns.format_map(vars(a))\",\n",
       "  \"s.format(name='Guido')\",\n",
       "  \"class safesub(dict):\\n    #防止key找不到\\n    def __missing__(self,key):\\n        return '{' + key + '}'\",\n",
       "  '现在你可以利用这个类包装输入后传递给 format_map() ：',\n",
       "  'del n',\n",
       "  's.format_map(safesub(vars()))',\n",
       "  'import sys',\n",
       "  'def sub(text):\\n    return text.format_map(safesub(sys._getframe(1).f_locals))',\n",
       "  \"name = 'Guido'\",\n",
       "  'n = 37',\n",
       "  \"print(sub('Hello {name}'))\",\n",
       "  \"print(sub('You have {n} messages.'))\",\n",
       "  \"print(sub('Your favorite color is {color}'))\",\n",
       "  'sys._getframe(1)',\n",
       "  'sys._getframe(1).f_locals',\n",
       "  'vars()'],\n",
       " '_oh': {1: 'Guido has 37 messages',\n",
       "  2: 'Guido has 37 messages',\n",
       "  5: 'Guido has 37 messages',\n",
       "  10: 'Guido has {n} messages',\n",
       "  18: <frame at 0x000002CE9E4B8C48, file 'c:\\\\users\\\\sqw12\\\\.virtualenvs\\\\cookbook-wjz76qry\\\\lib\\\\site-packages\\\\IPython\\\\core\\\\interactiveshell.py', line 3437, code run_code>,\n",
       "  19: {'self': <ipykernel.zmqshell.ZMQInteractiveShell at 0x2ce9e99ab08>,\n",
       "   'code_obj': <code object <module> at 0x000002CE9FCFD930, file \"<ipython-input-19-7552f423cd10>\", line 1>,\n",
       "   'result': <ExecutionResult object at 2ce9fcb4788, execution_count=19 error_before_exec=None error_in_exec=None info=<ExecutionInfo object at 2cea006b988, raw_cell=\"sys._getframe(1).f_locals\" store_history=True silent=False shell_futures=True> result={'self': <ipykernel.zmqshell.ZMQInteractiveShell object at 0x000002CE9E99AB08>, 'code_obj': <code object <module> at 0x000002CE9FCFD930, file \"<ipython-input-19-7552f423cd10>\", line 1>, 'result': <ExecutionResult object at 2ce9fcb4788, execution_count=19 error_before_exec=None error_in_exec=None info=<ExecutionInfo object at 2cea006b988, raw_cell=\"sys._getframe(1).f_locals\" store_history=True silent=False shell_futures=True> result={...}>, 'async_': False, '__tracebackhide__': '__ipython_bottom__', 'old_excepthook': <bound method IPKernelApp.excepthook of <ipykernel.kernelapp.IPKernelApp object at 0x000002CE9C0A5408>>, 'outflag': True}>,\n",
       "   'async_': False,\n",
       "   '__tracebackhide__': '__ipython_bottom__',\n",
       "   'old_excepthook': <bound method IPKernelApp.excepthook of <ipykernel.kernelapp.IPKernelApp object at 0x000002CE9C0A5408>>,\n",
       "   'outflag': True}},\n",
       " '_dh': ['D:\\\\PythonProject\\\\cookbook\\\\字符串和文本'],\n",
       " 'In': ['',\n",
       "  \"s = '{name} has {n} messages'\\ns.format(name='Guido',n=37)\",\n",
       "  \"name = 'Guido'\\nn = 37\\ns.format_map(vars())\",\n",
       "  'print(vars())',\n",
       "  'class Info:\\n    def __init__(self,name,n):\\n        self.name = name\\n        self.n = n',\n",
       "  \"a = Info('Guido',37)\\ns.format_map(vars(a))\",\n",
       "  \"s.format(name='Guido')\",\n",
       "  \"class safesub(dict):\\n    #防止key找不到\\n    def __missing__(self,key):\\n        return '{' + key + '}'\",\n",
       "  '现在你可以利用这个类包装输入后传递给 format_map() ：',\n",
       "  'del n',\n",
       "  's.format_map(safesub(vars()))',\n",
       "  'import sys',\n",
       "  'def sub(text):\\n    return text.format_map(safesub(sys._getframe(1).f_locals))',\n",
       "  \"name = 'Guido'\",\n",
       "  'n = 37',\n",
       "  \"print(sub('Hello {name}'))\",\n",
       "  \"print(sub('You have {n} messages.'))\",\n",
       "  \"print(sub('Your favorite color is {color}'))\",\n",
       "  'sys._getframe(1)',\n",
       "  'sys._getframe(1).f_locals',\n",
       "  'vars()'],\n",
       " 'Out': {1: 'Guido has 37 messages',\n",
       "  2: 'Guido has 37 messages',\n",
       "  5: 'Guido has 37 messages',\n",
       "  10: 'Guido has {n} messages',\n",
       "  18: <frame at 0x000002CE9E4B8C48, file 'c:\\\\users\\\\sqw12\\\\.virtualenvs\\\\cookbook-wjz76qry\\\\lib\\\\site-packages\\\\IPython\\\\core\\\\interactiveshell.py', line 3437, code run_code>,\n",
       "  19: {'self': <ipykernel.zmqshell.ZMQInteractiveShell at 0x2ce9e99ab08>,\n",
       "   'code_obj': <code object <module> at 0x000002CE9FCFD930, file \"<ipython-input-19-7552f423cd10>\", line 1>,\n",
       "   'result': <ExecutionResult object at 2ce9fcb4788, execution_count=19 error_before_exec=None error_in_exec=None info=<ExecutionInfo object at 2cea006b988, raw_cell=\"sys._getframe(1).f_locals\" store_history=True silent=False shell_futures=True> result={'self': <ipykernel.zmqshell.ZMQInteractiveShell object at 0x000002CE9E99AB08>, 'code_obj': <code object <module> at 0x000002CE9FCFD930, file \"<ipython-input-19-7552f423cd10>\", line 1>, 'result': <ExecutionResult object at 2ce9fcb4788, execution_count=19 error_before_exec=None error_in_exec=None info=<ExecutionInfo object at 2cea006b988, raw_cell=\"sys._getframe(1).f_locals\" store_history=True silent=False shell_futures=True> result={...}>, 'async_': False, '__tracebackhide__': '__ipython_bottom__', 'old_excepthook': <bound method IPKernelApp.excepthook of <ipykernel.kernelapp.IPKernelApp object at 0x000002CE9C0A5408>>, 'outflag': True}>,\n",
       "   'async_': False,\n",
       "   '__tracebackhide__': '__ipython_bottom__',\n",
       "   'old_excepthook': <bound method IPKernelApp.excepthook of <ipykernel.kernelapp.IPKernelApp object at 0x000002CE9C0A5408>>,\n",
       "   'outflag': True}},\n",
       " 'get_ipython': <bound method InteractiveShell.get_ipython of <ipykernel.zmqshell.ZMQInteractiveShell object at 0x000002CE9E99AB08>>,\n",
       " 'exit': <IPython.core.autocall.ZMQExitAutocall at 0x2ce9ea82048>,\n",
       " 'quit': <IPython.core.autocall.ZMQExitAutocall at 0x2ce9ea82048>,\n",
       " '_': {'self': <ipykernel.zmqshell.ZMQInteractiveShell at 0x2ce9e99ab08>,\n",
       "  'code_obj': <code object <module> at 0x000002CE9FCFD930, file \"<ipython-input-19-7552f423cd10>\", line 1>,\n",
       "  'result': <ExecutionResult object at 2ce9fcb4788, execution_count=19 error_before_exec=None error_in_exec=None info=<ExecutionInfo object at 2cea006b988, raw_cell=\"sys._getframe(1).f_locals\" store_history=True silent=False shell_futures=True> result={'self': <ipykernel.zmqshell.ZMQInteractiveShell object at 0x000002CE9E99AB08>, 'code_obj': <code object <module> at 0x000002CE9FCFD930, file \"<ipython-input-19-7552f423cd10>\", line 1>, 'result': <ExecutionResult object at 2ce9fcb4788, execution_count=19 error_before_exec=None error_in_exec=None info=<ExecutionInfo object at 2cea006b988, raw_cell=\"sys._getframe(1).f_locals\" store_history=True silent=False shell_futures=True> result={...}>, 'async_': False, '__tracebackhide__': '__ipython_bottom__', 'old_excepthook': <bound method IPKernelApp.excepthook of <ipykernel.kernelapp.IPKernelApp object at 0x000002CE9C0A5408>>, 'outflag': True}>,\n",
       "  'async_': False,\n",
       "  '__tracebackhide__': '__ipython_bottom__',\n",
       "  'old_excepthook': <bound method IPKernelApp.excepthook of <ipykernel.kernelapp.IPKernelApp object at 0x000002CE9C0A5408>>,\n",
       "  'outflag': True},\n",
       " '__': <frame at 0x000002CE9E4B8C48, file 'c:\\\\users\\\\sqw12\\\\.virtualenvs\\\\cookbook-wjz76qry\\\\lib\\\\site-packages\\\\IPython\\\\core\\\\interactiveshell.py', line 3437, code run_code>,\n",
       " '___': 'Guido has {n} messages',\n",
       " '_i': 'sys._getframe(1).f_locals',\n",
       " '_ii': 'sys._getframe(1)',\n",
       " '_iii': \"print(sub('Your favorite color is {color}'))\",\n",
       " '_i1': \"s = '{name} has {n} messages'\\ns.format(name='Guido',n=37)\",\n",
       " 's': '{name} has {n} messages',\n",
       " '_1': 'Guido has 37 messages',\n",
       " '_i2': \"name = 'Guido'\\nn = 37\\ns.format_map(vars())\",\n",
       " 'name': 'Guido',\n",
       " '_2': 'Guido has 37 messages',\n",
       " '_i3': 'print(vars())',\n",
       " '_i4': 'class Info:\\n    def __init__(self,name,n):\\n        self.name = name\\n        self.n = n',\n",
       " 'Info': __main__.Info,\n",
       " '_i5': \"a = Info('Guido',37)\\ns.format_map(vars(a))\",\n",
       " 'a': <__main__.Info at 0x2ce9fecd6c8>,\n",
       " '_5': 'Guido has 37 messages',\n",
       " '_i6': \"s.format(name='Guido')\",\n",
       " '_i7': \"class safesub(dict):\\n    #防止key找不到\\n    def __missing__(self,key):\\n        return '{' + key + '}'\",\n",
       " 'safesub': __main__.safesub,\n",
       " '_i8': '现在你可以利用这个类包装输入后传递给 format_map() ：',\n",
       " '_i9': 'del n',\n",
       " '_i10': 's.format_map(safesub(vars()))',\n",
       " '_10': 'Guido has {n} messages',\n",
       " '_i11': 'import sys',\n",
       " 'sys': <module 'sys' (built-in)>,\n",
       " '_i12': 'def sub(text):\\n    return text.format_map(safesub(sys._getframe(1).f_locals))',\n",
       " 'sub': <function __main__.sub(text)>,\n",
       " '_i13': \"name = 'Guido'\",\n",
       " '_i14': 'n = 37',\n",
       " 'n': 37,\n",
       " '_i15': \"print(sub('Hello {name}'))\",\n",
       " '_i16': \"print(sub('You have {n} messages.'))\",\n",
       " '_i17': \"print(sub('Your favorite color is {color}'))\",\n",
       " '_i18': 'sys._getframe(1)',\n",
       " '_18': <frame at 0x000002CE9E4B8C48, file 'c:\\\\users\\\\sqw12\\\\.virtualenvs\\\\cookbook-wjz76qry\\\\lib\\\\site-packages\\\\IPython\\\\core\\\\interactiveshell.py', line 3437, code run_code>,\n",
       " '_i19': 'sys._getframe(1).f_locals',\n",
       " '_19': {'self': <ipykernel.zmqshell.ZMQInteractiveShell at 0x2ce9e99ab08>,\n",
       "  'code_obj': <code object <module> at 0x000002CE9FCFD930, file \"<ipython-input-19-7552f423cd10>\", line 1>,\n",
       "  'result': <ExecutionResult object at 2ce9fcb4788, execution_count=19 error_before_exec=None error_in_exec=None info=<ExecutionInfo object at 2cea006b988, raw_cell=\"sys._getframe(1).f_locals\" store_history=True silent=False shell_futures=True> result={'self': <ipykernel.zmqshell.ZMQInteractiveShell object at 0x000002CE9E99AB08>, 'code_obj': <code object <module> at 0x000002CE9FCFD930, file \"<ipython-input-19-7552f423cd10>\", line 1>, 'result': <ExecutionResult object at 2ce9fcb4788, execution_count=19 error_before_exec=None error_in_exec=None info=<ExecutionInfo object at 2cea006b988, raw_cell=\"sys._getframe(1).f_locals\" store_history=True silent=False shell_futures=True> result={...}>, 'async_': False, '__tracebackhide__': '__ipython_bottom__', 'old_excepthook': <bound method IPKernelApp.excepthook of <ipykernel.kernelapp.IPKernelApp object at 0x000002CE9C0A5408>>, 'outflag': True}>,\n",
       "  'async_': False,\n",
       "  '__tracebackhide__': '__ipython_bottom__',\n",
       "  'old_excepthook': <bound method IPKernelApp.excepthook of <ipykernel.kernelapp.IPKernelApp object at 0x000002CE9C0A5408>>,\n",
       "  'outflag': True},\n",
       " '_i20': 'vars()'}"
      ]
     },
     "execution_count": 20,
     "metadata": {},
     "output_type": "execute_result"
    }
   ],
   "source": [
    "vars()"
   ]
  },
  {
   "cell_type": "markdown",
   "metadata": {},
   "source": [
    "## 讨论\n",
    "多年以来由于Python缺乏对变量替换的内置支持而导致了各种不同的解决方案。 作为本节中展示的一个可能的解决方案，你可以有时候会看到像下面这样的字符串格式化代码："
   ]
  },
  {
   "cell_type": "code",
   "execution_count": 21,
   "metadata": {},
   "outputs": [],
   "source": [
    "name = 'Guido'\n",
    "n = 37"
   ]
  },
  {
   "cell_type": "code",
   "execution_count": 23,
   "metadata": {},
   "outputs": [
    {
     "ename": "ValueError",
     "evalue": "unsupported format character 'm' (0x6d) at index 17",
     "output_type": "error",
     "traceback": [
      "\u001b[1;31m---------------------------------------------------------------------------\u001b[0m",
      "\u001b[1;31mValueError\u001b[0m                                Traceback (most recent call last)",
      "\u001b[1;32m<ipython-input-23-9f1b0590adbb>\u001b[0m in \u001b[0;36m<module>\u001b[1;34m\u001b[0m\n\u001b[1;32m----> 1\u001b[1;33m \u001b[1;34m'%(name) has %(n) messages.'\u001b[0m \u001b[1;33m%\u001b[0m \u001b[0mvars\u001b[0m\u001b[1;33m(\u001b[0m\u001b[1;33m)\u001b[0m\u001b[1;33m\u001b[0m\u001b[1;33m\u001b[0m\u001b[0m\n\u001b[0m",
      "\u001b[1;31mValueError\u001b[0m: unsupported format character 'm' (0x6d) at index 17"
     ]
    }
   ],
   "source": [
    "'%(name) has %(n) messages.' % vars()"
   ]
  },
  {
   "cell_type": "markdown",
   "metadata": {},
   "source": [
    "你可能还会看到**字符串模板**的使用："
   ]
  },
  {
   "cell_type": "code",
   "execution_count": 25,
   "metadata": {},
   "outputs": [],
   "source": [
    "import string"
   ]
  },
  {
   "cell_type": "code",
   "execution_count": 26,
   "metadata": {},
   "outputs": [
    {
     "data": {
      "text/plain": [
       "'Guido has 37 messages.'"
      ]
     },
     "execution_count": 26,
     "metadata": {},
     "output_type": "execute_result"
    }
   ],
   "source": [
    "s = string.Template('$name has $n messages.')\n",
    "s.substitute(vars())"
   ]
  },
  {
   "cell_type": "markdown",
   "metadata": {},
   "source": [
    "然而， format() 和 format_map() 相比较上面这些方案而已更加先进，因此应该被优先选择。 使用 format() 方法还有一个好处就是你可以获得对字符串格式化的所有支持(对齐，填充，数字格式化等待)， 而这些特性是使用像模板字符串之类的方案不可能获得的。\n",
    "\n",
    "本机还部分介绍了一些高级特性。映射或者字典类中鲜为人知的 **__missing__() 方法可以让你定义如何处理缺失的值**。 在 SafeSub 类中，这个方法被定义为对缺失的值返回一个占位符。 你可以发现缺失的值会出现在结果字符串中(在调试的时候可能很有用)，而不是产生一个 KeyError 异常。\n",
    "\n",
    "sub() 函数使用 **sys._getframe(1) 返回调用者的栈帧。可以从中访问属性 f_locals 来获得局部变量**。 毫无疑问绝大部分情况下在代码中去直接操作栈帧应该是不推荐的。 但是，对于像字符串替换工具函数而言它是非常有用的。 另外，值得注意的是 **f_locals 是一个复制调用函数的本地变量的字典**。 尽管你可以改变 f_locals 的内容，但是这个修改对于后面的变量访问没有任何影响。 所以，虽说访问一个栈帧看上去很邪恶，但是对它的任何操作不会覆盖和改变调用者本地变量的值。"
   ]
  },
  {
   "cell_type": "code",
   "execution_count": null,
   "metadata": {},
   "outputs": [],
   "source": []
  },
  {
   "cell_type": "code",
   "execution_count": null,
   "metadata": {},
   "outputs": [],
   "source": []
  },
  {
   "cell_type": "code",
   "execution_count": null,
   "metadata": {},
   "outputs": [],
   "source": []
  },
  {
   "cell_type": "code",
   "execution_count": null,
   "metadata": {},
   "outputs": [],
   "source": []
  },
  {
   "cell_type": "code",
   "execution_count": null,
   "metadata": {},
   "outputs": [],
   "source": []
  },
  {
   "cell_type": "code",
   "execution_count": null,
   "metadata": {},
   "outputs": [],
   "source": []
  },
  {
   "cell_type": "code",
   "execution_count": null,
   "metadata": {},
   "outputs": [],
   "source": []
  }
 ],
 "metadata": {
  "kernelspec": {
   "display_name": "Python 3",
   "language": "python",
   "name": "python3"
  },
  "language_info": {
   "codemirror_mode": {
    "name": "ipython",
    "version": 3
   },
   "file_extension": ".py",
   "mimetype": "text/x-python",
   "name": "python",
   "nbconvert_exporter": "python",
   "pygments_lexer": "ipython3",
   "version": "3.7.6"
  }
 },
 "nbformat": 4,
 "nbformat_minor": 4
}
