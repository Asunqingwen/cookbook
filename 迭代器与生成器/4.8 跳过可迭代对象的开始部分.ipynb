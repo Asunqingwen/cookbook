{
 "cells": [
  {
   "cell_type": "markdown",
   "metadata": {},
   "source": [
    "## 问题\n",
    "你想遍历一个可迭代对象，但是它开始的某些元素你并不感兴趣，想跳过它们。\n",
    "## 解决方案\n",
    "itertools 模块中有一些函数可以完成这个任务。 首先介绍的是 **itertools.dropwhile()** 函数。使用时，你给它传递一个函数对象和一个可迭代对象。 它会返回一个迭代器对象，**丢弃原有序列中直到函数返回Flase之前的所有元素**，然后返回后面所有元素。\n",
    "\n",
    "为了演示，假定你在读取一个开始部分是几行注释的源文件。比如：\n",
    "```python\n",
    ">>> with open('/etc/passwd') as f:\n",
    "... for line in f:\n",
    "...     print(line, end='')\n",
    "...\n",
    "##\n",
    "# User Database\n",
    "#\n",
    "# Note that this file is consulted directly only when the system is running\n",
    "# in single-user mode. At other times, this information is provided by\n",
    "# Open Directory.\n",
    "...\n",
    "##\n",
    "nobody:*:-2:-2:Unprivileged User:/var/empty:/usr/bin/false\n",
    "root:*:0:0:System Administrator:/var/root:/bin/sh\n",
    "...\n",
    ">>>\n",
    "```"
   ]
  },
  {
   "cell_type": "markdown",
   "metadata": {},
   "source": [
    "如果你想**跳过开始部分的注释行**的话，可以这样做：\n",
    "```python\n",
    ">>> from itertools import dropwhile\n",
    ">>> with open('/etc/passwd') as f:\n",
    "...     for line in dropwhile(lambda line: not line.startswith('#'), f):\n",
    "...         print(line, end='')\n",
    "...\n",
    "nobody:*:-2:-2:Unprivileged User:/var/empty:/usr/bin/false\n",
    "root:*:0:0:System Administrator:/var/root:/bin/sh\n",
    "...\n",
    ">>>\n",
    "```"
   ]
  },
  {
   "cell_type": "markdown",
   "metadata": {},
   "source": [
    "这个例子是基于根据某个测试函数跳过开始的元素。 如果你已经明确知道了要跳过的元素的序号的话，那么可以使用 **itertools.islice()** 来代替。比如："
   ]
  },
  {
   "cell_type": "code",
   "execution_count": 1,
   "metadata": {},
   "outputs": [],
   "source": [
    "from itertools import islice"
   ]
  },
  {
   "cell_type": "code",
   "execution_count": 2,
   "metadata": {},
   "outputs": [],
   "source": [
    "items = ['a','b','c',1,4,10,15]"
   ]
  },
  {
   "cell_type": "code",
   "execution_count": 4,
   "metadata": {},
   "outputs": [
    {
     "name": "stdout",
     "output_type": "stream",
     "text": [
      "1\n",
      "4\n",
      "10\n",
      "15\n"
     ]
    }
   ],
   "source": [
    "for x in islice(items,3,None):\n",
    "    print(x)"
   ]
  },
  {
   "cell_type": "markdown",
   "metadata": {},
   "source": [
    "在这个例子中， islice() 函数最后那个 None 参数指定了你要跳过前面3个元素，获取第4个到最后的所有元素， 如果 None 和3的位置对调，意思就是仅仅获取前三个元素恰恰相反， (这个跟切片的相反操作 [3:] 和 [:3] 原理是一样的)。"
   ]
  },
  {
   "cell_type": "markdown",
   "metadata": {},
   "source": [
    "## 讨论\n",
    "函数 dropwhile() 和 islice() 其实就是两个帮助函数，为的就是避免写出下面这种**冗余代码**：\n",
    "```python\n",
    "with open('/etc/passwd') as f:\n",
    "    # Skip over initial comments\n",
    "    while True:\n",
    "        line = next(f, '')\n",
    "        if not line.startswith('#'):\n",
    "            break\n",
    "\n",
    "    # Process remaining lines\n",
    "    while line:\n",
    "        # Replace with useful processing\n",
    "        print(line, end='')\n",
    "        line = next(f, None)\n",
    "```"
   ]
  },
  {
   "cell_type": "markdown",
   "metadata": {},
   "source": [
    "**跳过**一个可迭代对象的开始部分跟通常的**过滤**是不同的。 比如，上述代码的第一个部分可能会这样重写：\n",
    "```python\n",
    "with open('/etc/passwd') as f:\n",
    "    lines = (line for line in f if not line.startswith('#'))\n",
    "    for line in lines:\n",
    "        print(line, end='')\n",
    "```"
   ]
  },
  {
   "cell_type": "markdown",
   "metadata": {},
   "source": [
    "这样写确实可以跳过开始部分的注释行，但是同样也会跳过文件中其他所有的注释行。 换句话讲，我们的解决方案是仅仅跳过开始部分满足测试条件的行，在那以后，所有的元素不再进行测试和过滤了。\n",
    "\n",
    "最后需要着重强调的一点是，本节的方案适用于所有可迭代对象，包括那些事先不能确定大小的， 比如生成器，文件及其类似的对象。"
   ]
  },
  {
   "cell_type": "code",
   "execution_count": null,
   "metadata": {},
   "outputs": [],
   "source": []
  },
  {
   "cell_type": "code",
   "execution_count": null,
   "metadata": {},
   "outputs": [],
   "source": []
  },
  {
   "cell_type": "code",
   "execution_count": null,
   "metadata": {},
   "outputs": [],
   "source": []
  }
 ],
 "metadata": {
  "kernelspec": {
   "display_name": "Python 3",
   "language": "python",
   "name": "python3"
  },
  "language_info": {
   "codemirror_mode": {
    "name": "ipython",
    "version": 3
   },
   "file_extension": ".py",
   "mimetype": "text/x-python",
   "name": "python",
   "nbconvert_exporter": "python",
   "pygments_lexer": "ipython3",
   "version": "3.7.6"
  }
 },
 "nbformat": 4,
 "nbformat_minor": 4
}
