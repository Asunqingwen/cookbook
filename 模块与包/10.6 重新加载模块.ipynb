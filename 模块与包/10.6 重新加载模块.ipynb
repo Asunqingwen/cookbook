{
 "cells": [
  {
   "cell_type": "markdown",
   "metadata": {},
   "source": [
    "## 问题\n",
    "你想重新加载已经加载的模块，因为你对其源码进行了修改。\n",
    "\n",
    "## 解决方案\n",
    "使用imp.reload()来重新加载先前加载的模块。举个例子："
   ]
  },
  {
   "cell_type": "markdown",
   "metadata": {},
   "source": [
    "```python\n",
    ">>> import spam\n",
    ">>> import imp\n",
    ">>> imp.reload(spam)\n",
    "<module 'spam' from './spam.py'>\n",
    ">>>\n",
    "```"
   ]
  },
  {
   "cell_type": "markdown",
   "metadata": {},
   "source": [
    "## 讨论\n",
    "重新加载模块在开发和调试过程中常常很有用。但在生产环境中的代码使用会不安全，因为它并不总是像您期望的那样工作。\n",
    "\n",
    "reload()擦除了模块底层字典的内容，并通过重新执行模块的源代码来刷新它。模块对象本身的身份保持不变。因此，该操作在程序中所有已经被导入了的地方更新了模块。\n",
    "\n",
    "尽管如此，reload()没有更新像”from module import name”这样使用import语句导入的定义。举个例子："
   ]
  },
  {
   "cell_type": "code",
   "execution_count": 3,
   "metadata": {},
   "outputs": [],
   "source": [
    "# spam.py\n",
    "def bar():\n",
    "    print('bar')\n",
    "\n",
    "def grok():\n",
    "    print('grok')"
   ]
  },
  {
   "cell_type": "markdown",
   "metadata": {},
   "source": [
    "现在启动交互式会话："
   ]
  },
  {
   "cell_type": "markdown",
   "metadata": {},
   "source": [
    "```python\n",
    ">>> import spam\n",
    ">>> from spam import grok\n",
    ">>> spam.bar()\n",
    "bar\n",
    ">>> grok()\n",
    "grok\n",
    ">>>\n",
    "```"
   ]
  },
  {
   "cell_type": "markdown",
   "metadata": {},
   "source": [
    "不退出Python修改spam.py的源码，将grok()函数改成这样："
   ]
  },
  {
   "cell_type": "code",
   "execution_count": 5,
   "metadata": {},
   "outputs": [],
   "source": [
    "def grok():\n",
    "    print('New grok')"
   ]
  },
  {
   "cell_type": "markdown",
   "metadata": {},
   "source": [
    "现在回到交互式会话，重新加载模块，尝试下这个实验："
   ]
  },
  {
   "cell_type": "markdown",
   "metadata": {},
   "source": [
    "```python\n",
    ">>> import imp\n",
    ">>> imp.reload(spam)\n",
    "<module 'spam' from './spam.py'>\n",
    ">>> spam.bar()\n",
    "bar\n",
    ">>> grok() # Notice old output\n",
    "grok\n",
    ">>> spam.grok() # Notice new output\n",
    "New grok\n",
    ">>>\n",
    "```"
   ]
  },
  {
   "cell_type": "markdown",
   "metadata": {},
   "source": [
    "在这个例子中，你看到有2个版本的grok()函数被加载。通常来说，这不是你想要的，而是令人头疼的事。\n",
    "\n",
    "因此，在生产环境中可能需要避免重新加载模块。在交互环境下调试，解释程序并试图弄懂它。"
   ]
  },
  {
   "cell_type": "code",
   "execution_count": null,
   "metadata": {},
   "outputs": [],
   "source": []
  },
  {
   "cell_type": "code",
   "execution_count": null,
   "metadata": {},
   "outputs": [],
   "source": []
  },
  {
   "cell_type": "code",
   "execution_count": null,
   "metadata": {},
   "outputs": [],
   "source": []
  },
  {
   "cell_type": "markdown",
   "metadata": {},
   "source": []
  }
 ],
 "metadata": {
  "kernelspec": {
   "display_name": "Python 3",
   "language": "python",
   "name": "python3"
  },
  "language_info": {
   "codemirror_mode": {
    "name": "ipython",
    "version": 3
   },
   "file_extension": ".py",
   "mimetype": "text/x-python",
   "name": "python",
   "nbconvert_exporter": "python",
   "pygments_lexer": "ipython3",
   "version": "3.7.6"
  }
 },
 "nbformat": 4,
 "nbformat_minor": 4
}
