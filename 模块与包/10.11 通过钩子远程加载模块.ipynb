{
 "cells": [
  {
   "cell_type": "markdown",
   "metadata": {},
   "source": [
    "## 问题\n",
    "你想自定义Python的import语句，使得它能从远程机器上面透明的加载模块。\n",
    "\n",
    "## 解决方案\n",
    "首先要提出来的是安全问题。本节讨论的思想如果没有一些额外的安全和认知机制的话会很糟糕。 也就是说，我们的主要目的是深入分析Python的import语句机制。 如果你理解了本节内部原理，你就能够为其他任何目的而自定义import。 有了这些，让我们继续向前走。\n",
    "\n",
    "本节核心是设计导入语句的扩展功能。有很多种方法可以做这个， 不过为了演示的方便，我们开始先构造下面这个Python代码结构："
   ]
  },
  {
   "cell_type": "markdown",
   "metadata": {},
   "source": [
    "```\n",
    "testcode/\n",
    "    spam.py\n",
    "    fib.py\n",
    "    grok/\n",
    "        __init__.py\n",
    "        blah.py\n",
    "```"
   ]
  },
  {
   "cell_type": "markdown",
   "metadata": {},
   "source": [
    "这些文件的内容并不重要，不过我们在每个文件中放入了少量的简单语句和函数， 这样你可以测试它们并查看当它们被导入时的输出。例如："
   ]
  },
  {
   "cell_type": "markdown",
   "metadata": {},
   "source": [
    "```python\n",
    "# spam.py\n",
    "print(\"I'm spam\")\n",
    "\n",
    "def hello(name):\n",
    "    print('Hello %s' % name)\n",
    "\n",
    "# fib.py\n",
    "print(\"I'm fib\")\n",
    "\n",
    "def fib(n):\n",
    "    if n < 2:\n",
    "        return 1\n",
    "    else:\n",
    "        return fib(n-1) + fib(n-2)\n",
    "\n",
    "# grok/__init__.py\n",
    "print(\"I'm grok.__init__\")\n",
    "\n",
    "# grok/blah.py\n",
    "print(\"I'm grok.blah\")\n",
    "```"
   ]
  },
  {
   "cell_type": "markdown",
   "metadata": {},
   "source": [
    "这里的目的是允许这些文件作为模块被远程访问。 也许最简单的方式就是将它们发布到一个web服务器上面。在testcode目录中像下面这样运行Python："
   ]
  },
  {
   "cell_type": "markdown",
   "metadata": {},
   "source": [
    "```bash\n",
    "bash % cd testcode\n",
    "bash % python3 -m http.server 15000\n",
    "Serving HTTP on 0.0.0.0 port 15000 ...\n",
    "```"
   ]
  },
  {
   "cell_type": "markdown",
   "metadata": {},
   "source": [
    "服务器运行起来后再启动一个单独的Python解释器。 确保你可以使用 urllib 访问到远程文件。例如："
   ]
  },
  {
   "cell_type": "markdown",
   "metadata": {},
   "source": [
    "```python\n",
    ">>> from urllib.request import urlopen\n",
    ">>> u = urlopen('http://localhost:15000/fib.py')\n",
    ">>> data = u.read().decode('utf-8')\n",
    ">>> print(data)\n",
    "# fib.py\n",
    "print(\"I'm fib\")\n",
    "\n",
    "def fib(n):\n",
    "    if n < 2:\n",
    "        return 1\n",
    "    else:\n",
    "        return fib(n-1) + fib(n-2)\n",
    ">>>\n",
    "```"
   ]
  },
  {
   "cell_type": "markdown",
   "metadata": {},
   "source": [
    "从这个服务器加载源代码是接下来本节的基础。 为了替代手动的通过 urlopen() 来收集源文件， 我们通过自定义import语句来在后台自动帮我们做到。\n",
    "\n",
    "加载远程模块的第一种方法是创建一个显式的加载函数来完成它。例如："
   ]
  },
  {
   "cell_type": "markdown",
   "metadata": {},
   "source": [
    "```python\n",
    "import imp\n",
    "import urllib.request\n",
    "import sys\n",
    "\n",
    "def load_module(url):\n",
    "    u = urllib.request.urlopen(url)\n",
    "    source = u.read().decode('utf-8')\n",
    "    mod = sys.modules.setdefault(url, imp.new_module(url))\n",
    "    code = compile(source, url, 'exec')\n",
    "    mod.__file__ = url\n",
    "    mod.__package__ = ''\n",
    "    exec(code, mod.__dict__)\n",
    "    return mod\n",
    "```"
   ]
  },
  {
   "cell_type": "markdown",
   "metadata": {},
   "source": [
    "这个函数会下载源代码，并使用 compile() 将其编译到一个代码对象中， 然后在一个新创建的模块对象的字典中来执行它。下面是使用这个函数的方式："
   ]
  },
  {
   "cell_type": "markdown",
   "metadata": {},
   "source": [
    "```python\n",
    ">>> fib = load_module('http://localhost:15000/fib.py')\n",
    "I'm fib\n",
    ">>> fib.fib(10)\n",
    "89\n",
    ">>> spam = load_module('http://localhost:15000/spam.py')\n",
    "I'm spam\n",
    ">>> spam.hello('Guido')\n",
    "Hello Guido\n",
    ">>> fib\n",
    "<module 'http://localhost:15000/fib.py' from 'http://localhost:15000/fib.py'>\n",
    ">>> spam\n",
    "<module 'http://localhost:15000/spam.py' from 'http://localhost:15000/spam.py'>\n",
    ">>>\n",
    "```"
   ]
  },
  {
   "cell_type": "markdown",
   "metadata": {},
   "source": [
    "正如你所见，对于简单的模块这个是行得通的。 不过它并没有嵌入到通常的import语句中，如果要支持更高级的结构比如包就需要更多的工作了。\n",
    "\n",
    "一个更酷的做法是创建一个自定义导入器。第一种方法是创建一个元路径导入器。如下："
   ]
  },
  {
   "cell_type": "code",
   "execution_count": 4,
   "metadata": {},
   "outputs": [],
   "source": [
    "# urlimport.py\n",
    "import sys\n",
    "import importlib.abc\n",
    "import imp\n",
    "from urllib.request import urlopen\n",
    "from urllib.error import HTTPError, URLError\n",
    "from html.parser import HTMLParser\n",
    "\n",
    "# Debugging\n",
    "import logging\n",
    "log = logging.getLogger(__name__)\n",
    "\n",
    "# Get links from a given URL\n",
    "def _get_links(url):\n",
    "    class LinkParser(HTMLParser):\n",
    "        def handle_starttag(self, tag, attrs):\n",
    "            if tag == 'a':\n",
    "                attrs = dict(attrs)\n",
    "                links.add(attrs.get('href').rstrip('/'))\n",
    "    links = set()\n",
    "    try:\n",
    "        log.debug('Getting links from %s' % url)\n",
    "        u = urlopen(url)\n",
    "        parser = LinkParser()\n",
    "        parser.feed(u.read().decode('utf-8'))\n",
    "    except Exception as e:\n",
    "        log.debug('Could not get links. %s', e)\n",
    "    log.debug('links: %r', links)\n",
    "    return links\n",
    "\n",
    "class UrlMetaFinder(importlib.abc.MetaPathFinder):\n",
    "    def __init__(self, baseurl):\n",
    "        self._baseurl = baseurl\n",
    "        self._links = { }\n",
    "        self._loaders = { baseurl : UrlModuleLoader(baseurl) }\n",
    "\n",
    "    def find_module(self, fullname, path=None):\n",
    "        log.debug('find_module: fullname=%r, path=%r', fullname, path)\n",
    "        if path is None:\n",
    "            baseurl = self._baseurl\n",
    "        else:\n",
    "            if not path[0].startswith(self._baseurl):\n",
    "                return None\n",
    "            baseurl = path[0]\n",
    "        parts = fullname.split('.')\n",
    "        basename = parts[-1]\n",
    "        log.debug('find_module: baseurl=%r, basename=%r', baseurl, basename)\n",
    "\n",
    "        # Check link cache\n",
    "        if basename not in self._links:\n",
    "            self._links[baseurl] = _get_links(baseurl)\n",
    "\n",
    "        # Check if it's a package\n",
    "        if basename in self._links[baseurl]:\n",
    "            log.debug('find_module: trying package %r', fullname)\n",
    "            fullurl = self.base_url + '/' + basename\n",
    "            # Attempt to load the package (which accesses __init__.py)\n",
    "            loader = UrlPackageLoader(fullurl)\n",
    "            try:\n",
    "                loader.load_module(fullname)\n",
    "                self._links[fullurl] = _get_links(fullurl)\n",
    "                self._loaders[fullurl] = UrlModuleLoader(fullurl)\n",
    "                log.debug('find_module: package %r loaded', fullname)\n",
    "            except ImportError as e:\n",
    "                log.debug('find_module: package failed. %s', e)\n",
    "                loader = None\n",
    "            return loader\n",
    "        # A normal module\n",
    "        filename = basename + '.py'\n",
    "        if filename in self._links[baseurl]:\n",
    "            log.debug('find_module: module %r found', fullname)\n",
    "            return self._loaders[baseurl]\n",
    "        else:\n",
    "            log.debug('find_module: module %r not found', fullname)\n",
    "            return None\n",
    "\n",
    "    def invalidate_caches(self):\n",
    "        log.debug('invalidating link cache')\n",
    "        self._links.clear()\n",
    "\n",
    "# Module Loader for a URL\n",
    "class UrlModuleLoader(importlib.abc.SourceLoader):\n",
    "    def __init__(self, baseurl):\n",
    "        self._baseurl = baseurl\n",
    "        self._source_cache = {}\n",
    "\n",
    "    def module_repr(self, module):\n",
    "        return '<urlmodule %r from %r>' % (module.__name__, module.__file__)\n",
    "\n",
    "    # Required method\n",
    "    def load_module(self, fullname):\n",
    "        code = self.get_code(fullname)\n",
    "        mod = sys.modules.setdefault(fullname, imp.new_module(fullname))\n",
    "        mod.__file__ = self.get_filename(fullname)\n",
    "        mod.__loader__ = self\n",
    "        mod.__package__ = fullname.rpartition('.')[0]\n",
    "        exec(code, mod.__dict__)\n",
    "        return mod\n",
    "\n",
    "    # Optional extensions\n",
    "    def get_code(self, fullname):\n",
    "        src = self.get_source(fullname)\n",
    "        return compile(src, self.get_filename(fullname), 'exec')\n",
    "\n",
    "    def get_data(self, path):\n",
    "        pass\n",
    "\n",
    "    def get_filename(self, fullname):\n",
    "        return self._baseurl + '/' + fullname.split('.')[-1] + '.py'\n",
    "\n",
    "    def get_source(self, fullname):\n",
    "        filename = self.get_filename(fullname)\n",
    "        log.debug('loader: reading %r', filename)\n",
    "        if filename in self._source_cache:\n",
    "            log.debug('loader: cached %r', filename)\n",
    "            return self._source_cache[filename]\n",
    "        try:\n",
    "            u = urlopen(filename)\n",
    "            source = u.read().decode('utf-8')\n",
    "            log.debug('loader: %r loaded', filename)\n",
    "            self._source_cache[filename] = source\n",
    "            return source\n",
    "        except (HTTPError, URLError) as e:\n",
    "            log.debug('loader: %r failed. %s', filename, e)\n",
    "            raise ImportError(\"Can't load %s\" % filename)\n",
    "\n",
    "    def is_package(self, fullname):\n",
    "        return False\n",
    "\n",
    "# Package loader for a URL\n",
    "class UrlPackageLoader(UrlModuleLoader):\n",
    "    def load_module(self, fullname):\n",
    "        mod = super().load_module(fullname)\n",
    "        mod.__path__ = [ self._baseurl ]\n",
    "        mod.__package__ = fullname\n",
    "\n",
    "    def get_filename(self, fullname):\n",
    "        return self._baseurl + '/' + '__init__.py'\n",
    "\n",
    "    def is_package(self, fullname):\n",
    "        return True\n",
    "\n",
    "# Utility functions for installing/uninstalling the loader\n",
    "_installed_meta_cache = { }\n",
    "def install_meta(address):\n",
    "    if address not in _installed_meta_cache:\n",
    "        finder = UrlMetaFinder(address)\n",
    "        _installed_meta_cache[address] = finder\n",
    "        sys.meta_path.append(finder)\n",
    "        log.debug('%r installed on sys.meta_path', finder)\n",
    "\n",
    "def remove_meta(address):\n",
    "    if address in _installed_meta_cache:\n",
    "        finder = _installed_meta_cache.pop(address)\n",
    "        sys.meta_path.remove(finder)\n",
    "        log.debug('%r removed from sys.meta_path', finder)"
   ]
  },
  {
   "cell_type": "markdown",
   "metadata": {},
   "source": [
    "下面是一个交互会话，演示了如何使用前面的代码："
   ]
  },
  {
   "cell_type": "markdown",
   "metadata": {},
   "source": [
    "```python\n",
    ">>> # importing currently fails\n",
    ">>> import fib\n",
    "Traceback (most recent call last):\n",
    "File \"<stdin>\", line 1, in <module>\n",
    "ImportError: No module named 'fib'\n",
    ">>> # Load the importer and retry (it works)\n",
    ">>> import urlimport\n",
    ">>> urlimport.install_meta('http://localhost:15000')\n",
    ">>> import fib\n",
    "I'm fib\n",
    ">>> import spam\n",
    "I'm spam\n",
    ">>> import grok.blah\n",
    "I'm grok.__init__\n",
    "I'm grok.blah\n",
    ">>> grok.blah.__file__\n",
    "'http://localhost:15000/grok/blah.py'\n",
    ">>>\n",
    "```"
   ]
  },
  {
   "cell_type": "markdown",
   "metadata": {},
   "source": [
    "这个特殊的方案会安装一个特别的查找器 UrlMetaFinder 实例， 作为 sys.meta_path 中最后的实体。 当模块被导入时，会依据 sys.meta_path 中的查找器定位模块。 在这个例子中，UrlMetaFinder 实例是最后一个查找器方案， 当模块在任何一个普通地方都找不到的时候就触发它。\n",
    "\n",
    "作为常见的实现方案，UrlMetaFinder 类包装在一个用户指定的URL上。 在内部，查找器通过抓取指定URL的内容构建合法的链接集合。 导入的时候，模块名会跟已有的链接作对比。如果找到了一个匹配的， 一个单独的 UrlModuleLoader 类被用来从远程机器上加载源代码并创建最终的模块对象。 这里缓存链接的一个原因是避免不必要的HTTP请求重复导入。\n",
    "\n",
    "自定义导入的第二种方法是编写一个钩子直接嵌入到 sys.path 变量中去， 识别某些目录命名模式。 在 urlimport.py 中添加如下的类和支持函数："
   ]
  },
  {
   "cell_type": "code",
   "execution_count": 5,
   "metadata": {},
   "outputs": [],
   "source": [
    "# urlimport.py\n",
    "# ... include previous code above ...\n",
    "# Path finder class for a URL\n",
    "class UrlPathFinder(importlib.abc.PathEntryFinder):\n",
    "    def __init__(self, baseurl):\n",
    "        self._links = None\n",
    "        self._loader = UrlModuleLoader(baseurl)\n",
    "        self._baseurl = baseurl\n",
    "\n",
    "    def find_loader(self, fullname):\n",
    "        log.debug('find_loader: %r', fullname)\n",
    "        parts = fullname.split('.')\n",
    "        basename = parts[-1]\n",
    "        # Check link cache\n",
    "        if self._links is None:\n",
    "            self._links = [] # See discussion\n",
    "            self._links = _get_links(self._baseurl)\n",
    "\n",
    "        # Check if it's a package\n",
    "        if basename in self._links:\n",
    "            log.debug('find_loader: trying package %r', fullname)\n",
    "            fullurl = self._baseurl + '/' + basename\n",
    "            # Attempt to load the package (which accesses __init__.py)\n",
    "            loader = UrlPackageLoader(fullurl)\n",
    "            try:\n",
    "                loader.load_module(fullname)\n",
    "                log.debug('find_loader: package %r loaded', fullname)\n",
    "            except ImportError as e:\n",
    "                log.debug('find_loader: %r is a namespace package', fullname)\n",
    "                loader = None\n",
    "            return (loader, [fullurl])\n",
    "\n",
    "        # A normal module\n",
    "        filename = basename + '.py'\n",
    "        if filename in self._links:\n",
    "            log.debug('find_loader: module %r found', fullname)\n",
    "            return (self._loader, [])\n",
    "        else:\n",
    "            log.debug('find_loader: module %r not found', fullname)\n",
    "            return (None, [])\n",
    "\n",
    "    def invalidate_caches(self):\n",
    "        log.debug('invalidating link cache')\n",
    "        self._links = None\n",
    "\n",
    "# Check path to see if it looks like a URL\n",
    "_url_path_cache = {}\n",
    "def handle_url(path):\n",
    "    if path.startswith(('http://', 'https://')):\n",
    "        log.debug('Handle path? %s. [Yes]', path)\n",
    "        if path in _url_path_cache:\n",
    "            finder = _url_path_cache[path]\n",
    "        else:\n",
    "            finder = UrlPathFinder(path)\n",
    "            _url_path_cache[path] = finder\n",
    "        return finder\n",
    "    else:\n",
    "        log.debug('Handle path? %s. [No]', path)\n",
    "\n",
    "def install_path_hook():\n",
    "    sys.path_hooks.append(handle_url)\n",
    "    sys.path_importer_cache.clear()\n",
    "    log.debug('Installing handle_url')\n",
    "\n",
    "def remove_path_hook():\n",
    "    sys.path_hooks.remove(handle_url)\n",
    "    sys.path_importer_cache.clear()\n",
    "    log.debug('Removing handle_url')"
   ]
  },
  {
   "cell_type": "markdown",
   "metadata": {},
   "source": [
    "要使用这个路径查找器，你只需要在 sys.path 中加入URL链接。例如："
   ]
  },
  {
   "cell_type": "markdown",
   "metadata": {},
   "source": [
    "```python\n",
    ">>> # Initial import fails\n",
    ">>> import fib\n",
    "Traceback (most recent call last):\n",
    "    File \"<stdin>\", line 1, in <module>\n",
    "ImportError: No module named 'fib'\n",
    "\n",
    ">>> # Install the path hook\n",
    ">>> import urlimport\n",
    ">>> urlimport.install_path_hook()\n",
    "\n",
    ">>> # Imports still fail (not on path)\n",
    ">>> import fib\n",
    "Traceback (most recent call last):\n",
    "    File \"<stdin>\", line 1, in <module>\n",
    "ImportError: No module named 'fib'\n",
    "\n",
    ">>> # Add an entry to sys.path and watch it work\n",
    ">>> import sys\n",
    ">>> sys.path.append('http://localhost:15000')\n",
    ">>> import fib\n",
    "I'm fib\n",
    ">>> import grok.blah\n",
    "I'm grok.__init__\n",
    "I'm grok.blah\n",
    ">>> grok.blah.__file__\n",
    "'http://localhost:15000/grok/blah.py'\n",
    ">>>\n",
    "```"
   ]
  },
  {
   "cell_type": "markdown",
   "metadata": {},
   "source": [
    "关键点就是 handle_url() 函数，它被添加到了 sys.path_hooks 变量中。 当 sys.path 的实体被处理时，会调用 sys.path_hooks 中的函数。 如果任何一个函数返回了一个查找器对象，那么这个对象就被用来为 sys.path 实体加载模块。\n",
    "\n",
    "远程模块加载跟其他的加载使用方法几乎是一样的。例如："
   ]
  },
  {
   "cell_type": "markdown",
   "metadata": {},
   "source": [
    "```python\n",
    ">>> fib\n",
    "<urlmodule 'fib' from 'http://localhost:15000/fib.py'>\n",
    ">>> fib.__name__\n",
    "'fib'\n",
    ">>> fib.__file__\n",
    "'http://localhost:15000/fib.py'\n",
    ">>> import inspect\n",
    ">>> print(inspect.getsource(fib))\n",
    "# fib.py\n",
    "print(\"I'm fib\")\n",
    "\n",
    "def fib(n):\n",
    "    if n < 2:\n",
    "        return 1\n",
    "    else:\n",
    "        return fib(n-1) + fib(n-2)\n",
    ">>>\n",
    "```"
   ]
  },
  {
   "cell_type": "markdown",
   "metadata": {},
   "source": [
    "## 讨论\n",
    "在详细讨论之前，有点要强调的是，Python的模块、包和导入机制是整个语言中最复杂的部分， 即使经验丰富的Python程序员也很少能精通它们。 我在这里推荐一些值的去读的文档和书籍，包括 importlib module 和 PEP 302. 文档内容在这里不会被重复提到，不过我在这里会讨论一些最重要的部分。\n",
    "\n",
    "首先，如果你想创建一个新的模块对象，使用 imp.new_module() 函数："
   ]
  },
  {
   "cell_type": "markdown",
   "metadata": {},
   "source": [
    "```python\n",
    ">>> import imp\n",
    ">>> m = imp.new_module('spam')\n",
    ">>> m\n",
    "<module 'spam'>\n",
    ">>> m.__name__\n",
    "'spam'\n",
    ">>>\n",
    "```"
   ]
  },
  {
   "cell_type": "markdown",
   "metadata": {},
   "source": [
    "模块对象通常有一些期望属性，包括 __file__ （运行模块加载语句的文件名） 和 __package__ (包名)。\n",
    "\n",
    "其次，模块会被解释器缓存起来。模块缓存可以在字典 sys.modules 中被找到。 因为有了这个缓存机制，通常可以将缓存和模块的创建通过一个步骤完成："
   ]
  },
  {
   "cell_type": "markdown",
   "metadata": {},
   "source": [
    "```python\n",
    ">>> import sys\n",
    ">>> import imp\n",
    ">>> m = sys.modules.setdefault('spam', imp.new_module('spam'))\n",
    ">>> m\n",
    "<module 'spam'>\n",
    ">>>\n",
    "```"
   ]
  },
  {
   "cell_type": "markdown",
   "metadata": {},
   "source": [
    "如果给定模块已经存在那么就会直接获得已经被创建过的模块，例如："
   ]
  },
  {
   "cell_type": "markdown",
   "metadata": {},
   "source": [
    "```python\n",
    ">>> import math\n",
    ">>> m = sys.modules.setdefault('math', imp.new_module('math'))\n",
    ">>> m\n",
    "<module 'math' from '/usr/local/lib/python3.3/lib-dynload/math.so'>\n",
    ">>> m.sin(2)\n",
    "0.9092974268256817\n",
    ">>> m.cos(2)\n",
    "-0.4161468365471424\n",
    ">>>\n",
    "```"
   ]
  },
  {
   "cell_type": "markdown",
   "metadata": {},
   "source": [
    "由于创建模块很简单，很容易编写简单函数比如第一部分的 load_module() 函数。 这个方案的一个缺点是很难处理复杂情况比如包的导入。 为了处理一个包，你要重新实现普通import语句的底层逻辑（比如检查目录，查找__init__.py文件， 执行那些文件，设置路径等）。这个复杂性就是为什么最好直接扩展import语句而不是自定义函数的一个原因。\n",
    "\n",
    "扩展import语句很简单，但是会有很多移动操作。 最高层上，导入操作被一个位于sys.meta_path列表中的“元路径”查找器处理。 如果你输出它的值，会看到下面这样："
   ]
  },
  {
   "cell_type": "markdown",
   "metadata": {},
   "source": [
    "```python\n",
    ">>> from pprint import pprint\n",
    ">>> pprint(sys.meta_path)\n",
    "[<class '_frozen_importlib.BuiltinImporter'>,\n",
    "<class '_frozen_importlib.FrozenImporter'>,\n",
    "<class '_frozen_importlib.PathFinder'>]\n",
    ">>>\n",
    "```"
   ]
  },
  {
   "cell_type": "markdown",
   "metadata": {},
   "source": [
    "当执行一个语句比如 import fib 时，解释器会遍历sys.mata_path中的查找器对象， 调用它们的 find_module() 方法定位正确的模块加载器。 可以通过实验来看看："
   ]
  },
  {
   "cell_type": "markdown",
   "metadata": {},
   "source": [
    "```python\n",
    ">>> class Finder:\n",
    "...     def find_module(self, fullname, path):\n",
    "...         print('Looking for', fullname, path)\n",
    "...         return None\n",
    "...\n",
    ">>> import sys\n",
    ">>> sys.meta_path.insert(0, Finder()) # Insert as first entry\n",
    ">>> import math\n",
    "Looking for math None\n",
    ">>> import types\n",
    "Looking for types None\n",
    ">>> import threading\n",
    "Looking for threading None\n",
    "Looking for time None\n",
    "Looking for traceback None\n",
    "Looking for linecache None\n",
    "Looking for tokenize None\n",
    "Looking for token None\n",
    ">>>\n",
    "```"
   ]
  },
  {
   "cell_type": "markdown",
   "metadata": {},
   "source": [
    "注意看 find_module() 方法是怎样在每一个导入就被触发的。 这个方法中的path参数的作用是处理包。 多个包被导入，就是一个可在包的 __path__ 属性中找到的路径列表。 要找到包的子组件就要检查这些路径。 比如注意对于 xml.etree 和 xml.etree.ElementTree 的路径配置："
   ]
  },
  {
   "cell_type": "markdown",
   "metadata": {},
   "source": [
    "```python\n",
    ">>> import xml.etree.ElementTree\n",
    "Looking for xml None\n",
    "Looking for xml.etree ['/usr/local/lib/python3.3/xml']\n",
    "Looking for xml.etree.ElementTree ['/usr/local/lib/python3.3/xml/etree']\n",
    "Looking for warnings None\n",
    "Looking for contextlib None\n",
    "Looking for xml.etree.ElementPath ['/usr/local/lib/python3.3/xml/etree']\n",
    "Looking for _elementtree None\n",
    "Looking for copy None\n",
    "Looking for org None\n",
    "Looking for pyexpat None\n",
    "Looking for ElementC14N None\n",
    ">>>\n",
    "```"
   ]
  },
  {
   "cell_type": "markdown",
   "metadata": {},
   "source": [
    "在 sys.meta_path 上查找器的位置很重要，将它从队头移到队尾，然后再试试导入看："
   ]
  },
  {
   "cell_type": "markdown",
   "metadata": {},
   "source": [
    "```python\n",
    ">>> del sys.meta_path[0]\n",
    ">>> sys.meta_path.append(Finder())\n",
    ">>> import urllib.request\n",
    ">>> import datetime\n",
    "```"
   ]
  },
  {
   "cell_type": "markdown",
   "metadata": {},
   "source": [
    "现在你看不到任何输出了，因为导入被sys.meta_path中的其他实体处理。 这时候，你只有在导入不存在模块的时候才能看到它被触发："
   ]
  },
  {
   "cell_type": "markdown",
   "metadata": {},
   "source": [
    "```python\n",
    ">>> import fib\n",
    "Looking for fib None\n",
    "Traceback (most recent call last):\n",
    "    File \"<stdin>\", line 1, in <module>\n",
    "ImportError: No module named 'fib'\n",
    ">>> import xml.superfast\n",
    "Looking for xml.superfast ['/usr/local/lib/python3.3/xml']\n",
    "Traceback (most recent call last):\n",
    "    File \"<stdin>\", line 1, in <module>\n",
    "ImportError: No module named 'xml.superfast'\n",
    ">>>\n",
    "```"
   ]
  },
  {
   "cell_type": "markdown",
   "metadata": {},
   "source": [
    "你之前安装过一个捕获未知模块的查找器，这个是 UrlMetaFinder 类的关键。 一个 UrlMetaFinder 实例被添加到 sys.meta_path 的末尾，作为最后一个查找器方案。 如果被请求的模块名不能定位，就会被这个查找器处理掉。 处理包的时候需要注意，在path参数中指定的值需要被检查，看它是否以查找器中注册的URL开头。 如果不是，该子模块必须归属于其他查找器并被忽略掉。\n",
    "\n",
    "对于包的其他处理可在 UrlPackageLoader 类中被找到。 这个类不会导入包名，而是去加载对应的 __init__.py 文件。 它也会设置模块的 __path__ 属性，这一步很重要， 因为在加载包的子模块时这个值会被传给后面的 find_module() 调用。 基于路径的导入钩子是这些思想的一个扩展，但是采用了另外的方法。 我们都知道，sys.path 是一个Python查找模块的目录列表，例如："
   ]
  },
  {
   "cell_type": "markdown",
   "metadata": {},
   "source": [
    "```python\n",
    ">>> from pprint import pprint\n",
    ">>> import sys\n",
    ">>> pprint(sys.path)\n",
    "['',\n",
    "'/usr/local/lib/python33.zip',\n",
    "'/usr/local/lib/python3.3',\n",
    "'/usr/local/lib/python3.3/plat-darwin',\n",
    "'/usr/local/lib/python3.3/lib-dynload',\n",
    "'/usr/local/lib/...3.3/site-packages']\n",
    ">>>\n",
    "```"
   ]
  },
  {
   "cell_type": "markdown",
   "metadata": {},
   "source": [
    "在 sys.path 中的每一个实体都会被额外的绑定到一个查找器对象上。 你可以通过查看 sys.path_importer_cache 去看下这些查找器："
   ]
  },
  {
   "cell_type": "markdown",
   "metadata": {},
   "source": [
    "```python\n",
    ">>> pprint(sys.path_importer_cache)\n",
    "{'.': FileFinder('.'),\n",
    "'/usr/local/lib/python3.3': FileFinder('/usr/local/lib/python3.3'),\n",
    "'/usr/local/lib/python3.3/': FileFinder('/usr/local/lib/python3.3/'),\n",
    "'/usr/local/lib/python3.3/collections': FileFinder('...python3.3/collections'),\n",
    "'/usr/local/lib/python3.3/encodings': FileFinder('...python3.3/encodings'),\n",
    "'/usr/local/lib/python3.3/lib-dynload': FileFinder('...python3.3/lib-dynload'),\n",
    "'/usr/local/lib/python3.3/plat-darwin': FileFinder('...python3.3/plat-darwin'),\n",
    "'/usr/local/lib/python3.3/site-packages': FileFinder('...python3.3/site-packages'),\n",
    "'/usr/local/lib/python33.zip': None}\n",
    ">>>\n",
    "```"
   ]
  },
  {
   "cell_type": "markdown",
   "metadata": {},
   "source": [
    "sys.path_importer_cache 比 sys.path 会更大点， 因为它会为所有被加载代码的目录记录它们的查找器。 这包括包的子目录，这些通常在 sys.path 中是不存在的。\n",
    "\n",
    "要执行 import fib ，会顺序检查 sys.path 中的目录。 对于每个目录，名称“fib”会被传给相应的 sys.path_importer_cache 中的查找器。 这个可以让你创建自己的查找器并在缓存中放入一个实体。试试这个："
   ]
  },
  {
   "cell_type": "markdown",
   "metadata": {},
   "source": [
    "```python\n",
    ">>> class Finder:\n",
    "... def find_loader(self, name):\n",
    "...     print('Looking for', name)\n",
    "...     return (None, [])\n",
    "...\n",
    ">>> import sys\n",
    ">>> # Add a \"debug\" entry to the importer cache\n",
    ">>> sys.path_importer_cache['debug'] = Finder()\n",
    ">>> # Add a \"debug\" directory to sys.path\n",
    ">>> sys.path.insert(0, 'debug')\n",
    ">>> import threading\n",
    "Looking for threading\n",
    "Looking for time\n",
    "Looking for traceback\n",
    "Looking for linecache\n",
    "Looking for tokenize\n",
    "Looking for token\n",
    ">>>\n",
    "```"
   ]
  },
  {
   "cell_type": "markdown",
   "metadata": {},
   "source": [
    "在这里，你可以为名字“debug”创建一个新的缓存实体并将它设置成 sys.path 上的第一个。 在所有接下来的导入中，你会看到你的查找器被触发了。 不过，由于它返回 (None, [])，那么处理进程会继续处理下一个实体。\n",
    "\n",
    "sys.path_importer_cache 的使用被一个存储在 sys.path_hooks 中的函数列表控制。 试试下面的例子，它会清除缓存并给 sys.path_hooks 添加一个新的路径检查函数"
   ]
  },
  {
   "cell_type": "markdown",
   "metadata": {},
   "source": [
    "```python\n",
    ">>> sys.path_importer_cache.clear()\n",
    ">>> def check_path(path):\n",
    "...     print('Checking', path)\n",
    "...     raise ImportError()\n",
    "...\n",
    ">>> sys.path_hooks.insert(0, check_path)\n",
    ">>> import fib\n",
    "Checked debug\n",
    "Checking .\n",
    "Checking /usr/local/lib/python33.zip\n",
    "Checking /usr/local/lib/python3.3\n",
    "Checking /usr/local/lib/python3.3/plat-darwin\n",
    "Checking /usr/local/lib/python3.3/lib-dynload\n",
    "Checking /Users/beazley/.local/lib/python3.3/site-packages\n",
    "Checking /usr/local/lib/python3.3/site-packages\n",
    "Looking for fib\n",
    "Traceback (most recent call last):\n",
    "    File \"<stdin>\", line 1, in <module>\n",
    "ImportError: No module named 'fib'\n",
    ">>>\n",
    "```"
   ]
  },
  {
   "cell_type": "markdown",
   "metadata": {},
   "source": [
    "正如你所见，check_path() 函数被每个 sys.path 中的实体调用。 不顾，由于抛出了 ImportError 异常， 啥都不会发生了（仅仅将检查转移到sys.path_hooks的下一个函数）。\n",
    "\n",
    "知道了怎样sys.path是怎样被处理的，你就能构建一个自定义路径检查函数来查找文件名，不然URL。例如："
   ]
  },
  {
   "cell_type": "markdown",
   "metadata": {},
   "source": [
    "```python\n",
    ">>> def check_url(path):\n",
    "...     if path.startswith('http://'):\n",
    "...         return Finder()\n",
    "...     else:\n",
    "...         raise ImportError()\n",
    "...\n",
    ">>> sys.path.append('http://localhost:15000')\n",
    ">>> sys.path_hooks[0] = check_url\n",
    ">>> import fib\n",
    "Looking for fib # Finder output!\n",
    "Traceback (most recent call last):\n",
    "    File \"<stdin>\", line 1, in <module>\n",
    "ImportError: No module named 'fib'\n",
    "\n",
    ">>> # Notice installation of Finder in sys.path_importer_cache\n",
    ">>> sys.path_importer_cache['http://localhost:15000']\n",
    "<__main__.Finder object at 0x10064c850>\n",
    ">>>\n",
    "```"
   ]
  },
  {
   "cell_type": "markdown",
   "metadata": {},
   "source": [
    "这就是本节最后部分的关键点。事实上，一个用来在sys.path中查找URL的自定义路径检查函数已经构建完毕。 当它们被碰到的时候，一个新的 UrlPathFinder 实例被创建并被放入 sys.path_importer_cache. 之后，所有需要检查 sys.path 的导入语句都会使用你的自定义查找器。\n",
    "\n",
    "基于路径导入的包处理稍微有点复杂，并且跟 find_loader() 方法返回值有关。 对于简单模块，find_loader() 返回一个元组(loader, None)， 其中的loader是一个用于导入模块的加载器实例。\n",
    "\n",
    "对于一个普通的包，find_loader() 返回一个元组(loader, path)， 其中的loader是一个用于导入包（并执行__init__.py）的加载器实例， path是一个会初始化包的 __path__ 属性的目录列表。 例如，如果基础URL是 http://localhost:15000 并且一个用户执行 import grok , 那么 find_loader() 返回的path就会是 [ ‘http://localhost:15000/grok’ ]\n",
    "\n",
    "find_loader() 还要能处理一个命名空间包。 一个命名空间包中有一个合法的包目录名，但是不存在__init__.py文件。 这样的话，find_loader() 必须返回一个元组(None, path)， path是一个目录列表，由它来构建包的定义有__init__.py文件的__path__属性。 对于这种情况，导入机制会继续前行去检查sys.path中的目录。 如果找到了命名空间包，所有的结果路径被加到一起来构建最终的命名空间包。 关于命名空间包的更多信息请参考10.5小节。\n",
    "\n",
    "所有的包都包含了一个内部路径设置，可以在__path__属性中看到，例如："
   ]
  },
  {
   "cell_type": "markdown",
   "metadata": {},
   "source": [
    "```python\n",
    ">>> import xml.etree.ElementTree\n",
    ">>> xml.__path__\n",
    "['/usr/local/lib/python3.3/xml']\n",
    ">>> xml.etree.__path__\n",
    "['/usr/local/lib/python3.3/xml/etree']\n",
    ">>>\n",
    "```"
   ]
  },
  {
   "cell_type": "markdown",
   "metadata": {},
   "source": [
    "之前提到，__path__的设置是通过 find_loader() 方法返回值控制的。 不过，__path__接下来也被sys.path_hooks中的函数处理。 因此，但包的子组件被加载后，位于__path__中的实体会被 handle_url() 函数检查。 这会导致新的 UrlPathFinder 实例被创建并且被加入到 sys.path_importer_cache 中。\n",
    "\n",
    "还有个难点就是 handle_url() 函数以及它跟内部使用的 _get_links() 函数之间的交互。 如果你的查找器实现需要使用到其他模块（比如urllib.request）， 有可能这些模块会在查找器操作期间进行更多的导入。 它可以导致 handle_url() 和其他查找器部分陷入一种递归循环状态。 为了解释这种可能性，实现中有一个被创建的查找器缓存（每一个URL一个）。 它可以避免创建重复查找器的问题。 另外，下面的代码片段可以确保查找器不会在初始化链接集合的时候响应任何导入请求："
   ]
  },
  {
   "cell_type": "markdown",
   "metadata": {},
   "source": [
    "```python\n",
    "# Check link cache\n",
    "if self._links is None:\n",
    "    self._links = [] # See discussion\n",
    "    self._links = _get_links(self._baseurl)\n",
    "```"
   ]
  },
  {
   "cell_type": "markdown",
   "metadata": {},
   "source": [
    "最后，查找器的 invalidate_caches() 方法是一个工具方法，用来清理内部缓存。 这个方法再用户调用 importlib.invalidate_caches() 的时候被触发。 如果你想让URL导入者重新读取链接列表的话可以使用它。\n",
    "\n",
    "对比下两种方案（修改sys.meta_path或使用一个路径钩子）。 使用sys.meta_path的导入者可以按照自己的需要自由处理模块。 例如，它们可以从数据库中导入或以不同于一般模块/包处理方式导入。 这种自由同样意味着导入者需要自己进行内部的一些管理。 另外，基于路径的钩子只是适用于对sys.path的处理。 通过这种扩展加载的模块跟普通方式加载的特性是一样的。\n",
    "\n",
    "如果到现在为止你还是不是很明白，那么可以通过增加一些日志打印来测试下本节。像下面这样："
   ]
  },
  {
   "cell_type": "markdown",
   "metadata": {},
   "source": [
    "```python\n",
    ">>> import logging\n",
    ">>> logging.basicConfig(level=logging.DEBUG)\n",
    ">>> import urlimport\n",
    ">>> urlimport.install_path_hook()\n",
    "DEBUG:urlimport:Installing handle_url\n",
    ">>> import fib\n",
    "DEBUG:urlimport:Handle path? /usr/local/lib/python33.zip. [No]\n",
    "Traceback (most recent call last):\n",
    "File \"<stdin>\", line 1, in <module>\n",
    "ImportError: No module named 'fib'\n",
    ">>> import sys\n",
    ">>> sys.path.append('http://localhost:15000')\n",
    ">>> import fib\n",
    "DEBUG:urlimport:Handle path? http://localhost:15000. [Yes]\n",
    "DEBUG:urlimport:Getting links from http://localhost:15000\n",
    "DEBUG:urlimport:links: {'spam.py', 'fib.py', 'grok'}\n",
    "DEBUG:urlimport:find_loader: 'fib'\n",
    "DEBUG:urlimport:find_loader: module 'fib' found\n",
    "DEBUG:urlimport:loader: reading 'http://localhost:15000/fib.py'\n",
    "DEBUG:urlimport:loader: 'http://localhost:15000/fib.py' loaded\n",
    "I'm fib\n",
    ">>>\n",
    "```"
   ]
  },
  {
   "cell_type": "markdown",
   "metadata": {},
   "source": [
    "最后，建议你花点时间看看 PEP 302 以及importlib的文档。"
   ]
  },
  {
   "cell_type": "code",
   "execution_count": null,
   "metadata": {},
   "outputs": [],
   "source": []
  }
 ],
 "metadata": {
  "kernelspec": {
   "display_name": "Python 3",
   "language": "python",
   "name": "python3"
  },
  "language_info": {
   "codemirror_mode": {
    "name": "ipython",
    "version": 3
   },
   "file_extension": ".py",
   "mimetype": "text/x-python",
   "name": "python",
   "nbconvert_exporter": "python",
   "pygments_lexer": "ipython3",
   "version": "3.7.6"
  }
 },
 "nbformat": 4,
 "nbformat_minor": 4
}
