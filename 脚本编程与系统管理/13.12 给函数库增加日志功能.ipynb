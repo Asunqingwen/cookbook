{
 "cells": [
  {
   "cell_type": "markdown",
   "metadata": {},
   "source": [
    "## 问题\n",
    "你想给某个函数库增加日志功能，但是又不能影响到那些不使用日志功能的程序。\n",
    "\n",
    "## 解决方案\n",
    "对于想要执行日志操作的函数库而已，你应该创建一个专属的 **logger 对象**，并且像下面这样初始化配置："
   ]
  },
  {
   "cell_type": "code",
   "execution_count": 1,
   "metadata": {},
   "outputs": [],
   "source": [
    "import logging"
   ]
  },
  {
   "cell_type": "code",
   "execution_count": 2,
   "metadata": {},
   "outputs": [],
   "source": [
    "log = logging.getLogger(__name__)\n",
    "log.addHandler(logging.NullHandler)"
   ]
  },
  {
   "cell_type": "code",
   "execution_count": 3,
   "metadata": {},
   "outputs": [],
   "source": [
    "def func():\n",
    "    log.critical('A Critical Error!')\n",
    "    log.debug('A debug message')"
   ]
  },
  {
   "cell_type": "markdown",
   "metadata": {},
   "source": [
    "使用这个配置，默认情况下不会打印日志。例如："
   ]
  },
  {
   "cell_type": "markdown",
   "metadata": {},
   "source": [
    "```python\n",
    ">>> import somelib\n",
    ">>> somelib.func()\n",
    ">>>\n",
    "```"
   ]
  },
  {
   "cell_type": "markdown",
   "metadata": {},
   "source": [
    "不过，如果配置过**日志系统**，那么日志消息打印就开始生效，例如："
   ]
  },
  {
   "cell_type": "markdown",
   "metadata": {},
   "source": [
    "```python\n",
    ">>> import logging\n",
    ">>> logging.basicConfig()\n",
    ">>> somelib.func()\n",
    "CRITICAL:somelib:A Critical Error!\n",
    ">>>\n",
    "```"
   ]
  },
  {
   "cell_type": "markdown",
   "metadata": {},
   "source": [
    "## 讨论\n",
    "通常来讲，你不应该在函数库代码中自己配置日志系统，或者是已经假定有个已经存在的日志配置了。\n",
    "\n",
    "调用 getLogger(__name__) 创建一个和调用模块同名的logger模块。 由于模块都是唯一的，因此创建的logger也将是唯一的。\n",
    "\n",
    "log.addHandler(logging.NullHandler()) 操作将一个空处理器绑定到刚刚已经创建好的logger对象上。 一个空处理器默认会忽略调用所有的日志消息。 因此，如果使用该函数库的时候还没有配置日志，那么将不会有消息或警告出现。\n",
    "\n",
    "还有一点就是对于各个函数库的日志配置可以是相互独立的，不影响其他库的日志配置。 例如，对于如下的代码："
   ]
  },
  {
   "cell_type": "markdown",
   "metadata": {},
   "source": [
    "```python\n",
    ">>> import logging\n",
    ">>> logging.basicConfig(level=logging.ERROR)\n",
    "\n",
    ">>> import somelib\n",
    ">>> somelib.func()\n",
    "CRITICAL:somelib:A Critical Error!\n",
    "\n",
    ">>> # Change the logging level for 'somelib' only\n",
    ">>> logging.getLogger('somelib').level=logging.DEBUG\n",
    ">>> somelib.func()\n",
    "CRITICAL:somelib:A Critical Error!\n",
    "DEBUG:somelib:A debug message\n",
    ">>>\n",
    "```"
   ]
  },
  {
   "cell_type": "markdown",
   "metadata": {},
   "source": [
    "在这里，根日志被配置成仅仅输出ERROR或更高级别的消息。 不过 ，somelib 的日志级别被单独配置成可以输出debug级别的消息，它的优先级比全局配置高。 像这样更改单独模块的日志配置对于调试来讲是很方便的， 因为你无需去更改任何的全局日志配置——只需要修改你想要更多输出的模块的日志等级。\n",
    "\n",
    "Logging HOWTO 详细介绍了如何配置日志模块和其他有用技巧，可以参阅下。"
   ]
  },
  {
   "cell_type": "code",
   "execution_count": null,
   "metadata": {},
   "outputs": [],
   "source": []
  }
 ],
 "metadata": {
  "kernelspec": {
   "display_name": "Python 3",
   "language": "python",
   "name": "python3"
  },
  "language_info": {
   "codemirror_mode": {
    "name": "ipython",
    "version": 3
   },
   "file_extension": ".py",
   "mimetype": "text/x-python",
   "name": "python",
   "nbconvert_exporter": "python",
   "pygments_lexer": "ipython3",
   "version": "3.7.6"
  }
 },
 "nbformat": 4,
 "nbformat_minor": 4
}
