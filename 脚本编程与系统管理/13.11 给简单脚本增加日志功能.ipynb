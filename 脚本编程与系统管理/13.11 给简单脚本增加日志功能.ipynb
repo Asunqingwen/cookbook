{
 "cells": [
  {
   "cell_type": "markdown",
   "metadata": {},
   "source": [
    "## 问题\n",
    "你希望在脚本和程序中将诊断信息写入日志文件。\n",
    "\n",
    "## 解决方案\n",
    "打印日志最简单方式是使用 **logging 模块**。例如："
   ]
  },
  {
   "cell_type": "code",
   "execution_count": 1,
   "metadata": {},
   "outputs": [],
   "source": [
    "import logging"
   ]
  },
  {
   "cell_type": "code",
   "execution_count": 3,
   "metadata": {},
   "outputs": [],
   "source": [
    "def main():\n",
    "    # Configure the logging system\n",
    "    logging.basicConfig(\n",
    "        filename = 'app.log',\n",
    "        level = logging.ERROR\n",
    "    )\n",
    "    \n",
    "    # Variables (to make the calls that follow work)\n",
    "    hostname = 'www.python.org'\n",
    "    item = 'spam'\n",
    "    filename = 'data.csv'\n",
    "    mode = 'r'\n",
    "    \n",
    "    # Example logging calls (insert into your program)\n",
    "    logging.critical('Host %s unknown', hostname)\n",
    "    logging.error(\"Couldn't find %r\", item)\n",
    "    logging.warning('Feature is deprecated')\n",
    "    logging.info('Opening file %r, mode=%r', filename, mode)\n",
    "    logging.debug('Got here')"
   ]
  },
  {
   "cell_type": "code",
   "execution_count": 4,
   "metadata": {},
   "outputs": [],
   "source": [
    "main()"
   ]
  },
  {
   "cell_type": "markdown",
   "metadata": {},
   "source": [
    "上面五个日志调用（critical(), error(), warning(), info(), debug()）以降序方式表示不同的严重级别。 basicConfig() 的 level 参数是一个过滤器。 所有级别低于此级别的日志消息都会被忽略掉。 每个logging操作的参数是一个消息字符串，后面再跟一个或多个参数。 构造最终的日志消息的时候我们使用了%操作符来格式化消息字符串。\n",
    "\n",
    "运行这个程序后，在文件 app.log 中的内容应该是下面这样："
   ]
  },
  {
   "cell_type": "markdown",
   "metadata": {},
   "source": [
    "```log\n",
    "CRITICAL:root:Host www.python.org unknown\n",
    "ERROR:root:Could not find 'spam'\n",
    "```"
   ]
  },
  {
   "cell_type": "markdown",
   "metadata": {},
   "source": [
    "如果你想改变输出等级，你可以修改 basicConfig() 调用中的参数。例如："
   ]
  },
  {
   "cell_type": "code",
   "execution_count": 5,
   "metadata": {},
   "outputs": [],
   "source": [
    "logging.basicConfig(\n",
    "     filename='app.log',\n",
    "     level=logging.WARNING,\n",
    "     format='%(levelname)s:%(asctime)s:%(message)s')"
   ]
  },
  {
   "cell_type": "markdown",
   "metadata": {},
   "source": [
    "最后输出变成如下："
   ]
  },
  {
   "cell_type": "markdown",
   "metadata": {},
   "source": [
    "```log\n",
    "CRITICAL:2012-11-20 12:27:13,595:Host www.python.org unknown\n",
    "ERROR:2012-11-20 12:27:13,595:Could not find 'spam'\n",
    "WARNING:2012-11-20 12:27:13,595:Feature is deprecated\n",
    "```"
   ]
  },
  {
   "cell_type": "markdown",
   "metadata": {},
   "source": [
    "上面的日志配置都是硬编码到程序中的。如果你想使用配置文件， 可以像下面这样修改 basicConfig() 调用："
   ]
  },
  {
   "cell_type": "markdown",
   "metadata": {},
   "source": [
    "```python\n",
    "import logging\n",
    "import logging.config\n",
    "\n",
    "def main():\n",
    "    # Configure the logging system\n",
    "    logging.config.fileConfig('logconfig.ini')\n",
    "    ...\n",
    "```"
   ]
  },
  {
   "cell_type": "markdown",
   "metadata": {},
   "source": [
    "创建一个下面这样的文件，名字叫 logconfig.ini ："
   ]
  },
  {
   "cell_type": "markdown",
   "metadata": {},
   "source": [
    "```ini\n",
    "[loggers]\n",
    "keys=root\n",
    "\n",
    "[handlers]\n",
    "keys=defaultHandler\n",
    "\n",
    "[formatters]\n",
    "keys=defaultFormatter\n",
    "\n",
    "[logger_root]\n",
    "level=INFO\n",
    "handlers=defaultHandler\n",
    "qualname=root\n",
    "\n",
    "[handler_defaultHandler]\n",
    "class=FileHandler\n",
    "formatter=defaultFormatter\n",
    "args=('app.log', 'a')\n",
    "\n",
    "[formatter_defaultFormatter]\n",
    "format=%(levelname)s:%(name)s:%(message)s\n",
    "```"
   ]
  },
  {
   "cell_type": "markdown",
   "metadata": {},
   "source": [
    "如果你想修改配置，可以直接编辑文件logconfig.ini即可。"
   ]
  },
  {
   "cell_type": "markdown",
   "metadata": {},
   "source": [
    "## 讨论\n",
    "尽管对于 logging 模块而已有很多更高级的配置选项， 不过这里的方案对于简单的程序和脚本已经足够了。 只想在调用日志操作前先执行下basicConfig()函数方法，你的程序就能产生日志输出了。\n",
    "\n",
    "如果你想要你的日志消息写到标准错误中，而不是日志文件中，调用 basicConfig() 时不传文件名参数即可。例如："
   ]
  },
  {
   "cell_type": "code",
   "execution_count": 6,
   "metadata": {},
   "outputs": [],
   "source": [
    "logging.basicConfig(level=logging.INFO)"
   ]
  },
  {
   "cell_type": "markdown",
   "metadata": {},
   "source": [
    "basicConfig() 在程序中只能被执行一次。如果你稍后想改变日志配置， 就需要先获取 root logger ，然后直接修改它。例如："
   ]
  },
  {
   "cell_type": "code",
   "execution_count": 7,
   "metadata": {},
   "outputs": [],
   "source": [
    "logging.getLogger().level = logging.DEBUG"
   ]
  },
  {
   "cell_type": "markdown",
   "metadata": {},
   "source": [
    "需要强调的是本节只是演示了 logging 模块的一些基本用法。 它可以做更多更高级的定制。 关于日志定制化一个很好的资源是 Logging Cookbook"
   ]
  },
  {
   "cell_type": "code",
   "execution_count": null,
   "metadata": {},
   "outputs": [],
   "source": []
  },
  {
   "cell_type": "code",
   "execution_count": null,
   "metadata": {},
   "outputs": [],
   "source": []
  }
 ],
 "metadata": {
  "kernelspec": {
   "display_name": "Python 3",
   "language": "python",
   "name": "python3"
  },
  "language_info": {
   "codemirror_mode": {
    "name": "ipython",
    "version": 3
   },
   "file_extension": ".py",
   "mimetype": "text/x-python",
   "name": "python",
   "nbconvert_exporter": "python",
   "pygments_lexer": "ipython3",
   "version": "3.7.6"
  }
 },
 "nbformat": 4,
 "nbformat_minor": 4
}
