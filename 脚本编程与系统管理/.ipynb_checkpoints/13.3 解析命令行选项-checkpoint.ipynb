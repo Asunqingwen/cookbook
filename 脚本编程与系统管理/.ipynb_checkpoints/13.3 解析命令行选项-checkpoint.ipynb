{
 "cells": [
  {
   "cell_type": "markdown",
   "metadata": {},
   "source": [
    "## 问题\n",
    "你的程序如何能够解析命令行选项（位于sys.argv中）\n",
    "\n",
    "## 解决方案\n",
    "**argparse 模块**可被用来解析命令行选项。下面一个简单例子演示了最基本的用法："
   ]
  },
  {
   "cell_type": "code",
   "execution_count": 1,
   "metadata": {},
   "outputs": [
    {
     "name": "stderr",
     "output_type": "stream",
     "text": [
      "usage: ipykernel_launcher.py [-h] -p pattern [-v] [-o OUTFILE]\n",
      "                             [--speed {slow,fast}]\n",
      "                             [filename [filename ...]]\n",
      "ipykernel_launcher.py: error: the following arguments are required: -p/--pat\n"
     ]
    },
    {
     "ename": "SystemExit",
     "evalue": "2",
     "output_type": "error",
     "traceback": [
      "An exception has occurred, use %tb to see the full traceback.\n",
      "\u001b[1;31mSystemExit\u001b[0m\u001b[1;31m:\u001b[0m 2\n"
     ]
    },
    {
     "name": "stderr",
     "output_type": "stream",
     "text": [
      "c:\\users\\sqw12\\.virtualenvs\\cookbook-wjz76qry\\lib\\site-packages\\IPython\\core\\interactiveshell.py:3425: UserWarning: To exit: use 'exit', 'quit', or Ctrl-D.\n",
      "  warn(\"To exit: use 'exit', 'quit', or Ctrl-D.\", stacklevel=1)\n"
     ]
    }
   ],
   "source": [
    "# search.py\n",
    "'''\n",
    "Hypothetical command-line tool for searching a collection of\n",
    "files for one or more text patterns.\n",
    "'''\n",
    "import argparse\n",
    "parser = argparse.ArgumentParser(description='Search some files')\n",
    "\n",
    "parser.add_argument(dest='filenames',metavar='filename', nargs='*')\n",
    "\n",
    "parser.add_argument('-p', '--pat',metavar='pattern', required=True,\n",
    "                    dest='patterns', action='append',\n",
    "                    help='text pattern to search for')\n",
    "\n",
    "parser.add_argument('-v', dest='verbose', action='store_true',\n",
    "                    help='verbose mode')\n",
    "\n",
    "parser.add_argument('-o', dest='outfile', action='store',\n",
    "                    help='output file')\n",
    "\n",
    "parser.add_argument('--speed', dest='speed', action='store',\n",
    "                    choices={'slow','fast'}, default='slow',\n",
    "                    help='search speed')\n",
    "\n",
    "args = parser.parse_args()\n",
    "\n",
    "# Output the collected arguments\n",
    "print(args.filenames)\n",
    "print(args.patterns)\n",
    "print(args.verbose)\n",
    "print(args.outfile)\n",
    "print(args.speed)"
   ]
  },
  {
   "cell_type": "markdown",
   "metadata": {},
   "source": [
    "该程序定义了一个如下使用的命令行解析器："
   ]
  },
  {
   "cell_type": "markdown",
   "metadata": {},
   "source": [
    "```bash\n",
    "bash % python3 search.py -h\n",
    "usage: search.py [-h] [-p pattern] [-v] [-o OUTFILE] [--speed {slow,fast}]\n",
    "                 [filename [filename ...]]\n",
    "\n",
    "Search some files\n",
    "\n",
    "positional arguments:\n",
    "  filename\n",
    "\n",
    "optional arguments:\n",
    "  -h, --help            show this help message and exit\n",
    "  -p pattern, --pat pattern\n",
    "                        text pattern to search for\n",
    "  -v                    verbose mode\n",
    "  -o OUTFILE            output file\n",
    "  --speed {slow,fast}   search speed\n",
    "```"
   ]
  },
  {
   "cell_type": "markdown",
   "metadata": {},
   "source": [
    "下面的部分演示了程序中的数据部分。仔细观察print()语句的打印输出。"
   ]
  },
  {
   "cell_type": "markdown",
   "metadata": {},
   "source": [
    "```bash\n",
    "bash % python3 search.py foo.txt bar.txt\n",
    "usage: search.py [-h] -p pattern [-v] [-o OUTFILE] [--speed {fast,slow}]\n",
    "                 [filename [filename ...]]\n",
    "search.py: error: the following arguments are required: -p/--pat\n",
    "\n",
    "bash % python3 search.py -v -p spam --pat=eggs foo.txt bar.txt\n",
    "filenames = ['foo.txt', 'bar.txt']\n",
    "patterns  = ['spam', 'eggs']\n",
    "verbose   = True\n",
    "outfile   = None\n",
    "speed     = slow\n",
    "\n",
    "bash % python3 search.py -v -p spam --pat=eggs foo.txt bar.txt -o results\n",
    "filenames = ['foo.txt', 'bar.txt']\n",
    "patterns  = ['spam', 'eggs']\n",
    "verbose   = True\n",
    "outfile   = results\n",
    "speed     = slow\n",
    "\n",
    "bash % python3 search.py -v -p spam --pat=eggs foo.txt bar.txt -o results \\\n",
    "             --speed=fast\n",
    "filenames = ['foo.txt', 'bar.txt']\n",
    "patterns  = ['spam', 'eggs']\n",
    "verbose   = True\n",
    "outfile   = results\n",
    "speed     = fast\n",
    "```"
   ]
  },
  {
   "cell_type": "markdown",
   "metadata": {},
   "source": [
    "对于选项值的进一步处理由程序来决定，用你自己的逻辑来替代 print() 函数。"
   ]
  },
  {
   "cell_type": "markdown",
   "metadata": {},
   "source": [
    "## 讨论\n",
    "argparse 模块是标准库中最大的模块之一，拥有大量的配置选项。 本节只是演示了其中最基础的一些特性，帮助你入门。\n",
    "\n",
    "为了解析命令行选项，你首先要创建一个 ArgumentParser 实例， 并使用 add_argument() 方法声明你想要支持的选项。 在每个 add_argument() 调用中，dest 参数指定解析结果被指派给属性的名字。 metavar 参数被用来生成帮助信息。action 参数指定跟属性对应的处理逻辑， 通常的值为 store ,被用来存储某个值或将多个参数值收集到一个列表中。 下面的参数收集所有剩余的命令行参数到一个列表中。在本例中它被用来构造一个文件名列表："
   ]
  },
  {
   "cell_type": "markdown",
   "metadata": {},
   "source": [
    "```bash\n",
    "parser.add_argument(dest='filenames',metavar='filename', nargs='*')\n",
    "```"
   ]
  },
  {
   "cell_type": "markdown",
   "metadata": {},
   "source": [
    "下面的参数根据参数是否存在来设置一个 Boolean 标志："
   ]
  },
  {
   "cell_type": "markdown",
   "metadata": {},
   "source": [
    "```bash\n",
    "parser.add_argument('-v', dest='verbose', action='store_true',\n",
    "                    help='verbose mode')\n",
    "```"
   ]
  },
  {
   "cell_type": "markdown",
   "metadata": {},
   "source": [
    "下面的参数接受一个单独值并将其存储为一个字符串："
   ]
  },
  {
   "cell_type": "markdown",
   "metadata": {},
   "source": [
    "```bash\n",
    "parser.add_argument('-o', dest='outfile', action='store',\n",
    "                    help='output file')\n",
    "```"
   ]
  },
  {
   "cell_type": "markdown",
   "metadata": {},
   "source": [
    "下面的参数说明允许某个参数重复出现多次，并将它们追加到一个列表中去。 required 标志表示该参数至少要有一个。-p 和 --pat 表示两个参数名形式都可使用。"
   ]
  },
  {
   "cell_type": "markdown",
   "metadata": {},
   "source": [
    "```bash\n",
    "parser.add_argument('-p', '--pat',metavar='pattern', required=True,\n",
    "                    dest='patterns', action='append',\n",
    "                    help='text pattern to search for')\n",
    "```"
   ]
  },
  {
   "cell_type": "markdown",
   "metadata": {},
   "source": [
    "最后，下面的参数说明接受一个值，但是会将其和可能的选择值做比较，以检测其合法性："
   ]
  },
  {
   "cell_type": "markdown",
   "metadata": {},
   "source": [
    "```bash\n",
    "parser.add_argument('--speed', dest='speed', action='store',\n",
    "                    choices={'slow','fast'}, default='slow',\n",
    "                    help='search speed')\n",
    "```"
   ]
  },
  {
   "cell_type": "markdown",
   "metadata": {},
   "source": [
    "一旦参数选项被指定，你就可以执行 parser.parse() 方法了。 它会处理 sys.argv 的值并返回一个结果实例。 每个参数值会被设置成该实例中 add_argument() 方法的 dest 参数指定的属性值。\n",
    "\n",
    "还很多种其他方法解析命令行选项。 例如，你可能会手动的处理 sys.argv 或者使用 getopt 模块。 但是，如果你采用本节的方式，将会减少很多冗余代码，底层细节 argparse 模块已经帮你处理了。 你可能还会碰到使用 optparse 库解析选项的代码。 尽管 optparse 和 argparse 很像，但是后者更先进，因此在新的程序中你应该使用它。"
   ]
  },
  {
   "cell_type": "code",
   "execution_count": null,
   "metadata": {},
   "outputs": [],
   "source": []
  },
  {
   "cell_type": "code",
   "execution_count": null,
   "metadata": {},
   "outputs": [],
   "source": []
  },
  {
   "cell_type": "code",
   "execution_count": null,
   "metadata": {},
   "outputs": [],
   "source": []
  },
  {
   "cell_type": "code",
   "execution_count": null,
   "metadata": {},
   "outputs": [],
   "source": []
  }
 ],
 "metadata": {
  "kernelspec": {
   "display_name": "Python 3",
   "language": "python",
   "name": "python3"
  },
  "language_info": {
   "codemirror_mode": {
    "name": "ipython",
    "version": 3
   },
   "file_extension": ".py",
   "mimetype": "text/x-python",
   "name": "python",
   "nbconvert_exporter": "python",
   "pygments_lexer": "ipython3",
   "version": "3.7.6"
  }
 },
 "nbformat": 4,
 "nbformat_minor": 4
}
