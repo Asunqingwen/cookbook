{
 "cells": [
  {
   "cell_type": "markdown",
   "metadata": {},
   "source": [
    "## 问题\n",
    "你希望你的脚本接受任何用户认为最简单的输入方式。包括将命令行的输出通过管道传递给该脚本、 重定向文件到该脚本，或在命令行中传递一个文件名或文件名列表给该脚本。\n",
    "\n",
    "## 解决方案\n",
    "Python内置的 **fileinput 模块**让这个变得简单。如果你有一个下面这样的脚本："
   ]
  },
  {
   "cell_type": "code",
   "execution_count": 1,
   "metadata": {},
   "outputs": [],
   "source": [
    "import fileinput"
   ]
  },
  {
   "cell_type": "markdown",
   "metadata": {},
   "source": [
    "```python\n",
    "#!/usr/bin/env python3\n",
    "import fileinput\n",
    "\n",
    "with fileinput.input() as f_input:\n",
    "    for line in f_input:\n",
    "        print(line, end='')\n",
    "```"
   ]
  },
  {
   "cell_type": "markdown",
   "metadata": {},
   "source": [
    "那么你就能以前面提到的所有方式来为此脚本提供输入。假设你将此脚本保存为 filein.py 并将其变为可执行文件， 那么你可以像下面这样调用它，得到期望的输出："
   ]
  },
  {
   "cell_type": "markdown",
   "metadata": {},
   "source": [
    "```bash\n",
    "$ ls | ./filein.py          # Prints a directory listing to stdout.\n",
    "$ ./filein.py /etc/passwd   # Reads /etc/passwd to stdout.\n",
    "$ ./filein.py < /etc/passwd # Reads /etc/passwd to stdout.\n",
    "```"
   ]
  },
  {
   "cell_type": "markdown",
   "metadata": {},
   "source": [
    "## 讨论\n",
    "fileinput.input() 创建并返回一个 FileInput 类的实例。 该实例除了拥有一些有用的帮助方法外，它还可被当做一个上下文管理器使用。 因此，整合起来，如果我们要写一个打印多个文件输出的脚本，那么我们需要在输出中包含文件名和行号，如下所示："
   ]
  },
  {
   "cell_type": "markdown",
   "metadata": {},
   "source": [
    "```python\n",
    ">>> import fileinput\n",
    ">>> with fileinput.input('/etc/passwd') as f:\n",
    ">>>     for line in f:\n",
    "...         print(f.filename(), f.lineno(), line, end='')\n",
    "...\n",
    "/etc/passwd 1 ##\n",
    "/etc/passwd 2 # User Database\n",
    "/etc/passwd 3 #\n",
    "\n",
    "<other output omitted>\n",
    "```"
   ]
  },
  {
   "cell_type": "markdown",
   "metadata": {},
   "source": [
    "通过将它作为一个上下文管理器使用，可以确保它不再使用时文件能自动关闭， 而且我们在之后还演示了 FileInput 的一些有用的帮助方法来获取输出中的一些其他信息。"
   ]
  },
  {
   "cell_type": "code",
   "execution_count": null,
   "metadata": {},
   "outputs": [],
   "source": []
  }
 ],
 "metadata": {
  "kernelspec": {
   "display_name": "Python 3",
   "language": "python",
   "name": "python3"
  },
  "language_info": {
   "codemirror_mode": {
    "name": "ipython",
    "version": 3
   },
   "file_extension": ".py",
   "mimetype": "text/x-python",
   "name": "python",
   "nbconvert_exporter": "python",
   "pygments_lexer": "ipython3",
   "version": "3.7.6"
  }
 },
 "nbformat": 4,
 "nbformat_minor": 4
}
