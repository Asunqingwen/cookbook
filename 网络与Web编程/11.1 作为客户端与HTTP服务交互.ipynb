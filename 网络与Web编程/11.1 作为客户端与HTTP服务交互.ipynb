{
 "cells": [
  {
   "cell_type": "markdown",
   "metadata": {},
   "source": [
    "## 问题\n",
    "你需要通过HTTP协议以客户端的方式访问多种服务。例如，下载数据或者与基于REST的API进行交互。\n",
    "\n",
    "## 解决方案\n",
    "对于简单的事情来说，通常使用 **urllib.request** 模块就够了。例如，发送一个简单的HTTP GET请求到远程的服务上，可以这样做："
   ]
  },
  {
   "cell_type": "code",
   "execution_count": 1,
   "metadata": {},
   "outputs": [],
   "source": [
    "from urllib import request,parse"
   ]
  },
  {
   "cell_type": "code",
   "execution_count": 7,
   "metadata": {},
   "outputs": [],
   "source": [
    "url = 'http://httpbin.org/get'"
   ]
  },
  {
   "cell_type": "code",
   "execution_count": 3,
   "metadata": {},
   "outputs": [],
   "source": [
    "parms = {\n",
    "    'name1':'value1',\n",
    "    'name2':'value2',\n",
    "}"
   ]
  },
  {
   "cell_type": "code",
   "execution_count": 4,
   "metadata": {},
   "outputs": [],
   "source": [
    "querystring = parse.urlencode(parms)"
   ]
  },
  {
   "cell_type": "code",
   "execution_count": 8,
   "metadata": {},
   "outputs": [],
   "source": [
    "u = request.urlopen(url + '?' + querystring)"
   ]
  },
  {
   "cell_type": "code",
   "execution_count": 9,
   "metadata": {},
   "outputs": [],
   "source": [
    "resp = u.read()"
   ]
  },
  {
   "cell_type": "markdown",
   "metadata": {},
   "source": [
    "如果你需要使用POST方法在请求主体中发送查询参数，可以将参数编码后作为可选参数提供给 urlopen() 函数，就像这样："
   ]
  },
  {
   "cell_type": "code",
   "execution_count": 10,
   "metadata": {},
   "outputs": [],
   "source": [
    "from urllib import request, parse\n",
    "\n",
    "# Base URL being accessed\n",
    "url = 'http://httpbin.org/post'\n",
    "\n",
    "# Dictionary of query parameters (if any)\n",
    "parms = {\n",
    "   'name1' : 'value1',\n",
    "   'name2' : 'value2'\n",
    "}\n",
    "\n",
    "# Encode the query string\n",
    "querystring = parse.urlencode(parms)\n",
    "\n",
    "# Make a POST request and read the response\n",
    "u = request.urlopen(url, querystring.encode('ascii'))\n",
    "resp = u.read()"
   ]
  },
  {
   "cell_type": "markdown",
   "metadata": {},
   "source": [
    "如果你需要在发出的请求中提供一些自定义的HTTP头，例如修改 user-agent 字段,可以创建一个包含字段值的字典，并创建一个**Request实例**然后将其传给 urlopen() ，如下："
   ]
  },
  {
   "cell_type": "markdown",
   "metadata": {},
   "source": [
    "```python\n",
    "from urllib import request, parse\n",
    "...\n",
    "\n",
    "# Extra headers\n",
    "headers = {\n",
    "    'User-agent' : 'none/ofyourbusiness',\n",
    "    'Spam' : 'Eggs'\n",
    "}\n",
    "\n",
    "req = request.Request(url, querystring.encode('ascii'), headers=headers)\n",
    "\n",
    "# Make a request and read the response\n",
    "u = request.urlopen(req)\n",
    "resp = u.read()\n",
    "```"
   ]
  },
  {
   "cell_type": "markdown",
   "metadata": {},
   "source": [
    "如果需要交互的服务比上面的例子都要复杂，也许应该去看看 **requests 库**（https://pypi.python.org/pypi/requests）。例如，下面这个示例采用requests库重新实现了上面的操作："
   ]
  },
  {
   "cell_type": "code",
   "execution_count": 12,
   "metadata": {},
   "outputs": [],
   "source": [
    "import requests"
   ]
  },
  {
   "cell_type": "code",
   "execution_count": 13,
   "metadata": {},
   "outputs": [],
   "source": [
    "url = 'http://httpbin.org/post'"
   ]
  },
  {
   "cell_type": "code",
   "execution_count": 14,
   "metadata": {},
   "outputs": [],
   "source": [
    "parms = {\n",
    "    'name1':'value1',\n",
    "    'name2':'value2',\n",
    "}"
   ]
  },
  {
   "cell_type": "code",
   "execution_count": 15,
   "metadata": {},
   "outputs": [],
   "source": [
    "headers = {\n",
    "    'User-agent':'none/ofyourbusiness',\n",
    "    'Spam':'Eggs',\n",
    "}"
   ]
  },
  {
   "cell_type": "code",
   "execution_count": 16,
   "metadata": {},
   "outputs": [],
   "source": [
    "resp = requests.post(url,data=parms,headers=headers)"
   ]
  },
  {
   "cell_type": "code",
   "execution_count": 18,
   "metadata": {},
   "outputs": [],
   "source": [
    "text = resp.text"
   ]
  },
  {
   "cell_type": "markdown",
   "metadata": {},
   "source": [
    "关于requests库，一个值得一提的特性就是它能以多种方式从请求中返回响应结果的内容。从上面的代码来看， resp.text 带给我们的是以Unicode解码的响应文本。但是，如果去访问 resp.content ，就会得到原始的二进制数据。另一方面，如果访问 resp.json ，那么就会得到JSON格式的响应内容。\n",
    "\n",
    "下面这个示例利用 requests 库发起一个HEAD请求，并从响应中提取出一些HTTP头数据的字段："
   ]
  },
  {
   "cell_type": "code",
   "execution_count": 19,
   "metadata": {},
   "outputs": [],
   "source": [
    "import requests"
   ]
  },
  {
   "cell_type": "code",
   "execution_count": 20,
   "metadata": {},
   "outputs": [],
   "source": [
    "resp = requests.head('http://www.python.org/index.html')"
   ]
  },
  {
   "cell_type": "code",
   "execution_count": 21,
   "metadata": {},
   "outputs": [],
   "source": [
    "status = resp.status_code"
   ]
  },
  {
   "cell_type": "markdown",
   "metadata": {},
   "source": [
    "```python\n",
    "import requests\n",
    "\n",
    "resp = requests.head('http://www.python.org/index.html')\n",
    "\n",
    "status = resp.status_code\n",
    "last_modified = resp.headers['last-modified']\n",
    "content_type = resp.headers['content-type']\n",
    "content_length = resp.headers['content-length']\n",
    "```"
   ]
  },
  {
   "cell_type": "markdown",
   "metadata": {},
   "source": [
    "下面是一个利用requests通过基本认证登录Pypi的例子："
   ]
  },
  {
   "cell_type": "code",
   "execution_count": 24,
   "metadata": {},
   "outputs": [],
   "source": [
    "import requests\n",
    "\n",
    "resp = requests.get('http://pypi.python.org/pypi?:action=login',\n",
    "                    auth=('user','password'))"
   ]
  },
  {
   "cell_type": "markdown",
   "metadata": {},
   "source": [
    "下面是一个利用requests将HTTP cookies从一个请求传递到另一个的例子："
   ]
  },
  {
   "cell_type": "markdown",
   "metadata": {},
   "source": [
    "```python\n",
    "import requests\n",
    "\n",
    "# First request\n",
    "resp1 = requests.get(url)\n",
    "...\n",
    "\n",
    "# Second requests with cookies received on first requests\n",
    "resp2 = requests.get(url, cookies=resp1.cookies)\n",
    "```"
   ]
  },
  {
   "cell_type": "markdown",
   "metadata": {},
   "source": [
    " 最后但并非最不重要的一个例子是用requests上传内容："
   ]
  },
  {
   "cell_type": "markdown",
   "metadata": {},
   "source": [
    "```python\n",
    "import requests\n",
    "url = 'http://httpbin.org/post'\n",
    "files = { 'file': ('data.csv', open('data.csv', 'rb')) }\n",
    "\n",
    "r = requests.post(url, files=files)\n",
    "```"
   ]
  },
  {
   "cell_type": "markdown",
   "metadata": {},
   "source": [
    "## 讨论\n",
    "对于真的很简单HTTP客户端代码，用内置的 urllib 模块通常就足够了。但是，如果你要做的不仅仅只是简单的GET或POST请求，那就真的不能再依赖它的功能了。这时候就是第三方模块比如 requests 大显身手的时候了。\n",
    "\n",
    "例如，如果你决定坚持使用标准的程序库而不考虑像 requests 这样的第三方库，那么也许就不得不使用底层的 **http.client 模块**来实现自己的代码。比方说，下面的代码展示了如何执行一个HEAD请求："
   ]
  },
  {
   "cell_type": "code",
   "execution_count": 26,
   "metadata": {},
   "outputs": [],
   "source": [
    "from http.client import HTTPConnection"
   ]
  },
  {
   "cell_type": "code",
   "execution_count": 27,
   "metadata": {},
   "outputs": [],
   "source": [
    "from urllib import parse"
   ]
  },
  {
   "cell_type": "code",
   "execution_count": 28,
   "metadata": {},
   "outputs": [],
   "source": [
    "c = HTTPConnection('www.python.org',80)"
   ]
  },
  {
   "cell_type": "code",
   "execution_count": 29,
   "metadata": {},
   "outputs": [],
   "source": [
    "c.request('HEAD','/index.html')"
   ]
  },
  {
   "cell_type": "code",
   "execution_count": 30,
   "metadata": {},
   "outputs": [],
   "source": [
    "resp = c.getresponse()"
   ]
  },
  {
   "cell_type": "code",
   "execution_count": 31,
   "metadata": {},
   "outputs": [
    {
     "name": "stdout",
     "output_type": "stream",
     "text": [
      "Status 301\n"
     ]
    }
   ],
   "source": [
    "print('Status',resp.status)"
   ]
  },
  {
   "cell_type": "code",
   "execution_count": 33,
   "metadata": {},
   "outputs": [
    {
     "name": "stdout",
     "output_type": "stream",
     "text": [
      "Server Varnish\n",
      "Retry-After 0\n",
      "Location https://www.python.org/index.html\n",
      "Content-Length 0\n",
      "Accept-Ranges bytes\n",
      "Date Tue, 27 Oct 2020 05:23:19 GMT\n",
      "Via 1.1 varnish\n",
      "Connection close\n",
      "X-Served-By cache-hnd18727-HND\n",
      "X-Cache HIT\n",
      "X-Cache-Hits 0\n",
      "X-Timer S1603776199.209204,VS0,VE0\n",
      "Strict-Transport-Security max-age=63072000; includeSubDomains\n"
     ]
    }
   ],
   "source": [
    "for name,value in resp.getheaders():\n",
    "    print(name,value)"
   ]
  },
  {
   "cell_type": "markdown",
   "metadata": {},
   "source": [
    "同样地，如果必须编写涉及代理、认证、cookies以及其他一些细节方面的代码，那么使用 urllib 就显得特别别扭和啰嗦。比方说，下面这个示例实现在Python包索引上的认证："
   ]
  },
  {
   "cell_type": "markdown",
   "metadata": {},
   "source": [
    "```python\n",
    "import urllib.request\n",
    "\n",
    "auth = urllib.request.HTTPBasicAuthHandler()\n",
    "auth.add_password('pypi','http://pypi.python.org','username','password')\n",
    "opener = urllib.request.build_opener(auth)\n",
    "\n",
    "r = urllib.request.Request('http://pypi.python.org/pypi?:action=login')\n",
    "u = opener.open(r)\n",
    "resp = u.read()\n",
    "\n",
    "# From here. You can access more pages using opener\n",
    "...\n",
    "```"
   ]
  },
  {
   "cell_type": "markdown",
   "metadata": {},
   "source": [
    "坦白说，所有的这些操作在 requests 库中都变得简单的多。\n",
    "\n",
    "在开发过程中测试HTTP客户端代码常常是很令人沮丧的，因为所有棘手的细节问题都需要考虑（例如cookies、认证、HTTP头、编码方式等）。要完成这些任务，考虑使用httpbin服务（http://httpbin.org）。这个站点会接收发出的请求，然后以JSON的形式将相应信息回传回来。下面是一个交互式的例子："
   ]
  },
  {
   "cell_type": "code",
   "execution_count": 34,
   "metadata": {},
   "outputs": [],
   "source": [
    "r = requests.get('http://httpbin.org/get?name=Dave&n=37',\n",
    "     headers = { 'User-agent': 'goaway/1.0' })"
   ]
  },
  {
   "cell_type": "code",
   "execution_count": 35,
   "metadata": {},
   "outputs": [],
   "source": [
    "resp = r.json()"
   ]
  },
  {
   "cell_type": "code",
   "execution_count": 36,
   "metadata": {},
   "outputs": [
    {
     "data": {
      "text/plain": [
       "{'Accept': '*/*',\n",
       " 'Accept-Encoding': 'gzip, deflate',\n",
       " 'Host': 'httpbin.org',\n",
       " 'User-Agent': 'goaway/1.0',\n",
       " 'X-Amzn-Trace-Id': 'Root=1-5f97af48-32c78f3332427a01007687ea'}"
      ]
     },
     "execution_count": 36,
     "metadata": {},
     "output_type": "execute_result"
    }
   ],
   "source": [
    "resp['headers']"
   ]
  },
  {
   "cell_type": "code",
   "execution_count": 37,
   "metadata": {},
   "outputs": [
    {
     "data": {
      "text/plain": [
       "{'n': '37', 'name': 'Dave'}"
      ]
     },
     "execution_count": 37,
     "metadata": {},
     "output_type": "execute_result"
    }
   ],
   "source": [
    "resp['args']"
   ]
  },
  {
   "cell_type": "markdown",
   "metadata": {},
   "source": [
    "在要同一个真正的站点进行交互前，先在 httpbin.org 这样的网站上做实验常常是可取的办法。尤其是当我们面对3次登录失败就会关闭账户这样的风险时尤为有用（不要尝试自己编写HTTP认证客户端来登录你的银行账户）。\n",
    "\n",
    "尽管本节没有涉及， request 库还对许多高级的HTTP客户端协议提供了支持，比如OAuth。 requests 模块的文档（http://docs.python-requests.org)质量很高（坦白说比在这短短的一节的篇幅中所提供的任何信息都好），可以参考文档以获得更多地信息。"
   ]
  },
  {
   "cell_type": "code",
   "execution_count": null,
   "metadata": {},
   "outputs": [],
   "source": []
  }
 ],
 "metadata": {
  "kernelspec": {
   "display_name": "Python 3",
   "language": "python",
   "name": "python3"
  },
  "language_info": {
   "codemirror_mode": {
    "name": "ipython",
    "version": 3
   },
   "file_extension": ".py",
   "mimetype": "text/x-python",
   "name": "python",
   "nbconvert_exporter": "python",
   "pygments_lexer": "ipython3",
   "version": "3.7.6"
  }
 },
 "nbformat": 4,
 "nbformat_minor": 4
}
