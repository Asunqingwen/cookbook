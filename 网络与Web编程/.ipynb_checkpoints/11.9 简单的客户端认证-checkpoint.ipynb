{
 "cells": [
  {
   "cell_type": "markdown",
   "metadata": {},
   "source": [
    "## 问题\n",
    "你想在分布式系统中实现一个简单的客户端连接认证功能，又不想像SSL那样的复杂。\n",
    "\n",
    "## 解决方案\n",
    "可以利用 **hmac 模块**实现一个连接握手，从而实现一个简单而高效的认证过程。下面是代码示例："
   ]
  },
  {
   "cell_type": "code",
   "execution_count": 1,
   "metadata": {},
   "outputs": [],
   "source": [
    "import hmac\n",
    "import os\n",
    "\n",
    "def client_authenticate(connection, secret_key):\n",
    "    '''\n",
    "    Authenticate client to a remote service.\n",
    "    connection represents a network connection.\n",
    "    secret_key is a key known only to both client/server.\n",
    "    '''\n",
    "    message = connection.recv(32)\n",
    "    hash = hmac.new(secret_key, message)\n",
    "    digest = hash.digest()\n",
    "    connection.send(digest)\n",
    "\n",
    "def server_authenticate(connection, secret_key):\n",
    "    '''\n",
    "    Request client authentication.\n",
    "    '''\n",
    "    message = os.urandom(32)\n",
    "    connection.send(message)\n",
    "    hash = hmac.new(secret_key, message)\n",
    "    digest = hash.digest()\n",
    "    response = connection.recv(len(digest))\n",
    "    return hmac.compare_digest(digest,response)"
   ]
  },
  {
   "cell_type": "markdown",
   "metadata": {},
   "source": [
    "基本原理是当连接建立后，服务器给客户端发送一个随机的字节消息（这里例子中使用了 os.urandom() 返回值）。 客户端和服务器同时利用hmac和一个只有双方知道的密钥来计算出一个加密哈希值。然后客户端将它计算出的摘要发送给服务器， 服务器通过比较这个值和自己计算的是否一致来决定接受或拒绝连接。摘要的比较需要使用 **hmac.compare_digest() 函数**。 使用这个函数可以避免遭到时间分析攻击，不要用简单的比较操作符（==）。 为了使用这些函数，你需要将它集成到已有的网络或消息代码中。例如，对于sockets，服务器代码应该类似下面："
   ]
  },
  {
   "cell_type": "markdown",
   "metadata": {},
   "source": [
    "```python\n",
    "from socket import socket, AF_INET, SOCK_STREAM\n",
    "\n",
    "secret_key = b'peekaboo'\n",
    "def echo_handler(client_sock):\n",
    "    if not server_authenticate(client_sock, secret_key):\n",
    "        client_sock.close()\n",
    "        return\n",
    "    while True:\n",
    "\n",
    "        msg = client_sock.recv(8192)\n",
    "        if not msg:\n",
    "            break\n",
    "        client_sock.sendall(msg)\n",
    "\n",
    "def echo_server(address):\n",
    "    s = socket(AF_INET, SOCK_STREAM)\n",
    "    s.bind(address)\n",
    "    s.listen(5)\n",
    "    while True:\n",
    "        c,a = s.accept()\n",
    "        echo_handler(c)\n",
    "\n",
    "echo_server(('', 18000))\n",
    "\n",
    "Within a client, you would do this:\n",
    "\n",
    "from socket import socket, AF_INET, SOCK_STREAM\n",
    "\n",
    "secret_key = b'peekaboo'\n",
    "\n",
    "s = socket(AF_INET, SOCK_STREAM)\n",
    "s.connect(('localhost', 18000))\n",
    "client_authenticate(s, secret_key)\n",
    "s.send(b'Hello World')\n",
    "resp = s.recv(1024)\n",
    "```"
   ]
  },
  {
   "cell_type": "markdown",
   "metadata": {},
   "source": [
    "## 讨论\n",
    "hmac 认证的一个常见使用场景是内部消息通信系统和进程间通信。 例如，如果你编写的系统涉及到一个集群中多个处理器之间的通信， 你可以使用本节方案来确保只有被允许的进程之间才能彼此通信。 事实上，基于 hmac 的认证被 multiprocessing 模块使用来实现子进程直接的通信。\n",
    "\n",
    "还有一点需要强调的是连接认证和加密是两码事。 认证成功之后的通信消息是以明文形式发送的，任何人只要想监听这个连接线路都能看到消息（尽管双方的密钥不会被传输）。\n",
    "\n",
    "hmac认证算法基于哈希函数如MD5和SHA-1，关于这个在IETF RFC 2104中有详细介绍。"
   ]
  },
  {
   "cell_type": "code",
   "execution_count": null,
   "metadata": {},
   "outputs": [],
   "source": []
  }
 ],
 "metadata": {
  "kernelspec": {
   "display_name": "Python 3",
   "language": "python",
   "name": "python3"
  },
  "language_info": {
   "codemirror_mode": {
    "name": "ipython",
    "version": 3
   },
   "file_extension": ".py",
   "mimetype": "text/x-python",
   "name": "python",
   "nbconvert_exporter": "python",
   "pygments_lexer": "ipython3",
   "version": "3.7.6"
  }
 },
 "nbformat": 4,
 "nbformat_minor": 4
}
