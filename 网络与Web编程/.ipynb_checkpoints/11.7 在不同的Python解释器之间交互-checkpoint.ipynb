{
 "cells": [
  {
   "cell_type": "markdown",
   "metadata": {},
   "source": [
    "## 问题\n",
    "你在不同的机器上面运行着多个Python解释器实例，并希望能够在这些解释器之间通过消息来交换数据。\n",
    "\n",
    "## 解决方案\n",
    "通过使用 **multiprocessing.connection** 模块可以很容易的实现解释器之间的通信。 下面是一个简单的应答服务器例子："
   ]
  },
  {
   "cell_type": "code",
   "execution_count": null,
   "metadata": {},
   "outputs": [],
   "source": [
    "from multiprocessing.connection import Listener\n",
    "import traceback\n",
    "\n",
    "def echo_client(conn):\n",
    "    try:\n",
    "        while True:\n",
    "            msg = conn.recv()\n",
    "            conn.send(msg)\n",
    "    except EOFError:\n",
    "        print('Connection closed')\n",
    "\n",
    "def echo_server(address, authkey):\n",
    "    serv = Listener(address, authkey=authkey)\n",
    "    while True:\n",
    "        try:\n",
    "            client = serv.accept()\n",
    "\n",
    "            echo_client(client)\n",
    "        except Exception:\n",
    "            traceback.print_exc()\n",
    "\n",
    "echo_server(('', 25000), authkey=b'peekaboo')"
   ]
  },
  {
   "cell_type": "markdown",
   "metadata": {},
   "source": [
    "然后客户端连接服务器并发送消息的简单示例："
   ]
  },
  {
   "cell_type": "code",
   "execution_count": null,
   "metadata": {},
   "outputs": [],
   "source": [
    "```python\n",
    ">>> from multiprocessing.connection import Client\n",
    ">>> c = Client(('localhost', 25000), authkey=b'peekaboo')\n",
    ">>> c.send('hello')\n",
    ">>> c.recv()\n",
    "'hello'\n",
    ">>> c.send(42)\n",
    ">>> c.recv()\n",
    "42\n",
    ">>> c.send([1, 2, 3, 4, 5])\n",
    ">>> c.recv()\n",
    "[1, 2, 3, 4, 5]\n",
    ">>>\n",
    "```"
   ]
  },
  {
   "cell_type": "markdown",
   "metadata": {},
   "source": [
    "跟底层socket不同的是，每个消息会完整保存（每一个通过send()发送的对象能通过recv()来完整接受）。 另外，所有对象会通过pickle序列化。因此，任何兼容pickle的对象都能在此连接上面被发送和接受。"
   ]
  },
  {
   "cell_type": "markdown",
   "metadata": {},
   "source": [
    "## 讨论\n",
    "目前有很多用来实现各种消息传输的包和函数库，比如ZeroMQ、Celery等。 你还有另外一种选择就是自己在底层socket基础之上来实现一个消息传输层。 但是你想要简单一点的方案，那么这时候 multiprocessing.connection 就派上用场了。 仅仅使用一些简单的语句即可实现多个解释器之间的消息通信。\n",
    "\n",
    "如果你的解释器运行在同一台机器上面，那么你可以使用另外的通信机制，比如Unix域套接字或者是Windows命名管道。 要想使用UNIX域套接字来创建一个连接，只需简单的将地址改写一个文件名即可："
   ]
  },
  {
   "cell_type": "markdown",
   "metadata": {},
   "source": [
    "```python\n",
    "s = Listener('/tmp/myconn', authkey=b'peekaboo')\n",
    "```"
   ]
  },
  {
   "cell_type": "markdown",
   "metadata": {},
   "source": [
    "要想使用Windows命名管道来创建连接，只需像下面这样使用一个文件名："
   ]
  },
  {
   "cell_type": "markdown",
   "metadata": {},
   "source": [
    "```python\n",
    "s = Listener(r'\\\\.\\pipe\\myconn', authkey=b'peekaboo')\n",
    "```"
   ]
  },
  {
   "cell_type": "markdown",
   "metadata": {},
   "source": [
    "一个通用准则是，你不要使用 multiprocessing 来实现一个对外的公共服务。 Client() 和 Listener() 中的 authkey 参数用来认证发起连接的终端用户。 如果密钥不对会产生一个异常。此外，该模块最适合用来建立长连接（而不是大量的短连接）， 例如，两个解释器之间启动后就开始建立连接并在处理某个问题过程中会一直保持连接状态。\n",
    "\n",
    "如果你需要对底层连接做更多的控制，比如需要支持超时、非阻塞I/O或其他类似的特性， 你最好使用另外的库或者是在高层socket上来实现这些特性。"
   ]
  },
  {
   "cell_type": "code",
   "execution_count": null,
   "metadata": {},
   "outputs": [],
   "source": []
  },
  {
   "cell_type": "code",
   "execution_count": null,
   "metadata": {},
   "outputs": [],
   "source": []
  }
 ],
 "metadata": {
  "kernelspec": {
   "display_name": "Python 3",
   "language": "python",
   "name": "python3"
  },
  "language_info": {
   "codemirror_mode": {
    "name": "ipython",
    "version": 3
   },
   "file_extension": ".py",
   "mimetype": "text/x-python",
   "name": "python",
   "nbconvert_exporter": "python",
   "pygments_lexer": "ipython3",
   "version": "3.7.6"
  }
 },
 "nbformat": 4,
 "nbformat_minor": 4
}
