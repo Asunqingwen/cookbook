{
 "cells": [
  {
   "cell_type": "markdown",
   "metadata": {},
   "source": [
    "## 问题\n",
    "你想实现一个基于sockets的网络服务，客户端和服务器通过SSL协议认证并加密传输的数据。\n",
    "\n",
    "## 解决方案\n",
    "**ssl 模块**能为底层socket连接添加SSL的支持。 ssl.wrap_socket() 函数接受一个已存在的socket作为参数并使用SSL层来包装它。 例如，下面是一个简单的应答服务器，能在服务器端为所有客户端连接做认证。"
   ]
  },
  {
   "cell_type": "markdown",
   "metadata": {},
   "source": [
    "```python\n",
    "from socket import socket, AF_INET, SOCK_STREAM\n",
    "import ssl\n",
    "\n",
    "KEYFILE = 'server_key.pem'   # Private key of the server\n",
    "CERTFILE = 'server_cert.pem' # Server certificate (given to client)\n",
    "\n",
    "def echo_client(s):\n",
    "    while True:\n",
    "        data = s.recv(8192)\n",
    "        if data == b'':\n",
    "            break\n",
    "        s.send(data)\n",
    "    s.close()\n",
    "    print('Connection closed')\n",
    "\n",
    "def echo_server(address):\n",
    "    s = socket(AF_INET, SOCK_STREAM)\n",
    "    s.bind(address)\n",
    "    s.listen(1)\n",
    "\n",
    "    # Wrap with an SSL layer requiring client certs\n",
    "    s_ssl = ssl.wrap_socket(s,\n",
    "                            keyfile=KEYFILE,\n",
    "                            certfile=CERTFILE,\n",
    "                            server_side=True\n",
    "                            )\n",
    "    # Wait for connections\n",
    "    while True:\n",
    "        try:\n",
    "            c,a = s_ssl.accept()\n",
    "            print('Got connection', c, a)\n",
    "            echo_client(c)\n",
    "        except Exception as e:\n",
    "            print('{}: {}'.format(e.__class__.__name__, e))\n",
    "\n",
    "echo_server(('', 20000))\n",
    "```"
   ]
  },
  {
   "cell_type": "markdown",
   "metadata": {},
   "source": [
    "下面我们演示一个客户端连接服务器的交互例子。客户端会请求服务器来认证并确认连接："
   ]
  },
  {
   "cell_type": "markdown",
   "metadata": {},
   "source": [
    "```python\n",
    ">>> from socket import socket, AF_INET, SOCK_STREAM\n",
    ">>> import ssl\n",
    ">>> s = socket(AF_INET, SOCK_STREAM)\n",
    ">>> s_ssl = ssl.wrap_socket(s,\n",
    "                cert_reqs=ssl.CERT_REQUIRED,\n",
    "                ca_certs = 'server_cert.pem')\n",
    ">>> s_ssl.connect(('localhost', 20000))\n",
    ">>> s_ssl.send(b'Hello World?')\n",
    "12\n",
    ">>> s_ssl.recv(8192)\n",
    "b'Hello World?'\n",
    ">>>\n",
    "```"
   ]
  },
  {
   "cell_type": "markdown",
   "metadata": {},
   "source": [
    "这种直接处理底层socket方式有个问题就是它不能很好的跟标准库中已存在的网络服务兼容。 例如，绝大部分服务器代码（HTTP、XML-RPC等）实际上是基于 socketserver 库的。 客户端代码在一个较高层上实现。我们需要另外一种稍微不同的方式来将SSL添加到已存在的服务中：\n",
    "\n",
    "首先，对于服务器而言，可以通过像下面这样使用一个mixin类来添加SSL："
   ]
  },
  {
   "cell_type": "markdown",
   "metadata": {},
   "source": [
    "```python\n",
    "import ssl\n",
    "\n",
    "class SSLMixin:\n",
    "    '''\n",
    "    Mixin class that adds support for SSL to existing servers based\n",
    "    on the socketserver module.\n",
    "    '''\n",
    "    def __init__(self, *args,\n",
    "                 keyfile=None, certfile=None, ca_certs=None,\n",
    "                 cert_reqs=ssl.CERT_NONE,\n",
    "                 **kwargs):\n",
    "        self._keyfile = keyfile\n",
    "        self._certfile = certfile\n",
    "        self._ca_certs = ca_certs\n",
    "        self._cert_reqs = cert_reqs\n",
    "        super().__init__(*args, **kwargs)\n",
    "\n",
    "    def get_request(self):\n",
    "        client, addr = super().get_request()\n",
    "        client_ssl = ssl.wrap_socket(client,\n",
    "                                     keyfile = self._keyfile,\n",
    "                                     certfile = self._certfile,\n",
    "                                     ca_certs = self._ca_certs,\n",
    "                                     cert_reqs = self._cert_reqs,\n",
    "                                     server_side = True)\n",
    "        return client_ssl, addr\n",
    "```"
   ]
  },
  {
   "cell_type": "markdown",
   "metadata": {},
   "source": [
    "为了使用这个mixin类，你可以将它跟其他服务器类混合。例如，下面是定义一个基于SSL的XML-RPC服务器例子："
   ]
  },
  {
   "cell_type": "markdown",
   "metadata": {},
   "source": [
    "```python\n",
    "# XML-RPC server with SSL\n",
    "\n",
    "from xmlrpc.server import SimpleXMLRPCServer\n",
    "\n",
    "class SSLSimpleXMLRPCServer(SSLMixin, SimpleXMLRPCServer):\n",
    "    pass\n",
    "\n",
    "Here's the XML-RPC server from Recipe 11.6 modified only slightly to use SSL:\n",
    "\n",
    "import ssl\n",
    "from xmlrpc.server import SimpleXMLRPCServer\n",
    "from sslmixin import SSLMixin\n",
    "\n",
    "class SSLSimpleXMLRPCServer(SSLMixin, SimpleXMLRPCServer):\n",
    "    pass\n",
    "\n",
    "class KeyValueServer:\n",
    "    _rpc_methods_ = ['get', 'set', 'delete', 'exists', 'keys']\n",
    "    def __init__(self, *args, **kwargs):\n",
    "        self._data = {}\n",
    "        self._serv = SSLSimpleXMLRPCServer(*args, allow_none=True, **kwargs)\n",
    "        for name in self._rpc_methods_:\n",
    "            self._serv.register_function(getattr(self, name))\n",
    "\n",
    "    def get(self, name):\n",
    "        return self._data[name]\n",
    "\n",
    "    def set(self, name, value):\n",
    "        self._data[name] = value\n",
    "\n",
    "    def delete(self, name):\n",
    "        del self._data[name]\n",
    "\n",
    "    def exists(self, name):\n",
    "        return name in self._data\n",
    "\n",
    "    def keys(self):\n",
    "        return list(self._data)\n",
    "\n",
    "    def serve_forever(self):\n",
    "        self._serv.serve_forever()\n",
    "\n",
    "if __name__ == '__main__':\n",
    "    KEYFILE='server_key.pem'    # Private key of the server\n",
    "    CERTFILE='server_cert.pem'  # Server certificate\n",
    "    kvserv = KeyValueServer(('', 15000),\n",
    "                            keyfile=KEYFILE,\n",
    "                            certfile=CERTFILE)\n",
    "    kvserv.serve_forever()\n",
    "    \n",
    "```"
   ]
  },
  {
   "cell_type": "markdown",
   "metadata": {},
   "source": [
    "使用这个服务器时，你可以使用普通的 xmlrpc.client 模块来连接它。 只需要在URL中指定 https: 即可，例如："
   ]
  },
  {
   "cell_type": "markdown",
   "metadata": {},
   "source": [
    "```python\n",
    ">>> from xmlrpc.client import ServerProxy\n",
    ">>> s = ServerProxy('https://localhost:15000', allow_none=True)\n",
    ">>> s.set('foo','bar')\n",
    ">>> s.set('spam', [1, 2, 3])\n",
    ">>> s.keys()\n",
    "['spam', 'foo']\n",
    ">>> s.get('foo')\n",
    "'bar'\n",
    ">>> s.get('spam')\n",
    "[1, 2, 3]\n",
    ">>> s.delete('spam')\n",
    ">>> s.exists('spam')\n",
    "False\n",
    ">>>\n",
    "```"
   ]
  },
  {
   "cell_type": "markdown",
   "metadata": {},
   "source": [
    "对于SSL客户端来讲一个比较复杂的问题是如何确认服务器证书或为服务器提供客户端认证（比如客户端证书）。 不幸的是，暂时还没有一个标准方法来解决这个问题，需要自己去研究。 不过，下面给出一个例子，用来建立一个安全的XML-RPC连接来确认服务器证书："
   ]
  },
  {
   "cell_type": "markdown",
   "metadata": {},
   "source": [
    "```python\n",
    "from xmlrpc.client import SafeTransport, ServerProxy\n",
    "import ssl\n",
    "\n",
    "class VerifyCertSafeTransport(SafeTransport):\n",
    "    def __init__(self, cafile, certfile=None, keyfile=None):\n",
    "        SafeTransport.__init__(self)\n",
    "        self._ssl_context = ssl.SSLContext(ssl.PROTOCOL_TLSv1)\n",
    "        self._ssl_context.load_verify_locations(cafile)\n",
    "        if certfile:\n",
    "            self._ssl_context.load_cert_chain(certfile, keyfile)\n",
    "        self._ssl_context.verify_mode = ssl.CERT_REQUIRED\n",
    "\n",
    "    def make_connection(self, host):\n",
    "        # Items in the passed dictionary are passed as keyword\n",
    "        # arguments to the http.client.HTTPSConnection() constructor.\n",
    "        # The context argument allows an ssl.SSLContext instance to\n",
    "        # be passed with information about the SSL configuration\n",
    "        s = super().make_connection((host, {'context': self._ssl_context}))\n",
    "\n",
    "        return s\n",
    "\n",
    "# Create the client proxy\n",
    "s = ServerProxy('https://localhost:15000',\n",
    "                transport=VerifyCertSafeTransport('server_cert.pem'),\n",
    "                allow_none=True)\n",
    "```"
   ]
  },
  {
   "cell_type": "markdown",
   "metadata": {},
   "source": [
    "服务器将证书发送给客户端，客户端来确认它的合法性。这种确认可以是相互的。 如果服务器想要确认客户端，可以将服务器启动代码修改如下："
   ]
  },
  {
   "cell_type": "markdown",
   "metadata": {},
   "source": [
    "```python\n",
    "if __name__ == '__main__':\n",
    "    KEYFILE='server_key.pem'   # Private key of the server\n",
    "    CERTFILE='server_cert.pem' # Server certificate\n",
    "    CA_CERTS='client_cert.pem' # Certificates of accepted clients\n",
    "\n",
    "    kvserv = KeyValueServer(('', 15000),\n",
    "                            keyfile=KEYFILE,\n",
    "                            certfile=CERTFILE,\n",
    "                            ca_certs=CA_CERTS,\n",
    "                            cert_reqs=ssl.CERT_REQUIRED,\n",
    "                            )\n",
    "    kvserv.serve_forever()\n",
    "```"
   ]
  },
  {
   "cell_type": "markdown",
   "metadata": {},
   "source": [
    "为了让XML-RPC客户端发送证书，修改 ServerProxy 的初始化代码如下："
   ]
  },
  {
   "cell_type": "markdown",
   "metadata": {},
   "source": [
    "```python\n",
    "# Create the client proxy\n",
    "s = ServerProxy('https://localhost:15000',\n",
    "                transport=VerifyCertSafeTransport('server_cert.pem',\n",
    "                                                  'client_cert.pem',\n",
    "                                                  'client_key.pem'),\n",
    "                allow_none=True)\n",
    "```"
   ]
  },
  {
   "cell_type": "markdown",
   "metadata": {},
   "source": [
    "## 讨论\n",
    "试着去运行本节的代码能测试你的系统配置能力和理解SSL。 可能最大的挑战是如何一步步的获取初始配置key、证书和其他所需依赖。\n",
    "\n",
    "我解释下到底需要啥，每一个SSL连接终端一般都会有一个私钥和一个签名证书文件。 这个证书包含了公钥并在每一次连接的时候都会发送给对方。 对于公共服务器，它们的证书通常是被权威证书机构比如Verisign、Equifax或其他类似机构（需要付费的）签名过的。 为了确认服务器签名，客户端回保存一份包含了信任授权机构的证书列表文件。 例如，web浏览器保存了主要的认证机构的证书，并使用它来为每一个HTTPS连接确认证书的合法性。 对本小节示例而言，只是为了测试，我们可以创建自签名的证书，下面是主要步骤："
   ]
  },
  {
   "cell_type": "markdown",
   "metadata": {},
   "source": [
    "::\n",
    "bash % openssl req -new -x509 -days 365 -nodes -out server_cert.pem\n",
    "-keyout server_key.pem\n",
    "Generating a 1024 bit RSA private key ……………………………………++++++ …++++++\n",
    "\n",
    "writing new private key to ‘server_key.pem’\n",
    "\n",
    "You are about to be asked to enter information that will be incorporated into your certificate request. What you are about to enter is what is called a Distinguished Name or a DN. There are quite a few fields but you can leave some blank For some fields there will be a default value, If you enter ‘.’, the field will be left blank.\n",
    "\n",
    "Country Name (2 letter code) [AU]:US State or Province Name (full name) [Some-State]:Illinois Locality Name (eg, city) []:Chicago Organization Name (eg, company) [Internet Widgits Pty Ltd]:Dabeaz, LLC Organizational Unit Name (eg, section) []: Common Name (eg, YOUR name) []:localhost Email Address []: bash %\n",
    "\n",
    "在创建证书的时候，各个值的设定可以是任意的，但是”Common Name“的值通常要包含服务器的DNS主机名。 如果你只是在本机测试，那么就使用”localhost“，否则使用服务器的域名。\n",
    "\n",
    "::\n",
    "—–BEGIN RSA PRIVATE KEY—– MIICXQIBAAKBgQCZrCNLoEyAKF+f9UNcFaz5Osa6jf7qkbUl8si5xQrY3ZYC7juu nL1dZLn/VbEFIITaUOgvBtPv1qUWTJGwga62VSG1oFE0ODIx3g2Nh4sRf+rySsx2 L4442nx0z4O5vJQ7k6eRNHAZUUnCL50+YvjyLyt7ryLSjSuKhCcJsbZgPwIDAQAB AoGAB5evrr7eyL4160tM5rHTeATlaLY3UBOe5Z8XN8Z6gLiB/ucSX9AysviVD/6F 3oD6z2aL8jbeJc1vHqjt0dC2dwwm32vVl8mRdyoAsQpWmiqXrkvP4Bsl04VpBeHw Qt8xNSW9SFhceL3LEvw9M8i9MV39viih1ILyH8OuHdvJyFECQQDLEjl2d2ppxND9 PoLqVFAirDfX2JnLTdWbc+M11a9Jdn3hKF8TcxfEnFVs5Gav1MusicY5KB0ylYPb YbTvqKc7AkEAwbnRBO2VYEZsJZp2X0IZqP9ovWokkpYx+PE4+c6MySDgaMcigL7v WDIHJG1CHudD09GbqENasDzyb2HAIW4CzQJBAKDdkv+xoW6gJx42Auc2WzTcUHCA eXR/+BLpPrhKykzbvOQ8YvS5W764SUO1u1LWs3G+wnRMvrRvlMCZKgggBjkCQQCG Jewto2+a+WkOKQXrNNScCDE5aPTmZQc5waCYq4UmCZQcOjkUOiN3ST1U5iuxRqfb V/yX6fw0qh+fLWtkOs/JAkA+okMSxZwqRtfgOFGBfwQ8/iKrnizeanTQ3L6scFXI CHZXdJ3XQ6qUmNxNn7iJ7S/LDawo1QfWkCfD9FYoxBlg —–END RSA PRIVATE KEY—–\n",
    "\n",
    "服务器证书文件server_cert.pem内容类似下面这样：\n",
    "\n",
    "::\n",
    "—–BEGIN CERTIFICATE—– MIIC+DCCAmGgAwIBAgIJAPMd+vi45js3MA0GCSqGSIb3DQEBBQUAMFwxCzAJBgNV BAYTAlVTMREwDwYDVQQIEwhJbGxpbm9pczEQMA4GA1UEBxMHQ2hpY2FnbzEUMBIG A1UEChMLRGFiZWF6LCBMTEMxEjAQBgNVBAMTCWxvY2FsaG9zdDAeFw0xMzAxMTEx ODQyMjdaFw0xNDAxMTExODQyMjdaMFwxCzAJBgNVBAYTAlVTMREwDwYDVQQIEwhJ bGxpbm9pczEQMA4GA1UEBxMHQ2hpY2FnbzEUMBIGA1UEChMLRGFiZWF6LCBMTEMx EjAQBgNVBAMTCWxvY2FsaG9zdDCBnzANBgkqhkiG9w0BAQEFAAOBjQAwgYkCgYEA mawjS6BMgChfn/VDXBWs+TrGuo3+6pG1JfLIucUK2N2WAu47rpy9XWS5/1WxBSCE 2lDoLwbT79alFkyRsIGutlUhtaBRNDgyMd4NjYeLEX/q8krMdi+OONp8dM+DubyU\n",
    "\n",
    "O5OnkTRwGVFJwi+dPmL48i8re68i0o0rioQnCbG2YD8CAwEAAaOBwTCBvjAdBgNV HQ4EFgQUrtoLHHgXiDZTr26NMmgKJLJLFtIwgY4GA1UdIwSBhjCBg4AUrtoLHHgX iDZTr26NMmgKJLJLFtKhYKReMFwxCzAJBgNVBAYTAlVTMREwDwYDVQQIEwhJbGxp bm9pczEQMA4GA1UEBxMHQ2hpY2FnbzEUMBIGA1UEChMLRGFiZWF6LCBMTEMxEjAQ BgNVBAMTCWxvY2FsaG9zdIIJAPMd+vi45js3MAwGA1UdEwQFMAMBAf8wDQYJKoZI hvcNAQEFBQADgYEAFci+dqvMG4xF8UTnbGVvZJPIzJDRee6Nbt6AHQo9pOdAIMAu WsGCplSOaDNdKKzl+b2UT2Zp3AIW4Qd51bouSNnR4M/gnr9ZD1ZctFd3jS+C5XRp D3vvcW5lAnCCC80P6rXy7d7hTeFu5EYKtRGXNvVNd/06NALGDflrrOwxF3Y= —–END CERTIFICATE—–\n",
    "\n",
    "在服务器端代码中，私钥和证书文件会被传给SSL相关的包装函数。证书来自于客户端， 私钥应该在保存在服务器中，并加以安全保护。\n",
    "\n",
    "在客户端代码中，需要保存一个合法证书授权文件来确认服务器证书。 如果你没有这个文件，你可以在客户端复制一份服务器的证书并使用它来确认。 连接建立后，服务器会提供它的证书，然后你就能使用已经保存的证书来确认它是否正确。\n",
    "\n",
    "服务器也能选择是否要确认客户端的身份。如果要这样做的话，客户端需要有自己的私钥和认证文件。 服务器也需要保存一个被信任证书授权文件来确认客户端证书。\n",
    "\n",
    "如果你要在真实环境中为你的网络服务加上SSL的支持，这小节只是一个入门介绍而已。 你还应该参考其他的文档，做好花费不少时间来测试它正常工作的准备。反正，就是得慢慢折腾吧~ ^_^"
   ]
  },
  {
   "cell_type": "code",
   "execution_count": null,
   "metadata": {},
   "outputs": [],
   "source": []
  },
  {
   "cell_type": "code",
   "execution_count": null,
   "metadata": {},
   "outputs": [],
   "source": []
  }
 ],
 "metadata": {
  "kernelspec": {
   "display_name": "Python 3",
   "language": "python",
   "name": "python3"
  },
  "language_info": {
   "codemirror_mode": {
    "name": "ipython",
    "version": 3
   },
   "file_extension": ".py",
   "mimetype": "text/x-python",
   "name": "python",
   "nbconvert_exporter": "python",
   "pygments_lexer": "ipython3",
   "version": "3.7.6"
  }
 },
 "nbformat": 4,
 "nbformat_minor": 4
}
