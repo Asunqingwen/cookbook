{
 "cells": [
  {
   "cell_type": "markdown",
   "metadata": {},
   "source": [
    "## 问题\n",
    "你有多个Python解释器进程在同时运行，你想将某个打开的文件描述符从一个解释器传递给另外一个。 比如，假设有个服务器进程相应连接请求，但是实际的相应逻辑是在另一个解释器中执行的。\n",
    "\n",
    "## 解决方案\n",
    "为了在多个进程中传递文件描述符，你首先需要将它们连接到一起。在Unix机器上，你可能需要使用Unix域套接字， 而在windows上面你需要使用命名管道。不过你无需真的需要去操作这些底层， 通常使用 multiprocessing 模块来创建这样的连接会更容易一些。\n",
    "\n",
    "一旦一个连接被创建，你可以使用 multiprocessing.reduction 中的 send_handle() 和 recv_handle() 函数在不同的处理器直接传递文件描述符。 下面的例子演示了最基本的用法："
   ]
  },
  {
   "cell_type": "markdown",
   "metadata": {},
   "source": [
    "```python\n",
    "import multiprocessing\n",
    "from multiprocessing.reduction import recv_handle, send_handle\n",
    "import socket\n",
    "\n",
    "def worker(in_p, out_p):\n",
    "    out_p.close()\n",
    "    while True:\n",
    "        fd = recv_handle(in_p)\n",
    "        print('CHILD: GOT FD', fd)\n",
    "        with socket.socket(socket.AF_INET, socket.SOCK_STREAM, fileno=fd) as s:\n",
    "            while True:\n",
    "                msg = s.recv(1024)\n",
    "                if not msg:\n",
    "                    break\n",
    "                print('CHILD: RECV {!r}'.format(msg))\n",
    "                s.send(msg)\n",
    "\n",
    "def server(address, in_p, out_p, worker_pid):\n",
    "    in_p.close()\n",
    "    s = socket.socket(socket.AF_INET, socket.SOCK_STREAM)\n",
    "    s.setsockopt(socket.SOL_SOCKET, socket.SO_REUSEADDR, True)\n",
    "    s.bind(address)\n",
    "    s.listen(1)\n",
    "    while True:\n",
    "        client, addr = s.accept()\n",
    "        print('SERVER: Got connection from', addr)\n",
    "        send_handle(out_p, client.fileno(), worker_pid)\n",
    "        client.close()\n",
    "\n",
    "if __name__ == '__main__':\n",
    "    c1, c2 = multiprocessing.Pipe()\n",
    "    worker_p = multiprocessing.Process(target=worker, args=(c1,c2))\n",
    "    worker_p.start()\n",
    "\n",
    "    server_p = multiprocessing.Process(target=server,\n",
    "                  args=(('', 15000), c1, c2, worker_p.pid))\n",
    "    server_p.start()\n",
    "\n",
    "    c1.close()\n",
    "    c2.close()\n",
    "```"
   ]
  },
  {
   "cell_type": "markdown",
   "metadata": {},
   "source": [
    "在这个例子中，两个进程被创建并通过一个 multiprocessing 管道连接起来。 服务器进程打开一个socket并等待客户端连接请求。 工作进程仅仅使用 recv_handle() 在管道上面等待接收一个文件描述符。 当服务器接收到一个连接，它将产生的socket文件描述符通过 send_handle() 传递给工作进程。 工作进程接收到socket后向客户端回应数据，然后此次连接关闭。\n",
    "\n",
    "如果你使用Telnet或类似工具连接到服务器，下面是一个演示例子：\n",
    "\n",
    "bash % python3 passfd.py SERVER: Got connection from (‘127.0.0.1’, 55543) CHILD: GOT FD 7 CHILD: RECV b’Hellorn’ CHILD: RECV b’Worldrn’\n",
    "此例最重要的部分是服务器接收到的客户端socket实际上被另外一个不同的进程处理。 服务器仅仅只是将其转手并关闭此连接，然后等待下一个连接。"
   ]
  },
  {
   "cell_type": "markdown",
   "metadata": {},
   "source": [
    "## 讨论\n",
    "对于大部分程序员来讲在不同进程之间传递文件描述符好像没什么必要。 但是，有时候它是构建一个可扩展系统的很有用的工具。例如，在一个多核机器上面， 你可以有多个Python解释器实例，将文件描述符传递给其它解释器来实现负载均衡。\n",
    "\n",
    "send_handle() 和 recv_handle() 函数只能够用于 multiprocessing 连接。 使用它们来代替管道的使用（参考11.7节），只要你使用的是Unix域套接字或Windows管道。 例如，你可以让服务器和工作者各自以单独的程序来启动。下面是服务器的实现例子："
   ]
  },
  {
   "cell_type": "markdown",
   "metadata": {},
   "source": [
    "```python\n",
    "# servermp.py\n",
    "from multiprocessing.connection import Listener\n",
    "from multiprocessing.reduction import send_handle\n",
    "import socket\n",
    "\n",
    "def server(work_address, port):\n",
    "    # Wait for the worker to connect\n",
    "    work_serv = Listener(work_address, authkey=b'peekaboo')\n",
    "    worker = work_serv.accept()\n",
    "    worker_pid = worker.recv()\n",
    "\n",
    "    # Now run a TCP/IP server and send clients to worker\n",
    "    s = socket.socket(socket.AF_INET, socket.SOCK_STREAM)\n",
    "    s.setsockopt(socket.SOL_SOCKET, socket.SO_REUSEADDR, True)\n",
    "    s.bind(('', port))\n",
    "    s.listen(1)\n",
    "    while True:\n",
    "        client, addr = s.accept()\n",
    "        print('SERVER: Got connection from', addr)\n",
    "\n",
    "        send_handle(worker, client.fileno(), worker_pid)\n",
    "        client.close()\n",
    "\n",
    "if __name__ == '__main__':\n",
    "    import sys\n",
    "    if len(sys.argv) != 3:\n",
    "        print('Usage: server.py server_address port', file=sys.stderr)\n",
    "        raise SystemExit(1)\n",
    "\n",
    "    server(sys.argv[1], int(sys.argv[2]))\n",
    "```"
   ]
  },
  {
   "cell_type": "markdown",
   "metadata": {},
   "source": [
    "运行这个服务器，只需要执行 python3 servermp.py /tmp/servconn 15000 ，下面是相应的工作者代码："
   ]
  },
  {
   "cell_type": "markdown",
   "metadata": {},
   "source": [
    "```python\n",
    "# workermp.py\n",
    "\n",
    "from multiprocessing.connection import Client\n",
    "from multiprocessing.reduction import recv_handle\n",
    "import os\n",
    "from socket import socket, AF_INET, SOCK_STREAM\n",
    "\n",
    "def worker(server_address):\n",
    "    serv = Client(server_address, authkey=b'peekaboo')\n",
    "    serv.send(os.getpid())\n",
    "    while True:\n",
    "        fd = recv_handle(serv)\n",
    "        print('WORKER: GOT FD', fd)\n",
    "        with socket(AF_INET, SOCK_STREAM, fileno=fd) as client:\n",
    "            while True:\n",
    "                msg = client.recv(1024)\n",
    "                if not msg:\n",
    "                    break\n",
    "                print('WORKER: RECV {!r}'.format(msg))\n",
    "                client.send(msg)\n",
    "\n",
    "if __name__ == '__main__':\n",
    "    import sys\n",
    "    if len(sys.argv) != 2:\n",
    "        print('Usage: worker.py server_address', file=sys.stderr)\n",
    "        raise SystemExit(1)\n",
    "\n",
    "    worker(sys.argv[1])\n",
    "```"
   ]
  },
  {
   "cell_type": "markdown",
   "metadata": {},
   "source": [
    "要运行工作者，执行执行命令 python3 workermp.py /tmp/servconn . 效果跟使用Pipe()例子是完全一样的。 文件描述符的传递会涉及到UNIX域套接字的创建和套接字的 sendmsg() 方法。 不过这种技术并不常见，下面是使用套接字来传递描述符的另外一种实现："
   ]
  },
  {
   "cell_type": "markdown",
   "metadata": {},
   "source": [
    "```python\n",
    "# server.py\n",
    "import socket\n",
    "\n",
    "import struct\n",
    "\n",
    "def send_fd(sock, fd):\n",
    "    '''\n",
    "    Send a single file descriptor.\n",
    "    '''\n",
    "    sock.sendmsg([b'x'],\n",
    "                 [(socket.SOL_SOCKET, socket.SCM_RIGHTS, struct.pack('i', fd))])\n",
    "    ack = sock.recv(2)\n",
    "    assert ack == b'OK'\n",
    "\n",
    "def server(work_address, port):\n",
    "    # Wait for the worker to connect\n",
    "    work_serv = socket.socket(socket.AF_UNIX, socket.SOCK_STREAM)\n",
    "    work_serv.bind(work_address)\n",
    "    work_serv.listen(1)\n",
    "    worker, addr = work_serv.accept()\n",
    "\n",
    "    # Now run a TCP/IP server and send clients to worker\n",
    "    s = socket.socket(socket.AF_INET, socket.SOCK_STREAM)\n",
    "    s.setsockopt(socket.SOL_SOCKET, socket.SO_REUSEADDR, True)\n",
    "    s.bind(('',port))\n",
    "    s.listen(1)\n",
    "    while True:\n",
    "        client, addr = s.accept()\n",
    "        print('SERVER: Got connection from', addr)\n",
    "        send_fd(worker, client.fileno())\n",
    "        client.close()\n",
    "\n",
    "if __name__ == '__main__':\n",
    "    import sys\n",
    "    if len(sys.argv) != 3:\n",
    "        print('Usage: server.py server_address port', file=sys.stderr)\n",
    "        raise SystemExit(1)\n",
    "\n",
    "    server(sys.argv[1], int(sys.argv[2]))\n",
    "```"
   ]
  },
  {
   "cell_type": "markdown",
   "metadata": {},
   "source": [
    "下面是使用套接字的工作者实现："
   ]
  },
  {
   "cell_type": "markdown",
   "metadata": {},
   "source": [
    "```python\n",
    "# worker.py\n",
    "import socket\n",
    "import struct\n",
    "\n",
    "def recv_fd(sock):\n",
    "    '''\n",
    "    Receive a single file descriptor\n",
    "    '''\n",
    "    msg, ancdata, flags, addr = sock.recvmsg(1,\n",
    "                                     socket.CMSG_LEN(struct.calcsize('i')))\n",
    "\n",
    "    cmsg_level, cmsg_type, cmsg_data = ancdata[0]\n",
    "    assert cmsg_level == socket.SOL_SOCKET and cmsg_type == socket.SCM_RIGHTS\n",
    "    sock.sendall(b'OK')\n",
    "\n",
    "    return struct.unpack('i', cmsg_data)[0]\n",
    "\n",
    "def worker(server_address):\n",
    "    serv = socket.socket(socket.AF_UNIX, socket.SOCK_STREAM)\n",
    "    serv.connect(server_address)\n",
    "    while True:\n",
    "        fd = recv_fd(serv)\n",
    "        print('WORKER: GOT FD', fd)\n",
    "        with socket.socket(socket.AF_INET, socket.SOCK_STREAM, fileno=fd) as client:\n",
    "            while True:\n",
    "                msg = client.recv(1024)\n",
    "                if not msg:\n",
    "                    break\n",
    "                print('WORKER: RECV {!r}'.format(msg))\n",
    "                client.send(msg)\n",
    "\n",
    "if __name__ == '__main__':\n",
    "    import sys\n",
    "    if len(sys.argv) != 2:\n",
    "        print('Usage: worker.py server_address', file=sys.stderr)\n",
    "        raise SystemExit(1)\n",
    "\n",
    "    worker(sys.argv[1])\n",
    "```"
   ]
  },
  {
   "cell_type": "markdown",
   "metadata": {},
   "source": [
    "如果你想在你的程序中传递文件描述符，建议你参阅其他一些更加高级的文档， 比如 Unix Network Programming by W. Richard Stevens  (Prentice  Hall,  1990) . 在Windows上传递文件描述符跟Unix是不一样的，建议你研究下 multiprocessing.reduction 中的源代码看看其工作原理。"
   ]
  },
  {
   "cell_type": "code",
   "execution_count": null,
   "metadata": {},
   "outputs": [],
   "source": []
  },
  {
   "cell_type": "code",
   "execution_count": null,
   "metadata": {},
   "outputs": [],
   "source": []
  },
  {
   "cell_type": "code",
   "execution_count": null,
   "metadata": {},
   "outputs": [],
   "source": []
  }
 ],
 "metadata": {
  "kernelspec": {
   "display_name": "Python 3",
   "language": "python",
   "name": "python3"
  },
  "language_info": {
   "codemirror_mode": {
    "name": "ipython",
    "version": 3
   },
   "file_extension": ".py",
   "mimetype": "text/x-python",
   "name": "python",
   "nbconvert_exporter": "python",
   "pygments_lexer": "ipython3",
   "version": "3.7.6"
  }
 },
 "nbformat": 4,
 "nbformat_minor": 4
}
