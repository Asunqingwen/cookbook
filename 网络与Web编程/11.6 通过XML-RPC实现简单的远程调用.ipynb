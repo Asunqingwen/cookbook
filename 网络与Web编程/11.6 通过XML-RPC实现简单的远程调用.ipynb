{
 "cells": [
  {
   "cell_type": "markdown",
   "metadata": {},
   "source": [
    "## 问题\n",
    "你想找到一个简单的方式去执行运行在远程机器上面的Python程序中的函数或方法。\n",
    "\n",
    "## 解决方案\n",
    "实现一个远程方法调用的最简单方式是使用**XML-RPC**。下面我们演示一下一个实现了键-值存储功能的简单服务器："
   ]
  },
  {
   "cell_type": "code",
   "execution_count": 1,
   "metadata": {},
   "outputs": [],
   "source": [
    "from xmlrpc.server import SimpleXMLRPCServer"
   ]
  },
  {
   "cell_type": "code",
   "execution_count": 3,
   "metadata": {},
   "outputs": [],
   "source": [
    "class KeyValueServer:\n",
    "    _rpc_methods = ['get','set','delete','exists','keys']\n",
    "    def __init__(self,address):\n",
    "        self._data = {}\n",
    "        self._serv = SimpleXMLRPCServer(address,allow_none=True)\n",
    "        for name in self._rpc_methods:\n",
    "            self._serv.register_function(getattr(self,name))\n",
    "            \n",
    "    def get(self,name):\n",
    "        return self._data[name]\n",
    "    \n",
    "    def set(self,name,value):\n",
    "        self._data[name] = value\n",
    "        \n",
    "    def delete(self,name):\n",
    "        del self._data[name]\n",
    "        \n",
    "    def exists(self,name):\n",
    "        return name in self._data\n",
    "    \n",
    "    def keys(self):\n",
    "        return list(self._data)\n",
    "    \n",
    "    def serve_forever(self):\n",
    "        self._serv.serve_forever()"
   ]
  },
  {
   "cell_type": "code",
   "execution_count": 4,
   "metadata": {},
   "outputs": [],
   "source": [
    "kvserv = KeyValueServer(('',15000))"
   ]
  },
  {
   "cell_type": "code",
   "execution_count": 5,
   "metadata": {},
   "outputs": [],
   "source": [
    "#kvserv.serve_forever()"
   ]
  },
  {
   "cell_type": "markdown",
   "metadata": {},
   "source": [
    "下面我们从一个客户端机器上面来访问服务器："
   ]
  },
  {
   "cell_type": "code",
   "execution_count": 6,
   "metadata": {},
   "outputs": [],
   "source": [
    "from xmlrpc.client import ServerProxy"
   ]
  },
  {
   "cell_type": "markdown",
   "metadata": {},
   "source": [
    "```python\n",
    ">>> s = ServerProxy('http://localhost:15000', allow_none=True)\n",
    ">>> s.set('foo', 'bar')\n",
    ">>> s.set('spam', [1, 2, 3])\n",
    ">>> s.keys()\n",
    "['spam', 'foo']\n",
    ">>> s.get('foo')\n",
    "'bar'\n",
    ">>> s.get('spam')\n",
    "[1, 2, 3]\n",
    ">>> s.delete('spam')\n",
    ">>> s.exists('spam')\n",
    "False\n",
    ">>>\n",
    "```"
   ]
  },
  {
   "cell_type": "markdown",
   "metadata": {},
   "source": [
    "## 讨论\n",
    "XML-RPC 可以让我们很容易的构造一个简单的远程调用服务。你所需要做的仅仅是创建一个服务器实例， 通过它的方法 register_function() 来注册函数，然后使用方法 serve_forever() 启动它。 在上面我们将这些步骤放在一起写到一个类中，不够这并不是必须的。比如你还可以像下面这样创建一个服务器："
   ]
  },
  {
   "cell_type": "markdown",
   "metadata": {},
   "source": [
    "```python\n",
    "from xmlrpc.server import SimpleXMLRPCServer\n",
    "def add(x,y):\n",
    "    return x+y\n",
    "\n",
    "serv = SimpleXMLRPCServer(('', 15000))\n",
    "serv.register_function(add)\n",
    "serv.serve_forever()\n",
    "```"
   ]
  },
  {
   "cell_type": "markdown",
   "metadata": {},
   "source": [
    "XML-RPC暴露出来的函数只能适用于部分数据类型，比如字符串、整形、列表和字典。 对于其他类型就得需要做些额外的功课了。 例如，如果你想通过 XML-RPC 传递一个对象实例，实际上只有他的实例字典被处理："
   ]
  },
  {
   "cell_type": "markdown",
   "metadata": {},
   "source": [
    "```python\n",
    ">>> class Point:\n",
    "...     def __init__(self, x, y):\n",
    "...             self.x = x\n",
    "...             self.y = y\n",
    "...\n",
    ">>> p = Point(2, 3)\n",
    ">>> s.set('foo', p)\n",
    ">>> s.get('foo')\n",
    "{'x': 2, 'y': 3}\n",
    ">>>\n",
    "```"
   ]
  },
  {
   "cell_type": "markdown",
   "metadata": {},
   "source": [
    "类似的，对于二进制数据的处理也跟你想象的不太一样："
   ]
  },
  {
   "cell_type": "markdown",
   "metadata": {},
   "source": [
    "```python\n",
    ">>> s.set('foo', b'Hello World')\n",
    ">>> s.get('foo')\n",
    "<xmlrpc.client.Binary object at 0x10131d410>\n",
    "\n",
    ">>> _.data\n",
    "b'Hello World'\n",
    ">>>\n",
    "```"
   ]
  },
  {
   "cell_type": "markdown",
   "metadata": {},
   "source": [
    "一般来讲，你不应该将 XML-RPC 服务以公共API的方式暴露出来。 对于这种情况，通常分布式应用程序会是一个更好的选择。\n",
    "\n",
    "XML-RPC的一个缺点是它的性能。SimpleXMLRPCServer 的实现是单线程的， 所以它不适合于大型程序，尽管我们在11.2小节中演示过它是可以通过多线程来执行的。 另外，由于 XML-RPC 将所有数据都序列化为XML格式，所以它会比其他的方式运行的慢一些。 但是它也有优点，这种方式的编码可以被绝大部分其他编程语言支持。 通过使用这种方式，其他语言的客户端程序都能访问你的服务。\n",
    "\n",
    "虽然XML-RPC有很多缺点，但是如果你需要快速构建一个简单远程过程调用系统的话，它仍然值得去学习的。 有时候，简单的方案就已经足够了。"
   ]
  },
  {
   "cell_type": "code",
   "execution_count": null,
   "metadata": {},
   "outputs": [],
   "source": []
  },
  {
   "cell_type": "code",
   "execution_count": null,
   "metadata": {},
   "outputs": [],
   "source": []
  }
 ],
 "metadata": {
  "kernelspec": {
   "display_name": "Python 3",
   "language": "python",
   "name": "python3"
  },
  "language_info": {
   "codemirror_mode": {
    "name": "ipython",
    "version": 3
   },
   "file_extension": ".py",
   "mimetype": "text/x-python",
   "name": "python",
   "nbconvert_exporter": "python",
   "pygments_lexer": "ipython3",
   "version": "3.7.6"
  }
 },
 "nbformat": 4,
 "nbformat_minor": 4
}
