{
 "cells": [
  {
   "cell_type": "markdown",
   "metadata": {},
   "source": [
    "## 问题\n",
    "你想获取文件系统中某个目录下的所有文件列表。\n",
    "## 解决方案\n",
    "使用 os.listdir() 函数来获取某个目录中的文件列表："
   ]
  },
  {
   "cell_type": "code",
   "execution_count": 1,
   "metadata": {},
   "outputs": [],
   "source": [
    "import os"
   ]
  },
  {
   "cell_type": "code",
   "execution_count": 2,
   "metadata": {},
   "outputs": [],
   "source": [
    "names = os.listdir('.')"
   ]
  },
  {
   "cell_type": "code",
   "execution_count": 3,
   "metadata": {},
   "outputs": [
    {
     "name": "stdout",
     "output_type": "stream",
     "text": [
      "['.ipynb_checkpoints', '5.1 读写文本数据.ipynb', '5.10 内存映射的二进制文件.ipynb', '5.11 文件路径名的操作.ipynb', '5.12 测试文件是否存在.ipynb', '5.13 获取文件夹中的文件列表.ipynb', '5.2 打印输出至文件中.ipynb', '5.3 使用其他分隔符或行终止符打印.ipynb', '5.4 读写字节数据.ipynb', '5.5 文件不存在才能写入.ipynb', '5.6 字符串的IO操作.ipynb', '5.7 读写压缩文件.ipynb', '5.8 固定大小记录的文件迭代.ipynb', '5.9 读取二进制数据到可变缓冲区中.ipynb', 'data', 'data.bin', 'hello.txt', 'newsample.bin', 'sample.bin', 'sample.txt', 'somefile.bin', 'somefile.bz2', 'somefile.gz', 'somefile.txt', 'test.txt', '__init__.py']\n"
     ]
    }
   ],
   "source": [
    "print(names)"
   ]
  },
  {
   "cell_type": "code",
   "execution_count": 4,
   "metadata": {},
   "outputs": [
    {
     "name": "stdout",
     "output_type": "stream",
     "text": [
      ".ipynb_checkpoints 5.1 读写文本数据.ipynb 5.10 内存映射的二进制文件.ipynb 5.11 文件路径名的操作.ipynb 5.12 测试文件是否存在.ipynb 5.13 获取文件夹中的文件列表.ipynb 5.2 打印输出至文件中.ipynb 5.3 使用其他分隔符或行终止符打印.ipynb 5.4 读写字节数据.ipynb 5.5 文件不存在才能写入.ipynb 5.6 字符串的IO操作.ipynb 5.7 读写压缩文件.ipynb 5.8 固定大小记录的文件迭代.ipynb 5.9 读取二进制数据到可变缓冲区中.ipynb data data.bin hello.txt newsample.bin sample.bin sample.txt somefile.bin somefile.bz2 somefile.gz somefile.txt test.txt __init__.py\n"
     ]
    }
   ],
   "source": [
    "print(*names)"
   ]
  },
  {
   "cell_type": "code",
   "execution_count": 5,
   "metadata": {},
   "outputs": [
    {
     "name": "stdout",
     "output_type": "stream",
     "text": [
      ".ipynb_checkpoints 5.1 读写文本数据.ipynb 5.10 内存映射的二进制文件.ipynb 5.11 文件路径名的操作.ipynb 5.12 测试文件是否存在.ipynb 5.13 获取文件夹中的文件列表.ipynb 5.2 打印输出至文件中.ipynb 5.3 使用其他分隔符或行终止符打印.ipynb 5.4 读写字节数据.ipynb 5.5 文件不存在才能写入.ipynb 5.6 字符串的IO操作.ipynb 5.7 读写压缩文件.ipynb 5.8 固定大小记录的文件迭代.ipynb 5.9 读取二进制数据到可变缓冲区中.ipynb data data.bin hello.txt newsample.bin sample.bin sample.txt somefile.bin somefile.bz2 somefile.gz somefile.txt test.txt __init__.py\n"
     ]
    }
   ],
   "source": [
    "print(*names,end='\\n')"
   ]
  },
  {
   "cell_type": "code",
   "execution_count": 6,
   "metadata": {},
   "outputs": [
    {
     "name": "stdout",
     "output_type": "stream",
     "text": [
      ".ipynb_checkpoints 5.1 读写文本数据.ipynb 5.10 内存映射的二进制文件.ipynb 5.11 文件路径名的操作.ipynb 5.12 测试文件是否存在.ipynb 5.13 获取文件夹中的文件列表.ipynb 5.2 打印输出至文件中.ipynb 5.3 使用其他分隔符或行终止符打印.ipynb 5.4 读写字节数据.ipynb 5.5 文件不存在才能写入.ipynb 5.6 字符串的IO操作.ipynb 5.7 读写压缩文件.ipynb 5.8 固定大小记录的文件迭代.ipynb 5.9 读取二进制数据到可变缓冲区中.ipynb data data.bin hello.txt newsample.bin sample.bin sample.txt somefile.bin somefile.bz2 somefile.gz somefile.txt test.txt __init__.py\r\n"
     ]
    }
   ],
   "source": [
    "print(*names,end='\\r\\n')"
   ]
  },
  {
   "cell_type": "markdown",
   "metadata": {},
   "source": [
    "结果会返回目录中所有文件列表，包括所有文件，子目录，符号链接等等。 如果你需要通过某种方式过滤数据，可以考虑结合 os.path 库中的一些函数来使用列表推导。比如："
   ]
  },
  {
   "cell_type": "code",
   "execution_count": 8,
   "metadata": {},
   "outputs": [],
   "source": [
    "names = [name for name in os.listdir('.') if os.path.isfile(os.path.join('.',name))]"
   ]
  },
  {
   "cell_type": "code",
   "execution_count": 9,
   "metadata": {},
   "outputs": [],
   "source": [
    "dirnames = [name for name in os.listdir('.') if os.path.isdir(os.path.join('.',name))]"
   ]
  },
  {
   "cell_type": "code",
   "execution_count": 10,
   "metadata": {},
   "outputs": [
    {
     "name": "stdout",
     "output_type": "stream",
     "text": [
      "['5.1 读写文本数据.ipynb', '5.10 内存映射的二进制文件.ipynb', '5.11 文件路径名的操作.ipynb', '5.12 测试文件是否存在.ipynb', '5.13 获取文件夹中的文件列表.ipynb', '5.2 打印输出至文件中.ipynb', '5.3 使用其他分隔符或行终止符打印.ipynb', '5.4 读写字节数据.ipynb', '5.5 文件不存在才能写入.ipynb', '5.6 字符串的IO操作.ipynb', '5.7 读写压缩文件.ipynb', '5.8 固定大小记录的文件迭代.ipynb', '5.9 读取二进制数据到可变缓冲区中.ipynb', 'data', 'data.bin', 'hello.txt', 'newsample.bin', 'sample.bin', 'sample.txt', 'somefile.bin', 'somefile.bz2', 'somefile.gz', 'somefile.txt', 'test.txt', '__init__.py'] ['.ipynb_checkpoints']\n"
     ]
    }
   ],
   "source": [
    "print(names,dirnames)"
   ]
  },
  {
   "cell_type": "markdown",
   "metadata": {},
   "source": [
    "对于**文件名的匹配**，你可能会考虑使用 **glob 或 fnmatch** 模块。比如："
   ]
  },
  {
   "cell_type": "code",
   "execution_count": 11,
   "metadata": {},
   "outputs": [],
   "source": [
    "import glob"
   ]
  },
  {
   "cell_type": "code",
   "execution_count": 12,
   "metadata": {},
   "outputs": [],
   "source": [
    "pyfiles = glob.glob('./*.py')"
   ]
  },
  {
   "cell_type": "code",
   "execution_count": 13,
   "metadata": {},
   "outputs": [
    {
     "name": "stdout",
     "output_type": "stream",
     "text": [
      "['.\\\\__init__.py']\n"
     ]
    }
   ],
   "source": [
    "print(pyfiles)"
   ]
  },
  {
   "cell_type": "code",
   "execution_count": 14,
   "metadata": {},
   "outputs": [],
   "source": [
    "from fnmatch import fnmatch"
   ]
  },
  {
   "cell_type": "code",
   "execution_count": 15,
   "metadata": {},
   "outputs": [],
   "source": [
    "pyfiles = [name for name in os.listdir('.') if fnmatch(name,'*.py')]"
   ]
  },
  {
   "cell_type": "code",
   "execution_count": 16,
   "metadata": {},
   "outputs": [
    {
     "name": "stdout",
     "output_type": "stream",
     "text": [
      "['__init__.py']\n"
     ]
    }
   ],
   "source": [
    "print(pyfiles)"
   ]
  },
  {
   "cell_type": "markdown",
   "metadata": {},
   "source": [
    "## 讨论\n",
    "获取目录中的列表是很容易的，但是其返回结果只是目录中实体名列表而已。 如果你还想获取其他的元信息，比如文件大小，修改时间等等， 你或许还需要使用到 os.path 模块中的函数或着 os.stat() 函数来收集数据。比如："
   ]
  },
  {
   "cell_type": "code",
   "execution_count": 17,
   "metadata": {},
   "outputs": [],
   "source": [
    "import os\n",
    "import glob"
   ]
  },
  {
   "cell_type": "code",
   "execution_count": 18,
   "metadata": {},
   "outputs": [],
   "source": [
    "pyfiles = glob.glob('*.py')"
   ]
  },
  {
   "cell_type": "code",
   "execution_count": 20,
   "metadata": {},
   "outputs": [
    {
     "name": "stdout",
     "output_type": "stream",
     "text": [
      "__init__.py 0 1600243731.8026645\n"
     ]
    }
   ],
   "source": [
    "name_sz_date = [(name,os.path.getsize(name),os.path.getmtime(name)) for name in pyfiles]\n",
    "for name,size,mtime in name_sz_date:\n",
    "    print(name,size,mtime)"
   ]
  },
  {
   "cell_type": "code",
   "execution_count": 21,
   "metadata": {},
   "outputs": [
    {
     "name": "stdout",
     "output_type": "stream",
     "text": [
      "__init__.py 0 1600243731.8026645\n"
     ]
    }
   ],
   "source": [
    "file_metadata = [(name,os.stat(name)) for name in pyfiles]\n",
    "for name,meta in file_metadata:\n",
    "    print(name,meta.st_size,meta.st_mtime)"
   ]
  },
  {
   "cell_type": "markdown",
   "metadata": {},
   "source": [
    "最后还有一点要注意的就是，有时候在处理文件名编码问题时候可能会出现一些问题。 通常来讲，函数 os.listdir() 返回的实体列表会根据系统默认的文件名编码来解码。 但是有时候也会碰到一些不能正常解码的文件名。 关于文件名的处理问题，在5.14和5.15小节有更详细的讲解。"
   ]
  },
  {
   "cell_type": "code",
   "execution_count": null,
   "metadata": {},
   "outputs": [],
   "source": []
  },
  {
   "cell_type": "code",
   "execution_count": null,
   "metadata": {},
   "outputs": [],
   "source": []
  }
 ],
 "metadata": {
  "kernelspec": {
   "display_name": "Python 3",
   "language": "python",
   "name": "python3"
  },
  "language_info": {
   "codemirror_mode": {
    "name": "ipython",
    "version": 3
   },
   "file_extension": ".py",
   "mimetype": "text/x-python",
   "name": "python",
   "nbconvert_exporter": "python",
   "pygments_lexer": "ipython3",
   "version": "3.7.6"
  }
 },
 "nbformat": 4,
 "nbformat_minor": 4
}
