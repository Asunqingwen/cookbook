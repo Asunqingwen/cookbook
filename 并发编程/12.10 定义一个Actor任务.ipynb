{
 "cells": [
  {
   "cell_type": "markdown",
   "metadata": {},
   "source": [
    "## 问题\n",
    "你想定义跟actor模式中类似“actors”角色的任务\n",
    "\n",
    "## 解决方案\n",
    "**actor模式是一种最古老的也是最简单的并行和分布式计算解决方案**。 事实上，它天生的简单性是它如此受欢迎的重要原因之一。 简单来讲，一个actor就是一个并发执行的任务，只是简单的执行发送给它的消息任务。 响应这些消息时，它可能还会给其他actor发送更进一步的消息。 actor之间的通信是单向和异步的。因此，消息发送者不知道消息是什么时候被发送， 也不会接收到一个消息已被处理的回应或通知。\n",
    "\n",
    "结合使用一个线程和一个队列可以很容易的定义actor，例如："
   ]
  },
  {
   "cell_type": "code",
   "execution_count": 1,
   "metadata": {},
   "outputs": [],
   "source": [
    "from queue import Queue\n",
    "from threading import Thread,Event"
   ]
  },
  {
   "cell_type": "code",
   "execution_count": 2,
   "metadata": {},
   "outputs": [],
   "source": [
    "# Sentinel used for shutdown\n",
    "class ActorExit(Exception):\n",
    "    pass"
   ]
  },
  {
   "cell_type": "code",
   "execution_count": 3,
   "metadata": {},
   "outputs": [],
   "source": [
    "class Actor:\n",
    "    def __init__(self):\n",
    "        self._mailbox = Queue()\n",
    "        \n",
    "    def send(self,msg):\n",
    "        '''\n",
    "        Send a message to the actor\n",
    "        '''\n",
    "        self._mailbox.put(msg)\n",
    "        \n",
    "    def recv(self):\n",
    "        '''\n",
    "        Receive an incoming message\n",
    "        '''\n",
    "        msg = self._mailbox.get()\n",
    "        if msg is ActorExit:\n",
    "            raise ActorExit()\n",
    "        return msg\n",
    "    \n",
    "    def close(self):\n",
    "        '''\n",
    "        Close the actor, thus shutting it down\n",
    "        '''\n",
    "        self.send(ActorExit)\n",
    "        \n",
    "    def start(self):\n",
    "        '''\n",
    "        Start concurrent execution\n",
    "        '''\n",
    "        self._terminated = Event()\n",
    "        t = Thread(target=self._bootstrap)\n",
    "        \n",
    "        t.daemon = True\n",
    "        t.start()\n",
    "        \n",
    "    def _bootstrap(self):\n",
    "        try:\n",
    "            self.run()\n",
    "        except ActorExit:\n",
    "            pass\n",
    "        finally:\n",
    "            self._terminated.set()\n",
    "            \n",
    "    def join(self):\n",
    "        self._terminated.wait()\n",
    "        \n",
    "    def run(self):\n",
    "        '''\n",
    "        Run method to be implemented by the user\n",
    "        '''\n",
    "        while True:\n",
    "            msg = self.recv()"
   ]
  },
  {
   "cell_type": "code",
   "execution_count": 4,
   "metadata": {},
   "outputs": [],
   "source": [
    "# Sample ActorTask\n",
    "class PrintActor(Actor):\n",
    "    def run(self):\n",
    "        while True:\n",
    "            msg = self.recv()\n",
    "            print('Got:',msg)"
   ]
  },
  {
   "cell_type": "markdown",
   "metadata": {},
   "source": [
    "```python\n",
    "# Sample use\n",
    "p = PrintActor()\n",
    "p.start()\n",
    "p.send('Hello')\n",
    "p.send('World')\n",
    "p.close()\n",
    "p.join()\n",
    "```"
   ]
  },
  {
   "cell_type": "markdown",
   "metadata": {},
   "source": [
    "这个例子中，你使用actor实例的 send() 方法发送消息给它们。 其机制是，这个方法会将消息放入一个队里中， 然后将其转交给处理被接受消息的一个内部线程。 close() 方法通过在队列中放入一个特殊的哨兵值（ActorExit）来关闭这个actor。 用户可以通过继承Actor并定义实现自己处理逻辑run()方法来定义新的actor。 ActorExit 异常的使用就是用户自定义代码可以在需要的时候来捕获终止请求 （异常被get()方法抛出并传播出去）。\n",
    "\n",
    "如果你放宽对于同步和异步消息发送的要求， 类actor对象还可以通过生成器来简化定义。例如："
   ]
  },
  {
   "cell_type": "code",
   "execution_count": 5,
   "metadata": {},
   "outputs": [],
   "source": [
    "def print_actor():\n",
    "    while True:\n",
    "\n",
    "        try:\n",
    "            msg = yield      # Get a message\n",
    "            print('Got:', msg)\n",
    "        except GeneratorExit:\n",
    "            print('Actor terminating')"
   ]
  },
  {
   "cell_type": "code",
   "execution_count": 6,
   "metadata": {},
   "outputs": [],
   "source": [
    "p = print_actor()"
   ]
  },
  {
   "cell_type": "code",
   "execution_count": 7,
   "metadata": {},
   "outputs": [],
   "source": [
    "next(p)"
   ]
  },
  {
   "cell_type": "code",
   "execution_count": 8,
   "metadata": {},
   "outputs": [
    {
     "name": "stdout",
     "output_type": "stream",
     "text": [
      "Got: Hello\n"
     ]
    }
   ],
   "source": [
    "p.send('Hello')"
   ]
  },
  {
   "cell_type": "code",
   "execution_count": 9,
   "metadata": {},
   "outputs": [
    {
     "name": "stdout",
     "output_type": "stream",
     "text": [
      "Got: World\n"
     ]
    }
   ],
   "source": [
    "p.send('World')"
   ]
  },
  {
   "cell_type": "code",
   "execution_count": 10,
   "metadata": {},
   "outputs": [
    {
     "name": "stdout",
     "output_type": "stream",
     "text": [
      "Actor terminating\n"
     ]
    },
    {
     "ename": "RuntimeError",
     "evalue": "generator ignored GeneratorExit",
     "output_type": "error",
     "traceback": [
      "\u001b[1;31m---------------------------------------------------------------------------\u001b[0m",
      "\u001b[1;31mRuntimeError\u001b[0m                              Traceback (most recent call last)",
      "\u001b[1;32m<ipython-input-10-ac75996ddcd6>\u001b[0m in \u001b[0;36m<module>\u001b[1;34m\u001b[0m\n\u001b[1;32m----> 1\u001b[1;33m \u001b[0mp\u001b[0m\u001b[1;33m.\u001b[0m\u001b[0mclose\u001b[0m\u001b[1;33m(\u001b[0m\u001b[1;33m)\u001b[0m\u001b[1;33m\u001b[0m\u001b[1;33m\u001b[0m\u001b[0m\n\u001b[0m",
      "\u001b[1;31mRuntimeError\u001b[0m: generator ignored GeneratorExit"
     ]
    }
   ],
   "source": [
    "p.close()"
   ]
  },
  {
   "cell_type": "markdown",
   "metadata": {},
   "source": [
    "## 讨论\n",
    "actor模式的魅力就在于它的简单性。 实际上，这里仅仅只有一个核心操作 send() . 甚至，对于在基于actor系统中的“消息”的泛化概念可以已多种方式被扩展。 例如，你可以以元组形式传递标签消息，让actor执行不同的操作，如下："
   ]
  },
  {
   "cell_type": "markdown",
   "metadata": {},
   "source": [
    "```python\n",
    "class TaggedActor(Actor):\n",
    "    def run(self):\n",
    "        while True:\n",
    "             tag, *payload = self.recv()\n",
    "             getattr(self,'do_'+tag)(*payload)\n",
    "\n",
    "    # Methods correponding to different message tags\n",
    "    def do_A(self, x):\n",
    "        print('Running A', x)\n",
    "\n",
    "    def do_B(self, x, y):\n",
    "        print('Running B', x, y)\n",
    "\n",
    "# Example\n",
    "a = TaggedActor()\n",
    "a.start()\n",
    "a.send(('A', 1))      # Invokes do_A(1)\n",
    "a.send(('B', 2, 3))   # Invokes do_B(2,3)\n",
    "a.close()\n",
    "a.join()\n",
    "```"
   ]
  },
  {
   "cell_type": "markdown",
   "metadata": {},
   "source": [
    "作为另外一个例子，下面的actor允许在一个工作者中运行任意的函数， 并且通过一个特殊的Result对象返回结果："
   ]
  },
  {
   "cell_type": "markdown",
   "metadata": {},
   "source": [
    "```python\n",
    "from threading import Event\n",
    "class Result:\n",
    "    def __init__(self):\n",
    "        self._evt = Event()\n",
    "        self._result = None\n",
    "\n",
    "    def set_result(self, value):\n",
    "        self._result = value\n",
    "\n",
    "        self._evt.set()\n",
    "\n",
    "    def result(self):\n",
    "        self._evt.wait()\n",
    "        return self._result\n",
    "\n",
    "class Worker(Actor):\n",
    "    def submit(self, func, *args, **kwargs):\n",
    "        r = Result()\n",
    "        self.send((func, args, kwargs, r))\n",
    "        return r\n",
    "\n",
    "    def run(self):\n",
    "        while True:\n",
    "            func, args, kwargs, r = self.recv()\n",
    "            r.set_result(func(*args, **kwargs))\n",
    "\n",
    "# Example use\n",
    "worker = Worker()\n",
    "worker.start()\n",
    "r = worker.submit(pow, 2, 3)\n",
    "worker.close()\n",
    "worker.join()\n",
    "print(r.result())\n",
    "```"
   ]
  },
  {
   "cell_type": "markdown",
   "metadata": {},
   "source": [
    "最后，“发送”一个任务消息的概念可以被扩展到多进程甚至是大型分布式系统中去。 例如，一个类actor对象的 send() 方法可以被编程让它能在一个套接字连接上传输数据 或通过某些消息中间件（比如AMQP、ZMQ等）来发送。"
   ]
  },
  {
   "cell_type": "code",
   "execution_count": null,
   "metadata": {},
   "outputs": [],
   "source": []
  }
 ],
 "metadata": {
  "kernelspec": {
   "display_name": "Python 3",
   "language": "python",
   "name": "python3"
  },
  "language_info": {
   "codemirror_mode": {
    "name": "ipython",
    "version": 3
   },
   "file_extension": ".py",
   "mimetype": "text/x-python",
   "name": "python",
   "nbconvert_exporter": "python",
   "pygments_lexer": "ipython3",
   "version": "3.7.6"
  }
 },
 "nbformat": 4,
 "nbformat_minor": 4
}
