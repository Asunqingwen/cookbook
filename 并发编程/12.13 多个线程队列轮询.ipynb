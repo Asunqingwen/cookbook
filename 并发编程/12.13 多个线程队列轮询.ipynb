{
 "cells": [
  {
   "cell_type": "markdown",
   "metadata": {},
   "source": [
    "## 问题\n",
    "你有一个线程队列集合，想为到来的元素轮询它们， 就跟你为一个客户端请求去轮询一个网络连接集合的方式一样。\n",
    "\n",
    "## 解决方案\n",
    "对于轮询问题的一个常见解决方案中有个很少有人知道的技巧，包含了一个隐藏的回路网络连接。 本质上讲其思想就是：对于每个你想要轮询的队列，你创建一对连接的套接字。 然后你在其中一个套接字上面编写代码来标识存在的数据， 另外一个套接字被传给 select() 或类似的一个轮询数据到达的函数。下面的例子演示了这个思想："
   ]
  },
  {
   "cell_type": "code",
   "execution_count": 1,
   "metadata": {},
   "outputs": [],
   "source": [
    "import queue\n",
    "import socket\n",
    "import os"
   ]
  },
  {
   "cell_type": "code",
   "execution_count": 2,
   "metadata": {},
   "outputs": [],
   "source": [
    "class PollableQueue():\n",
    "    def __init__(self):\n",
    "        super().__init__()\n",
    "        # Create a pair of connected sockets\n",
    "        if os.name == 'posix':\n",
    "            self._putsocket,self._getsocket = socket.socketpair()\n",
    "        else:\n",
    "            # Compatibility on non-POSIX systems\n",
    "            server = socket.socket(socket.AF_INET,socket.SOCK_STREAM)\n",
    "            server.bind(('127.0.0.1',0))\n",
    "            server.listen(1)\n",
    "            self._putsocket = socket.socket(socket.AF_INET,socket.SOCK_STREAM)\n",
    "            self._putsocket.connect(server.getsockname())\n",
    "            self._getsocket,_ = server.accept()\n",
    "            server.close()\n",
    "            \n",
    "    def fileno(self):\n",
    "        return self._getsocket.fileno()\n",
    "    \n",
    "    def put(self,item):\n",
    "        super().put(item)\n",
    "        self._putsocket.send(b'x')\n",
    "        \n",
    "    def get(self):\n",
    "        self._getsocket.recv(1)\n",
    "        return super().get()"
   ]
  },
  {
   "cell_type": "markdown",
   "metadata": {},
   "source": [
    "在这个代码中，一个新的 Queue 实例类型被定义，底层是一个被连接套接字对。 在Unix机器上的 socketpair() 函数能轻松的创建这样的套接字。 在Windows上面，你必须使用类似代码来模拟它。 然后定义普通的 get() 和 put() 方法在这些套接字上面来执行I/O操作。 put() 方法再将数据放入队列后会写一个单字节到某个套接字中去。 而 get() 方法在从队列中移除一个元素时会从另外一个套接字中读取到这个单字节数据。\n",
    "\n",
    "fileno() 方法使用一个函数比如 select() 来让这个队列可以被轮询。 它仅仅只是暴露了底层被 get() 函数使用到的socket的文件描述符而已。\n",
    "\n",
    "下面是一个例子，定义了一个为到来的元素监控多个队列的消费者："
   ]
  },
  {
   "cell_type": "markdown",
   "metadata": {},
   "source": [
    "```python\n",
    "import select\n",
    "import threading\n",
    "\n",
    "def consumer(queues):\n",
    "    '''\n",
    "    Consumer that reads data on multiple queues simultaneously\n",
    "    '''\n",
    "    while True:\n",
    "        can_read, _, _ = select.select(queues,[],[])\n",
    "        for r in can_read:\n",
    "            item = r.get()\n",
    "            print('Got:', item)\n",
    "\n",
    "q1 = PollableQueue()\n",
    "q2 = PollableQueue()\n",
    "q3 = PollableQueue()\n",
    "t = threading.Thread(target=consumer, args=([q1,q2,q3],))\n",
    "t.daemon = True\n",
    "t.start()\n",
    "\n",
    "# Feed data to the queues\n",
    "q1.put(1)\n",
    "q2.put(10)\n",
    "q3.put('hello')\n",
    "q2.put(15)\n",
    "...\n",
    "```"
   ]
  },
  {
   "cell_type": "markdown",
   "metadata": {},
   "source": [
    "如果你试着运行它，你会发现这个消费者会接受到所有的被放入的元素，不管元素被放进了哪个队列中。"
   ]
  },
  {
   "cell_type": "markdown",
   "metadata": {},
   "source": [
    "## 讨论\n",
    "对于轮询非类文件对象，比如队列通常都是比较棘手的问题。 例如，如果你不使用上面的套接字技术， 你唯一的选择就是编写代码来循环遍历这些队列并使用一个定时器。像下面这样："
   ]
  },
  {
   "cell_type": "code",
   "execution_count": 4,
   "metadata": {},
   "outputs": [],
   "source": [
    "import time\n",
    "def consumer(queues):\n",
    "    while True:\n",
    "        for q in queues:\n",
    "            if not q.empty():\n",
    "                item = q.get()\n",
    "                print('Got:', item)\n",
    "\n",
    "        # Sleep briefly to avoid 100% CPU\n",
    "        time.sleep(0.01)"
   ]
  },
  {
   "cell_type": "markdown",
   "metadata": {},
   "source": [
    "这样做其实不合理，还会引入其他的性能问题。 例如，如果新的数据被加入到一个队列中，至少要花10毫秒才能被发现。 如果你之前的轮询还要去轮询其他对象，比如网络套接字那还会有更多问题。 例如，如果你想同时轮询套接字和队列，你可能要像下面这样使用："
   ]
  },
  {
   "cell_type": "code",
   "execution_count": 5,
   "metadata": {},
   "outputs": [],
   "source": [
    "import select\n",
    "\n",
    "def event_loop(sockets, queues):\n",
    "    while True:\n",
    "        # polling with a timeout\n",
    "        can_read, _, _ = select.select(sockets, [], [], 0.01)\n",
    "        for r in can_read:\n",
    "            handle_read(r)\n",
    "        for q in queues:\n",
    "            if not q.empty():\n",
    "                item = q.get()\n",
    "                print('Got:', item)"
   ]
  },
  {
   "cell_type": "markdown",
   "metadata": {},
   "source": [
    "这个方案通过将队列和套接字等同对待来解决了大部分的问题。 一个单独的 select() 调用可被同时用来轮询。 使用超时或其他基于时间的机制来执行周期性检查并没有必要。 甚至，如果数据被加入到一个队列，消费者几乎可以实时的被通知。 尽管会有一点点底层的I/O损耗，使用它通常会获得更好的响应时间并简化编程。"
   ]
  },
  {
   "cell_type": "code",
   "execution_count": null,
   "metadata": {},
   "outputs": [],
   "source": []
  },
  {
   "cell_type": "code",
   "execution_count": null,
   "metadata": {},
   "outputs": [],
   "source": []
  }
 ],
 "metadata": {
  "kernelspec": {
   "display_name": "Python 3",
   "language": "python",
   "name": "python3"
  },
  "language_info": {
   "codemirror_mode": {
    "name": "ipython",
    "version": 3
   },
   "file_extension": ".py",
   "mimetype": "text/x-python",
   "name": "python",
   "nbconvert_exporter": "python",
   "pygments_lexer": "ipython3",
   "version": "3.7.6"
  }
 },
 "nbformat": 4,
 "nbformat_minor": 4
}
