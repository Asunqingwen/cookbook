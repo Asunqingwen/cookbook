{
 "cells": [
  {
   "cell_type": "markdown",
   "metadata": {},
   "source": [
    "## 问题\n",
    "你想解析某个XML文档，文档中使用了XML命名空间。\n",
    "## 解决方案\n",
    "考虑下面这个使用了命名空间的文档：\n",
    "```xml\n",
    "<?xml version=\"1.0\" encoding=\"utf-8\"?>\n",
    "<top>\n",
    "    <author>David Beazley</author>\n",
    "    <content>\n",
    "        <html xmlns=\"http://www.w3.org/1999/xhtml\">\n",
    "            <head>\n",
    "                <title>Hello World</title>\n",
    "            </head>\n",
    "            <body>\n",
    "                <h1>Hello World!</h1>\n",
    "            </body>\n",
    "        </html>\n",
    "    </content>\n",
    "</top>\n",
    "```"
   ]
  },
  {
   "cell_type": "markdown",
   "metadata": {},
   "source": [
    "如果你解析这个文档并执行普通的查询，你会发现这个并不是那么容易，因为所有步骤都变得相当的繁琐。"
   ]
  },
  {
   "cell_type": "markdown",
   "metadata": {},
   "source": [
    "```python\n",
    ">>> # Some queries that work\n",
    ">>> doc.findtext('author')\n",
    "'David Beazley'\n",
    ">>> doc.find('content')\n",
    "<Element 'content' at 0x100776ec0>\n",
    ">>> # A query involving a namespace (doesn't work)\n",
    ">>> doc.find('content/html')\n",
    ">>> # Works if fully qualified\n",
    ">>> doc.find('content/{http://www.w3.org/1999/xhtml}html')\n",
    "<Element '{http://www.w3.org/1999/xhtml}html' at 0x1007767e0>\n",
    ">>> # Doesn't work\n",
    ">>> doc.findtext('content/{http://www.w3.org/1999/xhtml}html/head/title')\n",
    ">>> # Fully qualified\n",
    ">>> doc.findtext('content/{http://www.w3.org/1999/xhtml}html/'\n",
    "... '{http://www.w3.org/1999/xhtml}head/{http://www.w3.org/1999/xhtml}title')\n",
    "'Hello World'\n",
    ">>>\n",
    "```"
   ]
  },
  {
   "cell_type": "markdown",
   "metadata": {},
   "source": [
    "你可以通过将命名空间处理逻辑包装为一个工具类来简化这个过程："
   ]
  },
  {
   "cell_type": "markdown",
   "metadata": {},
   "source": [
    "```python\n",
    "class XMLNamespaces:\n",
    "    def __init__(self, **kwargs):\n",
    "        self.namespaces = {}\n",
    "        for name, uri in kwargs.items():\n",
    "            self.register(name, uri)\n",
    "    def register(self, name, uri):\n",
    "        self.namespaces[name] = '{'+uri+'}'\n",
    "    def __call__(self, path):\n",
    "        return path.format_map(self.namespaces)\n",
    "```"
   ]
  },
  {
   "cell_type": "markdown",
   "metadata": {},
   "source": [
    "通过下面的方式使用这个类："
   ]
  },
  {
   "cell_type": "markdown",
   "metadata": {},
   "source": [
    "```python\n",
    ">>> ns = XMLNamespaces(html='http://www.w3.org/1999/xhtml')\n",
    ">>> doc.find(ns('content/{html}html'))\n",
    "<Element '{http://www.w3.org/1999/xhtml}html' at 0x1007767e0>\n",
    ">>> doc.findtext(ns('content/{html}html/{html}head/{html}title'))\n",
    "'Hello World'\n",
    ">>>\n",
    "```"
   ]
  },
  {
   "cell_type": "markdown",
   "metadata": {},
   "source": [
    "## 讨论\n",
    "解析含有命名空间的XML文档会比较繁琐。 上面的 XMLNamespaces 仅仅是允许你使用缩略名代替完整的URI将其变得稍微简洁一点。\n",
    "\n",
    "很不幸的是，在基本的 ElementTree 解析中没有任何途径获取命名空间的信息。 但是，如果你使用 iterparse() 函数的话就可以获取更多关于命名空间处理范围的信息。例如："
   ]
  },
  {
   "cell_type": "markdown",
   "metadata": {},
   "source": [
    "```python\n",
    ">>> from xml.etree.ElementTree import iterparse\n",
    ">>> for evt, elem in iterparse('ns2.xml', ('end', 'start-ns', 'end-ns')):\n",
    "... print(evt, elem)\n",
    "...\n",
    "end <Element 'author' at 0x10110de10>\n",
    "start-ns ('', 'http://www.w3.org/1999/xhtml')\n",
    "end <Element '{http://www.w3.org/1999/xhtml}title' at 0x1011131b0>\n",
    "end <Element '{http://www.w3.org/1999/xhtml}head' at 0x1011130a8>\n",
    "end <Element '{http://www.w3.org/1999/xhtml}h1' at 0x101113310>\n",
    "end <Element '{http://www.w3.org/1999/xhtml}body' at 0x101113260>\n",
    "end <Element '{http://www.w3.org/1999/xhtml}html' at 0x10110df70>\n",
    "end-ns None\n",
    "end <Element 'content' at 0x10110de68>\n",
    "end <Element 'top' at 0x10110dd60>\n",
    ">>> elem # This is the topmost element\n",
    "<Element 'top' at 0x10110dd60>\n",
    ">>>\n",
    "```"
   ]
  },
  {
   "cell_type": "markdown",
   "metadata": {},
   "source": [
    "最后一点，如果你要处理的XML文本除了要使用到其他高级XML特性外，还要使用到命名空间， 建议你最好是使用 lxml 函数库来代替 ElementTree 。 例如，lxml 对利用DTD验证文档、更好的XPath支持和一些其他高级XML特性等都提供了更好的支持。 这一小节其实只是教你如何让XML解析稍微简单一点。"
   ]
  },
  {
   "cell_type": "code",
   "execution_count": null,
   "metadata": {},
   "outputs": [],
   "source": []
  },
  {
   "cell_type": "code",
   "execution_count": null,
   "metadata": {},
   "outputs": [],
   "source": []
  },
  {
   "cell_type": "code",
   "execution_count": null,
   "metadata": {},
   "outputs": [],
   "source": []
  }
 ],
 "metadata": {
  "kernelspec": {
   "display_name": "Python 3",
   "language": "python",
   "name": "python3"
  },
  "language_info": {
   "codemirror_mode": {
    "name": "ipython",
    "version": 3
   },
   "file_extension": ".py",
   "mimetype": "text/x-python",
   "name": "python",
   "nbconvert_exporter": "python",
   "pygments_lexer": "ipython3",
   "version": "3.7.6"
  }
 },
 "nbformat": 4,
 "nbformat_minor": 4
}
