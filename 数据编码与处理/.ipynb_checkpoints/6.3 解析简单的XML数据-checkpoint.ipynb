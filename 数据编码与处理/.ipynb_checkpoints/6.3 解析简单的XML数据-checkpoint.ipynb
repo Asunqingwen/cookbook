{
 "cells": [
  {
   "cell_type": "markdown",
   "metadata": {},
   "source": [
    "## 问题\n",
    "你想从一个简单的XML文档中提取数据。\n",
    "## 解决方案\n",
    "可以使用 **xml.etree.ElementTree 模块**从简单的XML文档中提取数据。 为了演示，假设你想解析Planet Python上的RSS源。下面是相应的代码："
   ]
  },
  {
   "cell_type": "code",
   "execution_count": 1,
   "metadata": {},
   "outputs": [],
   "source": [
    "from urllib.request import urlopen\n",
    "from xml.etree.ElementTree import parse"
   ]
  },
  {
   "cell_type": "code",
   "execution_count": 2,
   "metadata": {},
   "outputs": [],
   "source": [
    "# Download the RSS feed and parse it\n",
    "u = urlopen('http://planet.python.org/rss20.xml')\n",
    "doc = parse(u)"
   ]
  },
  {
   "cell_type": "code",
   "execution_count": 3,
   "metadata": {},
   "outputs": [
    {
     "name": "stdout",
     "output_type": "stream",
     "text": [
      "<xml.etree.ElementTree.ElementTree object at 0x000001AFF579C348>\n"
     ]
    }
   ],
   "source": [
    "print(doc)"
   ]
  },
  {
   "cell_type": "code",
   "execution_count": 6,
   "metadata": {},
   "outputs": [
    {
     "name": "stdout",
     "output_type": "stream",
     "text": [
      "Gocept Weblog: Presentation: We have nearly one million lines of Python 2 code in production — and now?\n",
      "Mon, 21 Sep 2020 05:48:27 +0000\n",
      "https://blog.gocept.com/2020/09/03/presentation-we-have-nearly-one-million-lines-of-python-2-code-in-production-and-now/\n",
      "\n",
      "Mike Driscoll: PyDev of the Week: Jim Anderson\n",
      "Mon, 21 Sep 2020 05:05:39 +0000\n",
      "https://www.blog.pythonlibrary.org/2020/09/21/pydev-of-the-week-jim-anderson/\n",
      "\n",
      "Ned Batchelder: Scriv\n",
      "Sun, 20 Sep 2020 22:43:55 +0000\n",
      "https://nedbatchelder.com//blog/202009/scriv.html\n",
      "\n",
      "John Cook: Searching Greek and Hebrew with regular expressions\n",
      "Sun, 20 Sep 2020 21:13:38 +0000\n",
      "https://www.johndcook.com/blog/2020/09/20/unicode-regex/\n",
      "\n",
      "John Cook: Descartes and Toolz\n",
      "Sun, 20 Sep 2020 15:22:47 +0000\n",
      "https://www.johndcook.com/blog/2020/09/20/descartes-and-toolz/\n",
      "\n",
      "Kodnito: Tweet from Django application using Tweepy\n",
      "Sun, 20 Sep 2020 12:25:17 +0000\n",
      "https://kodnito.com/posts/tweet-django-application-using-tweepy/\n",
      "\n",
      "Evennia: Creating Evscaperoom, part 2\n",
      "Sun, 20 Sep 2020 10:39:59 +0000\n",
      "http://evennia.blogspot.com/2019/05/creating-evscaperoom-part-2.html\n",
      "\n",
      "Evennia: Creating Evscaperoom, part 1\n",
      "Sun, 20 Sep 2020 10:39:59 +0000\n",
      "http://evennia.blogspot.com/2019/05/creating-evscaperoom-part-1.html\n",
      "\n",
      "\"CodersLegacy\": What are Dependencies in Programming\n",
      "Sun, 20 Sep 2020 07:50:53 +0000\n",
      "https://coderslegacy.com/what-are-dependencies-in-programming/\n",
      "\n",
      "IslandT: Create the function which converts a given string into an md5 hash and return the value in the hexadecimal format\n",
      "Sun, 20 Sep 2020 04:58:39 +0000\n",
      "https://kibiwebgeek.com/create-the-function-which-converts-a-given-string-into-an-md5-hash-and-return-the-value-in-the-hexadecimal-format/\n",
      "\n",
      "ListenData: How to rename columns in Pandas Dataframe\n",
      "Sun, 20 Sep 2020 01:46:00 +0000\n",
      "https://www.listendata.com/2020/09/How-to-rename-columns-in-Pandas.html\n",
      "\n",
      "Brett Cannon: Unravelling unary arithmetic operators\n",
      "Sun, 20 Sep 2020 00:51:37 +0000\n",
      "https://snarky.ca/unravelling-unary-arithmetic-operators/\n",
      "\n",
      "Doug Hellmann: sphinxcontrib.datatemplates 0.7.0\n",
      "Sat, 19 Sep 2020 13:19:51 +0000\n",
      "http://feeds.doughellmann.com/~r/doughellmann/python/~3/w3jarj8Ol3M/\n",
      "\n",
      "ListenData: Python : 10 Ways to Filter Pandas DataFrame\n",
      "Sat, 19 Sep 2020 09:13:59 +0000\n",
      "https://www.listendata.com/2019/07/how-to-filter-pandas-dataframe.html\n",
      "\n",
      "Catalin George Festila: Python 3.8.5 : Linked List - part 001.\n",
      "Sat, 19 Sep 2020 02:52:13 +0000\n",
      "http://python-catalin.blogspot.com/2020/09/python-385-linked-list-part-001.html\n",
      "\n",
      "Catalin George Festila: Python 3.8.5 : Testing with openpyxl - part 002 .\n",
      "Sat, 19 Sep 2020 01:46:58 +0000\n",
      "http://python-catalin.blogspot.com/2020/08/python-385-testing-with-openpyxl-parts_30.html\n",
      "\n",
      "Catalin George Festila: Python 3.8.5 : Testing with openpyxl - part 001 .\n",
      "Sat, 19 Sep 2020 01:46:51 +0000\n",
      "http://python-catalin.blogspot.com/2020/08/python-385-testing-with-openpyxl-parts.html\n",
      "\n",
      "Catalin George Festila: Python 3.8.5 : Testing the pyre tool  - part 001.\n",
      "Sat, 19 Sep 2020 01:46:42 +0000\n",
      "http://python-catalin.blogspot.com/2020/08/python-385-testing-pyre-tool-parts-001.html\n",
      "\n",
      "Catalin George Festila: Python 3.8.5 : The hashlib python package - part 001.\n",
      "Sat, 19 Sep 2020 01:46:34 +0000\n",
      "http://python-catalin.blogspot.com/2020/08/python-385-hashlib-python-package-parts.html\n",
      "\n",
      "Catalin George Festila: Python 3.6.9 : My colab tutorials - part 008.\n",
      "Sat, 19 Sep 2020 01:46:24 +0000\n",
      "http://python-catalin.blogspot.com/2020/08/python-369-my-colab-tutorials-parts-008.html\n",
      "\n",
      "Stack Abuse: Kernel Density Estimation in Python Using Scikit-Learn\n",
      "Fri, 18 Sep 2020 17:40:00 +0000\n",
      "https://stackabuse.com/kernel-density-estimation-in-python-using-sckiti-learn/\n",
      "\n",
      "Real Python: The Real Python Podcast – Episode #27: Preparing for an Interview With Python Practice Problems\n",
      "Fri, 18 Sep 2020 12:00:00 +0000\n",
      "https://realpython.com/podcasts/rpp/27/\n",
      "\n",
      "Andrew Dalke: Handling the SDF record delimiter\n",
      "Fri, 18 Sep 2020 12:00:00 +0000\n",
      "http://www.dalkescientific.com/writings/diary/archive/2020/09/18/handling_the_sdf_record_delimiter.html\n",
      "\n",
      "Codementor: I Want to Learn Programming but I Don’t Know Where to Start\n",
      "Fri, 18 Sep 2020 10:48:10 +0000\n",
      "https://www.codementor.io/johnselawsky/i-want-to-learn-programming-but-i-don-t-know-where-to-start-1ae8ef2rmd\n",
      "\n",
      "Kodnito: Django Authentication With GitHub\n",
      "Thu, 17 Sep 2020 19:35:06 +0000\n",
      "https://kodnito.com/posts/django-authentication-github/\n",
      "\n"
     ]
    }
   ],
   "source": [
    "# Extract and output tags of interest\n",
    "for item in doc.iterfind('channel/item'):\n",
    "    title = item.findtext('title')\n",
    "    date = item.findtext('pubDate')\n",
    "    link = item.findtext('link')\n",
    "    print(title)\n",
    "    print(date)\n",
    "    print(link)\n",
    "    print()"
   ]
  },
  {
   "cell_type": "markdown",
   "metadata": {},
   "source": [
    "很显然，如果你想做进一步的处理，你需要替换 print() 语句来完成其他有趣的事。"
   ]
  },
  {
   "cell_type": "markdown",
   "metadata": {},
   "source": [
    "## 讨论\n",
    "在很多应用程序中处理XML编码格式的数据是很常见的。 不仅因为XML在Internet上面已经被广泛应用于数据交换， 同时它也是一种存储应用程序数据的常用格式(比如字处理，音乐库等)。 接下来的讨论会先假定读者已经对XML基础比较熟悉了。\n",
    "\n",
    "在很多情况下，当使用XML来仅仅存储数据的时候，对应的文档结构非常紧凑并且直观。 例如，上面例子中的RSS订阅源类似于下面的格式：\n",
    "```xml\n",
    "<?xml version=\"1.0\"?>\n",
    "<rss version=\"2.0\" xmlns:dc=\"http://purl.org/dc/elements/1.1/\">\n",
    "    <channel>\n",
    "        <title>Planet Python</title>\n",
    "        <link>http://planet.python.org/</link>\n",
    "        <language>en</language>\n",
    "        <description>Planet Python - http://planet.python.org/</description>\n",
    "        <item>\n",
    "            <title>Steve Holden: Python for Data Analysis</title>\n",
    "            <guid>http://holdenweb.blogspot.com/...-data-analysis.html</guid>\n",
    "            <link>http://holdenweb.blogspot.com/...-data-analysis.html</link>\n",
    "            <description>...</description>\n",
    "            <pubDate>Mon, 19 Nov 2012 02:13:51 +0000</pubDate>\n",
    "        </item>\n",
    "        <item>\n",
    "            <title>Vasudev Ram: The Python Data model (for v2 and v3)</title>\n",
    "            <guid>http://jugad2.blogspot.com/...-data-model.html</guid>\n",
    "            <link>http://jugad2.blogspot.com/...-data-model.html</link>\n",
    "            <description>...</description>\n",
    "            <pubDate>Sun, 18 Nov 2012 22:06:47 +0000</pubDate>\n",
    "        </item>\n",
    "        <item>\n",
    "            <title>Python Diary: Been playing around with Object Databases</title>\n",
    "            <guid>http://www.pythondiary.com/...-object-databases.html</guid>\n",
    "            <link>http://www.pythondiary.com/...-object-databases.html</link>\n",
    "            <description>...</description>\n",
    "            <pubDate>Sun, 18 Nov 2012 20:40:29 +0000</pubDate>\n",
    "        </item>\n",
    "        ...\n",
    "    </channel>\n",
    "</rss>\n",
    "```"
   ]
  },
  {
   "cell_type": "markdown",
   "metadata": {},
   "source": [
    "xml.etree.ElementTree.parse() 函数解析整个XML文档并将其转换成一个文档对象。 然后，你就能使用 find() 、iterfind() 和 findtext() 等方法来搜索特定的XML元素了。 这些函数的参数就是某个指定的标签名，例如 channel/item 或 title 。\n",
    "\n",
    "每次指定某个标签时，你需要遍历整个文档结构。每次搜索操作会从一个起始元素开始进行。 同样，每次操作所指定的标签名也是起始元素的相对路径。 例如，执行 doc.iterfind('channel/item') 来搜索所有在 channel 元素下面的 item 元素。 doc 代表文档的最顶层(也就是第一级的 rss 元素)。 然后接下来的调用 item.findtext() 会从已找到的 item 元素位置开始搜索。\n",
    "\n",
    "ElementTree 模块中的每个元素有一些重要的属性和方法，在解析的时候非常有用。 tag 属性包含了标签的名字，text 属性包含了内部的文本，而 get() 方法能获取属性值。例如："
   ]
  },
  {
   "cell_type": "code",
   "execution_count": 7,
   "metadata": {},
   "outputs": [
    {
     "data": {
      "text/plain": [
       "<xml.etree.ElementTree.ElementTree at 0x1aff579c348>"
      ]
     },
     "execution_count": 7,
     "metadata": {},
     "output_type": "execute_result"
    }
   ],
   "source": [
    "doc"
   ]
  },
  {
   "cell_type": "code",
   "execution_count": 8,
   "metadata": {},
   "outputs": [],
   "source": [
    "e = doc.find('channel/title')"
   ]
  },
  {
   "cell_type": "code",
   "execution_count": 9,
   "metadata": {},
   "outputs": [
    {
     "data": {
      "text/plain": [
       "<Element 'title' at 0x000001AFF5490598>"
      ]
     },
     "execution_count": 9,
     "metadata": {},
     "output_type": "execute_result"
    }
   ],
   "source": [
    "e"
   ]
  },
  {
   "cell_type": "code",
   "execution_count": 10,
   "metadata": {},
   "outputs": [
    {
     "data": {
      "text/plain": [
       "'title'"
      ]
     },
     "execution_count": 10,
     "metadata": {},
     "output_type": "execute_result"
    }
   ],
   "source": [
    "e.tag"
   ]
  },
  {
   "cell_type": "code",
   "execution_count": 11,
   "metadata": {},
   "outputs": [
    {
     "data": {
      "text/plain": [
       "'Planet Python'"
      ]
     },
     "execution_count": 11,
     "metadata": {},
     "output_type": "execute_result"
    }
   ],
   "source": [
    "e.text"
   ]
  },
  {
   "cell_type": "markdown",
   "metadata": {},
   "source": [
    "```python\n",
    ">>> e.get('some_attribute')\n",
    ">>>\n",
    "```"
   ]
  },
  {
   "cell_type": "markdown",
   "metadata": {},
   "source": [
    "有一点要强调的是 xml.etree.ElementTree 并不是XML解析的唯一方法。 对于更高级的应用程序，你需要考虑**使用 lxml** 。 它使用了和ElementTree同样的编程接口，因此上面的例子同样也适用于lxml。 你只需要将刚开始的import语句换成 from lxml.etree import parse 就行了。 lxml 完全遵循XML标准，并且速度也非常快，同时还支持验证，XSLT，和XPath等特性。"
   ]
  },
  {
   "cell_type": "code",
   "execution_count": null,
   "metadata": {},
   "outputs": [],
   "source": []
  },
  {
   "cell_type": "code",
   "execution_count": null,
   "metadata": {},
   "outputs": [],
   "source": []
  }
 ],
 "metadata": {
  "kernelspec": {
   "display_name": "Python 3",
   "language": "python",
   "name": "python3"
  },
  "language_info": {
   "codemirror_mode": {
    "name": "ipython",
    "version": 3
   },
   "file_extension": ".py",
   "mimetype": "text/x-python",
   "name": "python",
   "nbconvert_exporter": "python",
   "pygments_lexer": "ipython3",
   "version": "3.7.6"
  }
 },
 "nbformat": 4,
 "nbformat_minor": 4
}
